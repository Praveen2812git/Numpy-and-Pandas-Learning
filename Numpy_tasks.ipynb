{
 "cells": [
  {
   "cell_type": "markdown",
   "metadata": {
    "id": "l0ZBa_qJ27DL"
   },
   "source": [
    "# Numpy\n",
    "\n"
   ]
  },
  {
   "cell_type": "markdown",
   "metadata": {
    "id": "oej8Edjt27DO"
   },
   "source": [
    "#### 1. Import the numpy package under the name `np` (★☆☆) \n",
    "(**hint**: import … as …)"
   ]
  },
  {
   "cell_type": "code",
   "execution_count": 1,
   "metadata": {
    "id": "ET3DSwfX27DP"
   },
   "outputs": [],
   "source": [
    "import numpy as np"
   ]
  },
  {
   "cell_type": "markdown",
   "metadata": {
    "id": "lQUAKWxM27DQ"
   },
   "source": [
    "#### 2. Print the numpy version and the configuration (★☆☆) \n",
    "(**hint**: np.\\_\\_version\\_\\_, np.show\\_config)"
   ]
  },
  {
   "cell_type": "code",
   "execution_count": 2,
   "metadata": {
    "id": "b02ynw1f27DQ"
   },
   "outputs": [
    {
     "name": "stdout",
     "output_type": "stream",
     "text": [
      "1.19.5\n",
      "<function show at 0x0000025DEA23ABF8>\n"
     ]
    }
   ],
   "source": [
    "print(np.__version__)\n",
    "print(np.show_config)"
   ]
  },
  {
   "cell_type": "markdown",
   "metadata": {
    "id": "nQ5DsgaV27DQ"
   },
   "source": [
    "#### 3. Create a null vector of size 10 (★☆☆) \n",
    "(**hint**: np.zeros)"
   ]
  },
  {
   "cell_type": "code",
   "execution_count": 3,
   "metadata": {
    "id": "5TUq1TDC27DR"
   },
   "outputs": [
    {
     "name": "stdout",
     "output_type": "stream",
     "text": [
      "[0. 0. 0. 0. 0. 0. 0. 0. 0. 0.]\n"
     ]
    }
   ],
   "source": [
    "nv = np.zeros(10)\n",
    "print(nv)"
   ]
  },
  {
   "cell_type": "markdown",
   "metadata": {
    "id": "uQ5B0mk027DS"
   },
   "source": [
    "#### 4.  How to find the memory size of any array (★☆☆) \n",
    "(**hint**: size, itemsize)"
   ]
  },
  {
   "cell_type": "code",
   "execution_count": 4,
   "metadata": {
    "id": "3_vc9KDw27DS"
   },
   "outputs": [
    {
     "name": "stdout",
     "output_type": "stream",
     "text": [
      "80 bytes\n"
     ]
    }
   ],
   "source": [
    "print(f'{nv.size * nv.itemsize} bytes')"
   ]
  },
  {
   "cell_type": "markdown",
   "metadata": {
    "id": "OggbBxVJ27DS"
   },
   "source": [
    "#### 5.  How to get the documentation of the numpy add function from the command line? (★☆☆) \n",
    "(**hint**: np.info)"
   ]
  },
  {
   "cell_type": "code",
   "execution_count": 6,
   "metadata": {
    "id": "Nym6qj2E27DT"
   },
   "outputs": [
    {
     "name": "stderr",
     "output_type": "stream",
     "text": [
      "ERROR:root:File `'`python.py'` not found.\n"
     ]
    }
   ],
   "source": [
    "%run `python -c \"import numpy; numpy.info(numpy.add)\"`"
   ]
  },
  {
   "cell_type": "markdown",
   "metadata": {
    "id": "2rO44J_I27DT"
   },
   "source": [
    "#### 6.  Create a null vector of size 10 but the fifth value which is 1 (★☆☆) \n",
    "(**hint**: array\\[4\\])"
   ]
  },
  {
   "cell_type": "code",
   "execution_count": 7,
   "metadata": {
    "id": "i2ZBkY5E27DT"
   },
   "outputs": [
    {
     "name": "stdout",
     "output_type": "stream",
     "text": [
      "[0. 0. 0. 0. 1. 0. 0. 0. 0. 0.]\n"
     ]
    }
   ],
   "source": [
    "nv1 = np.zeros(10)\n",
    "nv1[4] = 1\n",
    "print(nv1)"
   ]
  },
  {
   "cell_type": "markdown",
   "metadata": {
    "id": "f50DIyFE27DT"
   },
   "source": [
    "#### 7.  Create a vector with values ranging from 10 to 49 (★☆☆) \n",
    "(**hint**: np.arange)"
   ]
  },
  {
   "cell_type": "code",
   "execution_count": 8,
   "metadata": {
    "id": "T4jQhUnz27DU"
   },
   "outputs": [
    {
     "name": "stdout",
     "output_type": "stream",
     "text": [
      "[10 11 12 13 14 15 16 17 18 19 20 21 22 23 24 25 26 27 28 29 30 31 32 33\n",
      " 34 35 36 37 38 39 40 41 42 43 44 45 46 47 48 49]\n"
     ]
    }
   ],
   "source": [
    "v = np.arange(10,50)\n",
    "print(v)"
   ]
  },
  {
   "cell_type": "markdown",
   "metadata": {
    "id": "-SM00_0D27DU"
   },
   "source": [
    "#### 8.  Reverse a vector (first element becomes last) (★☆☆) \n",
    "(**hint**: array\\[::-1\\])"
   ]
  },
  {
   "cell_type": "code",
   "execution_count": 9,
   "metadata": {
    "id": "M2VIrq4g27DU"
   },
   "outputs": [
    {
     "name": "stdout",
     "output_type": "stream",
     "text": [
      "[49 48 47 46 45 44 43 42 41 40 39 38 37 36 35 34 33 32 31 30 29 28 27 26\n",
      " 25 24 23 22 21 20 19 18 17 16 15 14 13 12 11 10]\n"
     ]
    }
   ],
   "source": [
    "v = v[::-1]\n",
    "print(v)"
   ]
  },
  {
   "cell_type": "markdown",
   "metadata": {
    "id": "EJTzMJkO27DU"
   },
   "source": [
    "#### 9.  Create a 3x3 matrix with values ranging from 0 to 8 (★☆☆) \n",
    "(**hint**: reshape)"
   ]
  },
  {
   "cell_type": "code",
   "execution_count": 13,
   "metadata": {
    "id": "TEibgK9F27DU"
   },
   "outputs": [
    {
     "name": "stdout",
     "output_type": "stream",
     "text": [
      "[[0 1 2]\n",
      " [3 4 5]\n",
      " [6 7 8]]\n"
     ]
    }
   ],
   "source": [
    "m = np.arange(9).reshape(3, 3)\n",
    "print(m)"
   ]
  },
  {
   "cell_type": "markdown",
   "metadata": {
    "id": "UIe8oFjm27DV"
   },
   "source": [
    "#### 10. Find indices of non-zero elements from \\[1,2,0,0,4,0\\] (★☆☆) \n",
    "(**hint**: np.nonzero)"
   ]
  },
  {
   "cell_type": "code",
   "execution_count": 14,
   "metadata": {
    "id": "tKQE8xvT27DV"
   },
   "outputs": [
    {
     "name": "stdout",
     "output_type": "stream",
     "text": [
      "(array([0, 1, 4], dtype=int64),)\n"
     ]
    }
   ],
   "source": [
    "nz = np.nonzero([1,2,0,0,4,0])\n",
    "print(nz)"
   ]
  },
  {
   "cell_type": "markdown",
   "metadata": {
    "id": "i1X98Uw327DV"
   },
   "source": [
    "#### 11. Create a 3x3 identity matrix (★☆☆) \n",
    "(**hint**: np.eye)"
   ]
  },
  {
   "cell_type": "code",
   "execution_count": 16,
   "metadata": {
    "id": "Rtaa2lTz27DV"
   },
   "outputs": [
    {
     "name": "stdout",
     "output_type": "stream",
     "text": [
      "[[1. 0. 0.]\n",
      " [0. 1. 0.]\n",
      " [0. 0. 1.]]\n"
     ]
    }
   ],
   "source": [
    "idm = np.eye(3)\n",
    "print(idm)"
   ]
  },
  {
   "cell_type": "markdown",
   "metadata": {
    "id": "Zcfz_-KB27DV"
   },
   "source": [
    "#### 12. Create a 3x3x3 array with random values (★☆☆) \n",
    "(**hint**: np.random.random)"
   ]
  },
  {
   "cell_type": "code",
   "execution_count": 18,
   "metadata": {
    "id": "1rc7LC4_27DV"
   },
   "outputs": [
    {
     "name": "stdout",
     "output_type": "stream",
     "text": [
      "[[[0.04136255 0.47839526 0.22246604]\n",
      "  [0.14706839 0.88331415 0.99276506]\n",
      "  [0.46895916 0.27540819 0.49158838]]\n",
      "\n",
      " [[0.6594978  0.90838702 0.02952231]\n",
      "  [0.42768375 0.29866548 0.61401959]\n",
      "  [0.9396044  0.74760462 0.33194702]]\n",
      "\n",
      " [[0.57181843 0.79513537 0.1762408 ]\n",
      "  [0.68422309 0.72660419 0.35483797]\n",
      "  [0.79759335 0.34182093 0.21884055]]]\n"
     ]
    }
   ],
   "source": [
    "rm = np.random.random((3,3,3))\n",
    "print(rm)"
   ]
  },
  {
   "cell_type": "markdown",
   "metadata": {
    "id": "VCMQJjWd27DW"
   },
   "source": [
    "#### 13. Create a 10x10 array with random values and find the minimum and maximum values (★☆☆) \n",
    "(**hint**: min, max)"
   ]
  },
  {
   "cell_type": "code",
   "execution_count": 21,
   "metadata": {
    "id": "61eqfM9J27DW"
   },
   "outputs": [
    {
     "name": "stdout",
     "output_type": "stream",
     "text": [
      "0.26680580617276095 0.9844619437441783\n"
     ]
    }
   ],
   "source": [
    "ra = np.random.random((3,3))\n",
    "print(ra.min(), ra.max())"
   ]
  },
  {
   "cell_type": "markdown",
   "metadata": {
    "id": "cQyXhHlo27DW"
   },
   "source": [
    "#### 14. Create a random vector of size 30 and find the mean value (★☆☆) \n",
    "(**hint**: mean)"
   ]
  },
  {
   "cell_type": "code",
   "execution_count": 22,
   "metadata": {
    "id": "i5DMqiUe27DW"
   },
   "outputs": [
    {
     "name": "stdout",
     "output_type": "stream",
     "text": [
      "0.466203097104721\n"
     ]
    }
   ],
   "source": [
    "rv = np.random.random(30)\n",
    "print(rv.mean())"
   ]
  },
  {
   "cell_type": "markdown",
   "metadata": {
    "id": "9gvanXf227DW"
   },
   "source": [
    "#### 15. Create a 2d array with 1 on the border and 0 inside (★☆☆) \n",
    "(**hint**: array\\[1:-1, 1:-1\\])"
   ]
  },
  {
   "cell_type": "code",
   "execution_count": 30,
   "metadata": {
    "id": "ed23wHVY27DW"
   },
   "outputs": [
    {
     "name": "stdout",
     "output_type": "stream",
     "text": [
      "[[1. 1. 1. 1. 1.]\n",
      " [1. 0. 0. 0. 1.]\n",
      " [1. 0. 0. 0. 1.]\n",
      " [1. 0. 0. 0. 1.]\n",
      " [1. 1. 1. 1. 1.]]\n"
     ]
    }
   ],
   "source": [
    "tda = np.ones((5,5))\n",
    "tda[1:-1, 1:-1] = 0\n",
    "print(tda)"
   ]
  },
  {
   "cell_type": "markdown",
   "metadata": {
    "id": "kDGKh0eN27DW"
   },
   "source": [
    "#### 16. How to add a border (filled with 0's) around an existing array? (★☆☆) \n",
    "(**hint**: np.pad)"
   ]
  },
  {
   "cell_type": "code",
   "execution_count": 35,
   "metadata": {
    "id": "P781Mo_h27DW"
   },
   "outputs": [
    {
     "name": "stdout",
     "output_type": "stream",
     "text": [
      "[[0. 0. 0. 0. 0. 0. 0.]\n",
      " [0. 1. 1. 1. 1. 1. 0.]\n",
      " [0. 1. 1. 1. 1. 1. 0.]\n",
      " [0. 1. 1. 1. 1. 1. 0.]\n",
      " [0. 1. 1. 1. 1. 1. 0.]\n",
      " [0. 1. 1. 1. 1. 1. 0.]\n",
      " [0. 0. 0. 0. 0. 0. 0.]]\n"
     ]
    }
   ],
   "source": [
    "om = np.ones((5,5))\n",
    "om = np.pad(om, pad_width=1, mode='constant', constant_values=0)\n",
    "print(om)"
   ]
  },
  {
   "cell_type": "markdown",
   "metadata": {
    "id": "j4-H_uHC27DX"
   },
   "source": [
    "#### 17. What is the result of the following expression? (★☆☆) \n",
    "(**hint**: NaN = not a number, inf = infinity)"
   ]
  },
  {
   "cell_type": "markdown",
   "metadata": {
    "id": "r8RRyu2K27DX"
   },
   "source": [
    "```python\n",
    "0 * np.nan\n",
    "np.nan == np.nan\n",
    "np.inf > np.nan\n",
    "np.nan - np.nan\n",
    "0.3 == 3 * 0.1\n",
    "```"
   ]
  },
  {
   "cell_type": "code",
   "execution_count": 36,
   "metadata": {
    "id": "O6-9WvHd27DX"
   },
   "outputs": [
    {
     "name": "stdout",
     "output_type": "stream",
     "text": [
      "nan\n",
      "False\n",
      "False\n",
      "nan\n",
      "False\n"
     ]
    }
   ],
   "source": [
    "print(0 * np.nan)\n",
    "print(np.nan == np.nan)\n",
    "print(np.inf > np.nan)\n",
    "print(np.nan - np.nan)\n",
    "print(0.3 == 3 * 0.1)"
   ]
  },
  {
   "cell_type": "markdown",
   "metadata": {
    "id": "cNR5nRG327DX"
   },
   "source": [
    "#### 18. Create a 5x5 matrix with values 1,2,3,4 just below the diagonal (★☆☆) \n",
    "(**hint**: np.diag)"
   ]
  },
  {
   "cell_type": "code",
   "execution_count": 38,
   "metadata": {
    "id": "gbH3OLfN27DX"
   },
   "outputs": [
    {
     "name": "stdout",
     "output_type": "stream",
     "text": [
      "[[0 0 0 0 0]\n",
      " [1 0 0 0 0]\n",
      " [0 2 0 0 0]\n",
      " [0 0 3 0 0]\n",
      " [0 0 0 4 0]]\n"
     ]
    }
   ],
   "source": [
    "obd = np.diag(1+np.arange(4),k=-1)\n",
    "print(obd)"
   ]
  },
  {
   "cell_type": "markdown",
   "metadata": {
    "id": "A_hFVWbQ27DX"
   },
   "source": [
    "#### 19. Create a 8x8 matrix and fill it with a checkerboard pattern (★☆☆) \n",
    "(**hint**: array\\[::2\\])"
   ]
  },
  {
   "cell_type": "code",
   "execution_count": 42,
   "metadata": {
    "id": "mzbpupn427DY"
   },
   "outputs": [
    {
     "name": "stdout",
     "output_type": "stream",
     "text": [
      "[[0 1 0 1 0 1 0 1]\n",
      " [1 0 1 0 1 0 1 0]\n",
      " [0 1 0 1 0 1 0 1]\n",
      " [1 0 1 0 1 0 1 0]\n",
      " [0 1 0 1 0 1 0 1]\n",
      " [1 0 1 0 1 0 1 0]\n",
      " [0 1 0 1 0 1 0 1]\n",
      " [1 0 1 0 1 0 1 0]]\n"
     ]
    }
   ],
   "source": [
    "cbp = np.zeros((8,8),dtype=int)\n",
    "cbp[1::2,::2] = 1\n",
    "cbp[::2,1::2] = 1\n",
    "print(Z)"
   ]
  },
  {
   "cell_type": "markdown",
   "metadata": {
    "id": "tJ9MPZ_m27DY"
   },
   "source": [
    "#### 20. Consider a (6,7,8) shape array, what is the index (x,y,z) of the 100th element? \n",
    "(**hint**: np.unravel_index)"
   ]
  },
  {
   "cell_type": "code",
   "execution_count": 40,
   "metadata": {
    "id": "20Y-sj4k27DY"
   },
   "outputs": [
    {
     "name": "stdout",
     "output_type": "stream",
     "text": [
      "(1, 5, 4)\n"
     ]
    }
   ],
   "source": [
    "print(np.unravel_index(100,(6,7,8)))"
   ]
  },
  {
   "cell_type": "markdown",
   "metadata": {
    "id": "9_Lvu6Jv27DY"
   },
   "source": [
    "#### 21. Create a checkerboard 8x8 matrix using the tile function (★☆☆) \n",
    "(**hint**: np.tile)"
   ]
  },
  {
   "cell_type": "code",
   "execution_count": 41,
   "metadata": {
    "id": "YRk3m-wK27DY"
   },
   "outputs": [
    {
     "name": "stdout",
     "output_type": "stream",
     "text": [
      "[[0 1 0 1 0 1 0 1]\n",
      " [1 0 1 0 1 0 1 0]\n",
      " [0 1 0 1 0 1 0 1]\n",
      " [1 0 1 0 1 0 1 0]\n",
      " [0 1 0 1 0 1 0 1]\n",
      " [1 0 1 0 1 0 1 0]\n",
      " [0 1 0 1 0 1 0 1]\n",
      " [1 0 1 0 1 0 1 0]]\n"
     ]
    }
   ],
   "source": [
    "cb = np.tile( np.array([[0,1],[1,0]]), (4,4))\n",
    "print(cb)"
   ]
  },
  {
   "cell_type": "markdown",
   "metadata": {
    "id": "nIG75SgH27DY"
   },
   "source": [
    "#### 22. Normalize a 5x5 random matrix (★☆☆) \n",
    "(**hint**: (x - min) / (max - min))"
   ]
  },
  {
   "cell_type": "code",
   "execution_count": 52,
   "metadata": {
    "id": "Ld_RCyMz27DY"
   },
   "outputs": [
    {
     "name": "stdout",
     "output_type": "stream",
     "text": [
      "[[1.         0.17974063 0.11530721 0.09119558 0.38904509]\n",
      " [0.90945559 0.70909923 0.54316613 0.76577755 0.9836087 ]\n",
      " [0.98449908 0.8235296  0.78312503 0.41394702 0.1261418 ]\n",
      " [0.68979379 0.00289445 0.46424459 0.70328714 0.        ]\n",
      " [0.5862404  0.1382517  0.53858997 0.77910875 0.51827876]]\n"
     ]
    }
   ],
   "source": [
    "x = np.random.random((5,5))\n",
    "xmax, xmin = x.max(), x.min()\n",
    "nx = (x - xmin)/(xmax - xmin)\n",
    "print(nx)"
   ]
  },
  {
   "cell_type": "markdown",
   "metadata": {
    "id": "C2z3zA4827DY"
   },
   "source": [
    "#### 23. Create a custom dtype that describes a color as four unsigned bytes (RGBA) (★☆☆) \n",
    "(**hint**: np.dtype)"
   ]
  },
  {
   "cell_type": "code",
   "execution_count": 55,
   "metadata": {
    "id": "fR0Q0g7m27DZ"
   },
   "outputs": [
    {
     "name": "stdout",
     "output_type": "stream",
     "text": [
      "[('r', 'u1'), ('g', 'u1'), ('b', 'u1'), ('a', 'u1')]\n"
     ]
    },
    {
     "name": "stderr",
     "output_type": "stream",
     "text": [
      "C:\\Users\\Praveen\\Anaconda3\\lib\\site-packages\\ipykernel_launcher.py:4: FutureWarning: Passing (type, 1) or '1type' as a synonym of type is deprecated; in a future version of numpy, it will be understood as (type, (1,)) / '(1,)type'.\n",
      "  after removing the cwd from sys.path.\n"
     ]
    }
   ],
   "source": [
    "color = np.dtype([(\"r\", np.ubyte, 1),\n",
    "                  (\"g\", np.ubyte, 1),\n",
    "                  (\"b\", np.ubyte, 1),\n",
    "                  (\"a\", np.ubyte, 1)])\n",
    "print(color)"
   ]
  },
  {
   "cell_type": "markdown",
   "metadata": {
    "id": "KdmRXUDT27DZ"
   },
   "source": [
    "#### 24. Multiply a 5x3 matrix by a 3x2 matrix (real matrix product) (★☆☆) \n",
    "(**hint**: np.dot | @)"
   ]
  },
  {
   "cell_type": "code",
   "execution_count": 56,
   "metadata": {
    "id": "pFL32eMU27DZ"
   },
   "outputs": [
    {
     "name": "stdout",
     "output_type": "stream",
     "text": [
      "[[3. 3.]\n",
      " [3. 3.]\n",
      " [3. 3.]\n",
      " [3. 3.]\n",
      " [3. 3.]]\n"
     ]
    }
   ],
   "source": [
    "z = np.dot(np.ones((5,3)), np.ones((3,2)))\n",
    "print(z)"
   ]
  },
  {
   "cell_type": "markdown",
   "metadata": {
    "id": "Z4mv8ijo27DZ"
   },
   "source": [
    "#### 25. Given a 1D array, negate all elements which are between 3 and 8, in place. (★☆☆) \n",
    "(**hint**: >, <=)"
   ]
  },
  {
   "cell_type": "code",
   "execution_count": 57,
   "metadata": {
    "id": "Cnuhd52727DZ"
   },
   "outputs": [
    {
     "name": "stdout",
     "output_type": "stream",
     "text": [
      "[ 0  1  2  3 -4 -5 -6 -7 -8  9 10]\n"
     ]
    }
   ],
   "source": [
    "z = np.arange(11)\n",
    "z[(3 < z) & (z <= 8)] *= -1\n",
    "print(z)"
   ]
  },
  {
   "cell_type": "markdown",
   "metadata": {
    "id": "D6MpnfAG27DZ"
   },
   "source": [
    "#### 26. What is the output of the following script? (★☆☆) \n",
    "(**hint**: np.sum)"
   ]
  },
  {
   "cell_type": "markdown",
   "metadata": {
    "id": "jyXml0Tm27DZ"
   },
   "source": [
    "```python\n",
    "# Author: Jake VanderPlas\n",
    "\n",
    "print(sum(range(5),-1))\n",
    "from numpy import *\n",
    "print(sum(range(5),-1))\n",
    "```"
   ]
  },
  {
   "cell_type": "code",
   "execution_count": 90,
   "metadata": {
    "id": "2OpJ7Qqx27Da"
   },
   "outputs": [
    {
     "name": "stdout",
     "output_type": "stream",
     "text": [
      "10\n",
      "10\n"
     ]
    }
   ],
   "source": [
    "print(sum(range(5),-1))\n",
    "from numpy import *\n",
    "print(np.sum(range(5),-1))"
   ]
  },
  {
   "cell_type": "markdown",
   "metadata": {
    "id": "A_b0wR-P27Da"
   },
   "source": [
    "#### 27. Consider an integer vector Z, which of these expressions are legal? (★☆☆)"
   ]
  },
  {
   "cell_type": "markdown",
   "metadata": {
    "id": "rCa2sbda27Da"
   },
   "source": [
    "```python\n",
    "Z**Z\n",
    "2 << Z >> 2\n",
    "Z <- Z\n",
    "1j*Z\n",
    "Z/1/1\n",
    "Z<Z>Z\n",
    "```"
   ]
  },
  {
   "cell_type": "code",
   "execution_count": 92,
   "metadata": {
    "id": "MD9G2swB27Da"
   },
   "outputs": [
    {
     "name": "stdout",
     "output_type": "stream",
     "text": [
      "3125\n",
      "16\n",
      "False\n",
      "5j\n",
      "5.0\n",
      "False\n"
     ]
    }
   ],
   "source": [
    "Z = 5\n",
    "print(Z**Z)\n",
    "print(2 << Z >> 2)\n",
    "print(Z <- Z)\n",
    "print(1j*Z)\n",
    "print(Z/1/1)\n",
    "print(Z<Z>Z)\n",
    "# All are legal expressions"
   ]
  },
  {
   "cell_type": "markdown",
   "metadata": {
    "id": "9-gV74yi27Da"
   },
   "source": [
    "#### 28. What are the result of the following expressions?"
   ]
  },
  {
   "cell_type": "markdown",
   "metadata": {
    "id": "Hi5c4qbF27Da"
   },
   "source": [
    "```python\n",
    "np.array(0) / np.array(0)\n",
    "np.array(0) // np.array(0)\n",
    "np.array([np.nan]).astype(int).astype(float)\n",
    "```"
   ]
  },
  {
   "cell_type": "code",
   "execution_count": 93,
   "metadata": {
    "id": "YYv9MW9v27Da"
   },
   "outputs": [
    {
     "name": "stdout",
     "output_type": "stream",
     "text": [
      "nan\n",
      "0\n",
      "[-2.14748365e+09]\n"
     ]
    },
    {
     "name": "stderr",
     "output_type": "stream",
     "text": [
      "C:\\Users\\Praveen\\Anaconda3\\lib\\site-packages\\ipykernel_launcher.py:1: RuntimeWarning: invalid value encountered in true_divide\n",
      "  \"\"\"Entry point for launching an IPython kernel.\n",
      "C:\\Users\\Praveen\\Anaconda3\\lib\\site-packages\\ipykernel_launcher.py:2: RuntimeWarning: divide by zero encountered in floor_divide\n",
      "  \n"
     ]
    }
   ],
   "source": [
    "print(np.array(0) / np.array(0))\n",
    "print(np.array(0) // np.array(0))\n",
    "print(np.array([np.nan]).astype(int).astype(float))"
   ]
  },
  {
   "cell_type": "markdown",
   "metadata": {
    "id": "J3PYxBNP27Da"
   },
   "source": [
    "#### 29. How to round away from zero a float array ? (★☆☆) \n",
    "(**hint**: np.uniform, np.copysign, np.ceil, np.abs)"
   ]
  },
  {
   "cell_type": "code",
   "execution_count": 94,
   "metadata": {
    "id": "xUgWt-UB27Da"
   },
   "outputs": [
    {
     "name": "stdout",
     "output_type": "stream",
     "text": [
      "[-3. -4. 10. -5. -1.  4. -6. -2.  4. -7.]\n"
     ]
    }
   ],
   "source": [
    "z = np.random.uniform(-10,+10,10)\n",
    "print (np.copysign(np.ceil(np.abs(z)), z))"
   ]
  },
  {
   "cell_type": "markdown",
   "metadata": {
    "id": "fNYpm4P527Da"
   },
   "source": [
    "#### 30. How to find common values between two arrays? (★☆☆) \n",
    "(**hint**: np.intersect1d)"
   ]
  },
  {
   "cell_type": "code",
   "execution_count": null,
   "metadata": {
    "id": "jtnD_ADE27Db"
   },
   "outputs": [],
   "source": [
    "print(np.intersect1d(z1,z2))"
   ]
  },
  {
   "cell_type": "markdown",
   "metadata": {
    "id": "yA2KBmYE27Db"
   },
   "source": [
    "#### 31. How to ignore all numpy warnings (not recommended)? (★☆☆) \n",
    "(**hint**: np.seterr, np.errstate)"
   ]
  },
  {
   "cell_type": "code",
   "execution_count": 95,
   "metadata": {
    "id": "t-xF1MAu27Db"
   },
   "outputs": [],
   "source": [
    "defaults = np.seterr(all=\"ignore\")\n",
    "_ = np.seterr(**defaults)"
   ]
  },
  {
   "cell_type": "markdown",
   "metadata": {
    "id": "-r3VJfDf27Db"
   },
   "source": [
    "#### 32. Is the following expressions true? (★☆☆) \n",
    "(**hint**: imaginary number)"
   ]
  },
  {
   "cell_type": "markdown",
   "metadata": {
    "id": "XD1nGH0H27Db"
   },
   "source": [
    "```python\n",
    "np.sqrt(-1) == np.emath.sqrt(-1)\n",
    "```"
   ]
  },
  {
   "cell_type": "code",
   "execution_count": 100,
   "metadata": {
    "id": "L4eFRWne27Db"
   },
   "outputs": [
    {
     "name": "stdout",
     "output_type": "stream",
     "text": [
      "False\n"
     ]
    },
    {
     "name": "stderr",
     "output_type": "stream",
     "text": [
      "C:\\Users\\Praveen\\Anaconda3\\lib\\site-packages\\ipykernel_launcher.py:1: RuntimeWarning: invalid value encountered in sqrt\n",
      "  \"\"\"Entry point for launching an IPython kernel.\n"
     ]
    }
   ],
   "source": [
    "print(np.sqrt(-1) == np.emath.sqrt(-1))"
   ]
  },
  {
   "cell_type": "markdown",
   "metadata": {
    "id": "NVjjYZ1B27Db"
   },
   "source": [
    "#### 33. How to get the dates of yesterday, today and tomorrow? (★☆☆) \n",
    "(**hint**: np.datetime64, np.timedelta64)"
   ]
  },
  {
   "cell_type": "code",
   "execution_count": 103,
   "metadata": {
    "id": "mVNQ0HRC27Db"
   },
   "outputs": [
    {
     "name": "stdout",
     "output_type": "stream",
     "text": [
      "2022-11-11 2022-11-12 2022-11-13\n"
     ]
    }
   ],
   "source": [
    "yesterday = np.datetime64('today', 'D') - np.timedelta64(1, 'D')\n",
    "today     = np.datetime64('today', 'D')\n",
    "tomorrow  = np.datetime64('today', 'D') + np.timedelta64(1, 'D')\n",
    "print(yesterday, today, tomorrow)"
   ]
  },
  {
   "cell_type": "markdown",
   "metadata": {
    "id": "wOT25zfJ27Db"
   },
   "source": [
    "#### 34. How to get all the dates corresponding to the month of July 2016? (★★☆) \n",
    "(**hint**: np.arange(dtype=datetime64\\['D'\\]))"
   ]
  },
  {
   "cell_type": "code",
   "execution_count": 104,
   "metadata": {
    "id": "pnzTaOVW27Db"
   },
   "outputs": [
    {
     "name": "stdout",
     "output_type": "stream",
     "text": [
      "['2016-07-01' '2016-07-02' '2016-07-03' '2016-07-04' '2016-07-05'\n",
      " '2016-07-06' '2016-07-07' '2016-07-08' '2016-07-09' '2016-07-10'\n",
      " '2016-07-11' '2016-07-12' '2016-07-13' '2016-07-14' '2016-07-15'\n",
      " '2016-07-16' '2016-07-17' '2016-07-18' '2016-07-19' '2016-07-20'\n",
      " '2016-07-21' '2016-07-22' '2016-07-23' '2016-07-24' '2016-07-25'\n",
      " '2016-07-26' '2016-07-27' '2016-07-28' '2016-07-29' '2016-07-30'\n",
      " '2016-07-31']\n"
     ]
    }
   ],
   "source": [
    "j16d = np.arange('2016-07', '2016-08', dtype='datetime64[D]')\n",
    "print(j16d)"
   ]
  },
  {
   "cell_type": "markdown",
   "metadata": {
    "id": "fFjaxH1m27Dc"
   },
   "source": [
    "#### 35. How to compute ((A+B)\\*(-A/2)) in place (without copy)? (★★☆) \n",
    "(**hint**: np.add(out=), np.negative(out=), np.multiply(out=), np.divide(out=))"
   ]
  },
  {
   "cell_type": "code",
   "execution_count": 105,
   "metadata": {
    "id": "R4hhsKal27Dc"
   },
   "outputs": [
    {
     "data": {
      "text/plain": [
       "array([-1.5, -1.5, -1.5])"
      ]
     },
     "execution_count": 105,
     "metadata": {},
     "output_type": "execute_result"
    }
   ],
   "source": [
    "A = np.ones(3)*1\n",
    "B = np.ones(3)*2\n",
    "C = np.ones(3)*3\n",
    "np.add(A,B,out=B)\n",
    "np.divide(A,2,out=A)\n",
    "np.negative(A,out=A)\n",
    "np.multiply(A,B,out=A)"
   ]
  },
  {
   "cell_type": "markdown",
   "metadata": {
    "id": "PIqaQfX627Dc"
   },
   "source": [
    "#### 36. Extract the integer part of a random array using 5 different methods (★★☆) \n",
    "(**hint**: %, np.floor, np.ceil, astype, np.trunc)"
   ]
  },
  {
   "cell_type": "code",
   "execution_count": 106,
   "metadata": {
    "id": "IEcNnLH627Dc"
   },
   "outputs": [
    {
     "name": "stdout",
     "output_type": "stream",
     "text": [
      "[1. 7. 4. 6. 2. 7. 6. 2. 3. 7.]\n",
      "[1. 7. 4. 6. 2. 7. 6. 2. 3. 7.]\n",
      "[1. 7. 4. 6. 2. 7. 6. 2. 3. 7.]\n",
      "[1 7 4 6 2 7 6 2 3 7]\n",
      "[1. 7. 4. 6. 2. 7. 6. 2. 3. 7.]\n"
     ]
    }
   ],
   "source": [
    "z = np.random.uniform(0,10,10)\n",
    "\n",
    "print (z - z%1)\n",
    "print (np.floor(z))\n",
    "print (np.ceil(z)-1)\n",
    "print (z.astype(int))\n",
    "print (np.trunc(z))"
   ]
  },
  {
   "cell_type": "markdown",
   "metadata": {
    "id": "ipJJpc9U27Dc"
   },
   "source": [
    "#### 37. Create a 5x5 matrix with row values ranging from 0 to 4 (★★☆) \n",
    "(**hint**: np.arange)"
   ]
  },
  {
   "cell_type": "code",
   "execution_count": 111,
   "metadata": {
    "id": "piifFv3Z27Dc"
   },
   "outputs": [
    {
     "name": "stdout",
     "output_type": "stream",
     "text": [
      "[[0. 1. 2. 3. 4.]\n",
      " [0. 1. 2. 3. 4.]\n",
      " [0. 1. 2. 3. 4.]\n",
      " [0. 1. 2. 3. 4.]\n",
      " [0. 1. 2. 3. 4.]]\n"
     ]
    }
   ],
   "source": [
    "z = np.zeros((5,5))\n",
    "z += np.arange(5)\n",
    "print(z)"
   ]
  },
  {
   "cell_type": "markdown",
   "metadata": {
    "id": "l3-UF-Lo27Dc"
   },
   "source": [
    "#### 38. Consider a generator function that generates 10 integers and use it to build an array (★☆☆) \n",
    "(**hint**: np.fromiter)"
   ]
  },
  {
   "cell_type": "code",
   "execution_count": 113,
   "metadata": {
    "id": "TiGsU9bm27Dc"
   },
   "outputs": [
    {
     "name": "stdout",
     "output_type": "stream",
     "text": [
      "[0. 1. 2. 3. 4. 5. 6. 7. 8. 9.]\n"
     ]
    }
   ],
   "source": [
    "def generator():\n",
    "    for x in range(10):\n",
    "        yield x\n",
    "z = np.fromiter(generator(),dtype=float,count=-1)\n",
    "print(z)"
   ]
  },
  {
   "cell_type": "markdown",
   "metadata": {
    "id": "DS9ygquN27Dc"
   },
   "source": [
    "#### 39. Create a vector of size 10 with values ranging from 0 to 1, both excluded (★★☆) \n",
    "(**hint**: np.linspace)"
   ]
  },
  {
   "cell_type": "code",
   "execution_count": 114,
   "metadata": {
    "id": "o99a73x527Dc"
   },
   "outputs": [
    {
     "name": "stdout",
     "output_type": "stream",
     "text": [
      "[0.09090909 0.18181818 0.27272727 0.36363636 0.45454545 0.54545455\n",
      " 0.63636364 0.72727273 0.81818182 0.90909091]\n"
     ]
    }
   ],
   "source": [
    "z = np.linspace(0,1,12,endpoint=True)[1:-1]\n",
    "print(z)"
   ]
  },
  {
   "cell_type": "markdown",
   "metadata": {
    "id": "XTRLjrR527Dc"
   },
   "source": [
    "#### 40. Create a random vector of size 10 and sort it (★★☆) \n",
    "(**hint**: sort)"
   ]
  },
  {
   "cell_type": "code",
   "execution_count": 117,
   "metadata": {
    "id": "Jz3ibFjf27Dd"
   },
   "outputs": [
    {
     "name": "stdout",
     "output_type": "stream",
     "text": [
      "[0.2487224  0.25610163 0.39727521 0.44521629 0.48574943 0.52242484\n",
      " 0.7133489  0.79217363 0.85258055 0.90713758]\n"
     ]
    }
   ],
   "source": [
    "z = np.random.random(10)\n",
    "z.sort()\n",
    "print(z)"
   ]
  },
  {
   "cell_type": "markdown",
   "metadata": {
    "id": "IZjISq0627Dd"
   },
   "source": [
    "#### 41. How to sum a small array faster than np.sum? (★★☆) \n",
    "(**hint**: np.add.reduce)"
   ]
  },
  {
   "cell_type": "code",
   "execution_count": 118,
   "metadata": {
    "id": "BuIwXwwF27Dd"
   },
   "outputs": [
    {
     "data": {
      "text/plain": [
       "5.620730461683788"
      ]
     },
     "execution_count": 118,
     "metadata": {},
     "output_type": "execute_result"
    }
   ],
   "source": [
    "a = np.arange(20)\n",
    "np.add.reduce(z)"
   ]
  },
  {
   "cell_type": "markdown",
   "metadata": {
    "id": "6KBiZ4rJ27Dd"
   },
   "source": [
    "#### 42. Consider two random array A and B, check if they are equal (★★☆) \n",
    "(**hint**: np.allclose, np.array\\_equal)"
   ]
  },
  {
   "cell_type": "code",
   "execution_count": 121,
   "metadata": {
    "id": "Hnv6Bg3p27Dd"
   },
   "outputs": [
    {
     "name": "stdout",
     "output_type": "stream",
     "text": [
      "False\n",
      "False\n"
     ]
    }
   ],
   "source": [
    "a = np.random.randint(0,3,2)\n",
    "b = np.random.randint(0,3,2)\n",
    "\n",
    "# For identical shape of the array \n",
    "eq = np.allclose(a, b)\n",
    "print(eq)\n",
    "\n",
    "# For identical shape and elements of the array\n",
    "eq = np.array_equal(a, b)\n",
    "print(eq)"
   ]
  },
  {
   "cell_type": "markdown",
   "metadata": {
    "id": "fGfdZpbC27Dd"
   },
   "source": [
    "#### 43. Make an array immutable (read-only) (★★☆) \n",
    "(**hint**: flags.writeable)"
   ]
  },
  {
   "cell_type": "code",
   "execution_count": 123,
   "metadata": {
    "id": "xN6GKd3V27Dd"
   },
   "outputs": [],
   "source": [
    "z.flags.writeable = False"
   ]
  },
  {
   "cell_type": "markdown",
   "metadata": {
    "id": "ZFz1c1t227Dd"
   },
   "source": [
    "#### 44. Consider a random 10x2 matrix representing cartesian coordinates, convert them to polar coordinates (★★☆) \n",
    "(**hint**: np.sqrt, np.arctan2)"
   ]
  },
  {
   "cell_type": "code",
   "execution_count": 127,
   "metadata": {
    "id": "TYkNLHmF27Dd"
   },
   "outputs": [
    {
     "name": "stdout",
     "output_type": "stream",
     "text": [
      "[0.43015295 0.73936042 0.97607245 1.02260355 0.86951472 0.83049232\n",
      " 1.02896462 0.66302435 0.68941671 0.85049418]\n",
      "[1.24546795 0.71337813 0.92672934 1.10083565 1.01097046 1.53156435\n",
      " 1.09883045 0.95097511 0.53881377 0.54871854]\n"
     ]
    }
   ],
   "source": [
    "z = np.random.random((10,2))\n",
    "x,y = z[:,0], z[:,1]\n",
    "r = np.sqrt(x**2+y**2)\n",
    "t = np.arctan2(y,x)\n",
    "print(r)\n",
    "print(t)"
   ]
  },
  {
   "cell_type": "markdown",
   "metadata": {
    "id": "MSKkynfz27Dd"
   },
   "source": [
    "#### 45. Create random vector of size 10 and replace the maximum value by 0 (★★☆) \n",
    "(**hint**: argmax)"
   ]
  },
  {
   "cell_type": "code",
   "execution_count": 133,
   "metadata": {
    "id": "ee0dsot327De"
   },
   "outputs": [
    {
     "name": "stdout",
     "output_type": "stream",
     "text": [
      "[0.59739227 0.89850138 0.47244498 0.84161516 0.00388182 0.7510314\n",
      " 0.         0.50884345 0.06938029 0.73215153]\n"
     ]
    }
   ],
   "source": [
    "z = np.random.random(10)\n",
    "z[z.argmax()] = 0\n",
    "print(z)"
   ]
  },
  {
   "cell_type": "markdown",
   "metadata": {
    "id": "fD9XM_ZZ27De"
   },
   "source": [
    "#### 46. Create a structured array with `x` and `y` coordinates covering the \\[0,1\\]x\\[0,1\\] area (★★☆) \n",
    "(**hint**: np.meshgrid)"
   ]
  },
  {
   "cell_type": "code",
   "execution_count": 134,
   "metadata": {
    "id": "YhDwH9TI27De"
   },
   "outputs": [
    {
     "name": "stdout",
     "output_type": "stream",
     "text": [
      "[[(0.  , 0.  ) (0.25, 0.  ) (0.5 , 0.  ) (0.75, 0.  ) (1.  , 0.  )]\n",
      " [(0.  , 0.25) (0.25, 0.25) (0.5 , 0.25) (0.75, 0.25) (1.  , 0.25)]\n",
      " [(0.  , 0.5 ) (0.25, 0.5 ) (0.5 , 0.5 ) (0.75, 0.5 ) (1.  , 0.5 )]\n",
      " [(0.  , 0.75) (0.25, 0.75) (0.5 , 0.75) (0.75, 0.75) (1.  , 0.75)]\n",
      " [(0.  , 1.  ) (0.25, 1.  ) (0.5 , 1.  ) (0.75, 1.  ) (1.  , 1.  )]]\n"
     ]
    }
   ],
   "source": [
    "z = np.zeros((5,5), [('x',float),('y',float)])\n",
    "z['x'], z['y'] = np.meshgrid(np.linspace(0,1,5),\n",
    "                             np.linspace(0,1,5))\n",
    "print(z)"
   ]
  },
  {
   "cell_type": "markdown",
   "metadata": {
    "id": "ojpZaZA_27De"
   },
   "source": [
    "####  47. Given two arrays, X and Y, construct the Cauchy matrix C (Cij =1/(xi - yj)) \n",
    "(**hint**: np.subtract.outer)"
   ]
  },
  {
   "cell_type": "code",
   "execution_count": 135,
   "metadata": {
    "id": "kha9-j2Z27De"
   },
   "outputs": [
    {
     "name": "stdout",
     "output_type": "stream",
     "text": [
      "3638.1636371179666\n"
     ]
    }
   ],
   "source": [
    "X = np.arange(8)\n",
    "Y = X + 0.5\n",
    "C = 1.0 / np.subtract.outer(X, Y)\n",
    "print(np.linalg.det(C))"
   ]
  },
  {
   "cell_type": "markdown",
   "metadata": {
    "id": "6Tei6nFI27De"
   },
   "source": [
    "#### 48. Print the minimum and maximum representable value for each numpy scalar type (★★☆) \n",
    "(**hint**: np.iinfo, np.finfo, eps)"
   ]
  },
  {
   "cell_type": "code",
   "execution_count": 136,
   "metadata": {
    "id": "oVEpTYDT27De"
   },
   "outputs": [
    {
     "name": "stdout",
     "output_type": "stream",
     "text": [
      "-128\n",
      "127\n",
      "-2147483648\n",
      "2147483647\n",
      "-9223372036854775808\n",
      "9223372036854775807\n",
      "-3.4028235e+38\n",
      "3.4028235e+38\n",
      "1.1920929e-07\n",
      "-1.7976931348623157e+308\n",
      "1.7976931348623157e+308\n",
      "2.220446049250313e-16\n"
     ]
    }
   ],
   "source": [
    "for dtype in [np.int8, np.int32, np.int64]:\n",
    "   print(np.iinfo(dtype).min)\n",
    "   print(np.iinfo(dtype).max)\n",
    "for dtype in [np.float32, np.float64]:\n",
    "   print(np.finfo(dtype).min)\n",
    "   print(np.finfo(dtype).max)\n",
    "   print(np.finfo(dtype).eps)"
   ]
  },
  {
   "cell_type": "markdown",
   "metadata": {
    "id": "g_AfW8Qe27De"
   },
   "source": [
    "#### 49. How to print all the values of an array? (★★☆) \n",
    "(**hint**: np.set\\_printoptions)"
   ]
  },
  {
   "cell_type": "code",
   "execution_count": 142,
   "metadata": {
    "id": "j-Ml3EqV27De"
   },
   "outputs": [
    {
     "name": "stdout",
     "output_type": "stream",
     "text": [
      "[[0. 0. 0. 0. 0. 0. 0. 0. 0. 0. 0. 0. 0. 0. 0. 0.]\n",
      " [0. 0. 0. 0. 0. 0. 0. 0. 0. 0. 0. 0. 0. 0. 0. 0.]\n",
      " [0. 0. 0. 0. 0. 0. 0. 0. 0. 0. 0. 0. 0. 0. 0. 0.]\n",
      " [0. 0. 0. 0. 0. 0. 0. 0. 0. 0. 0. 0. 0. 0. 0. 0.]\n",
      " [0. 0. 0. 0. 0. 0. 0. 0. 0. 0. 0. 0. 0. 0. 0. 0.]\n",
      " [0. 0. 0. 0. 0. 0. 0. 0. 0. 0. 0. 0. 0. 0. 0. 0.]\n",
      " [0. 0. 0. 0. 0. 0. 0. 0. 0. 0. 0. 0. 0. 0. 0. 0.]\n",
      " [0. 0. 0. 0. 0. 0. 0. 0. 0. 0. 0. 0. 0. 0. 0. 0.]\n",
      " [0. 0. 0. 0. 0. 0. 0. 0. 0. 0. 0. 0. 0. 0. 0. 0.]\n",
      " [0. 0. 0. 0. 0. 0. 0. 0. 0. 0. 0. 0. 0. 0. 0. 0.]\n",
      " [0. 0. 0. 0. 0. 0. 0. 0. 0. 0. 0. 0. 0. 0. 0. 0.]\n",
      " [0. 0. 0. 0. 0. 0. 0. 0. 0. 0. 0. 0. 0. 0. 0. 0.]\n",
      " [0. 0. 0. 0. 0. 0. 0. 0. 0. 0. 0. 0. 0. 0. 0. 0.]\n",
      " [0. 0. 0. 0. 0. 0. 0. 0. 0. 0. 0. 0. 0. 0. 0. 0.]\n",
      " [0. 0. 0. 0. 0. 0. 0. 0. 0. 0. 0. 0. 0. 0. 0. 0.]\n",
      " [0. 0. 0. 0. 0. 0. 0. 0. 0. 0. 0. 0. 0. 0. 0. 0.]]\n"
     ]
    }
   ],
   "source": [
    "import sys\n",
    "np.set_printoptions(threshold=sys.maxsize)\n",
    "z = np.zeros((16,16))\n",
    "print(z)"
   ]
  },
  {
   "cell_type": "markdown",
   "metadata": {
    "id": "2VqZQe7h27De"
   },
   "source": [
    "#### 50. How to find the closest value (to a given scalar) in a vector? (★★☆) \n",
    "(**hint**: argmin)"
   ]
  },
  {
   "cell_type": "code",
   "execution_count": 143,
   "metadata": {
    "id": "cO1XLJDi27De"
   },
   "outputs": [
    {
     "name": "stdout",
     "output_type": "stream",
     "text": [
      "82\n"
     ]
    }
   ],
   "source": [
    "z = np.arange(100)\n",
    "v = np.random.uniform(0,100)\n",
    "index = (np.abs(z-v)).argmin()\n",
    "print(z[index])"
   ]
  },
  {
   "cell_type": "markdown",
   "metadata": {
    "id": "a3e8YXpL27Df"
   },
   "source": [
    "#### 51. Create a structured array representing a position (x,y) and a color (r,g,b) (★★☆) \n",
    "(**hint**: dtype)"
   ]
  },
  {
   "cell_type": "code",
   "execution_count": 144,
   "metadata": {
    "id": "1fua8ZxR27Df"
   },
   "outputs": [
    {
     "name": "stdout",
     "output_type": "stream",
     "text": [
      "[((0., 0.), (0., 0., 0.)) ((0., 0.), (0., 0., 0.))\n",
      " ((0., 0.), (0., 0., 0.)) ((0., 0.), (0., 0., 0.))\n",
      " ((0., 0.), (0., 0., 0.)) ((0., 0.), (0., 0., 0.))\n",
      " ((0., 0.), (0., 0., 0.)) ((0., 0.), (0., 0., 0.))\n",
      " ((0., 0.), (0., 0., 0.)) ((0., 0.), (0., 0., 0.))]\n"
     ]
    },
    {
     "name": "stderr",
     "output_type": "stream",
     "text": [
      "C:\\Users\\Praveen\\Anaconda3\\lib\\site-packages\\ipykernel_launcher.py:5: FutureWarning: Passing (type, 1) or '1type' as a synonym of type is deprecated; in a future version of numpy, it will be understood as (type, (1,)) / '(1,)type'.\n",
      "  \"\"\"\n"
     ]
    }
   ],
   "source": [
    "Z = np.zeros(10, [ ('position', [ ('x', float, 1),\n",
    "                                  ('y', float, 1)]),\n",
    "                   ('color',    [ ('r', float, 1),\n",
    "                                  ('g', float, 1),\n",
    "                                  ('b', float, 1)])])\n",
    "print(Z)"
   ]
  },
  {
   "cell_type": "markdown",
   "metadata": {
    "id": "SoC1kaE927Df"
   },
   "source": [
    "#### 52. Consider a random vector with shape (100,2) representing coordinates, find point by point distances (★★☆) \n",
    "(**hint**: np.atleast\\_2d, T, np.sqrt)"
   ]
  },
  {
   "cell_type": "code",
   "execution_count": 147,
   "metadata": {
    "id": "K_qaTuT-27Df"
   },
   "outputs": [
    {
     "name": "stdout",
     "output_type": "stream",
     "text": [
      "[[0.         0.36620047 0.73179157 0.40195083 0.12210936 0.19873281\n",
      "  0.6031234  0.35578788 0.52415404 0.54923794 0.49017482 0.44353832\n",
      "  0.57517706 0.30718865 0.47265761 0.48833415 0.13596826 0.45018987\n",
      "  0.16633898 0.04044343 0.31700125 0.15476133 0.44292931 0.46535376\n",
      "  0.19065487 0.38673339 0.36922439 0.35034171 0.14183757 0.59427047\n",
      "  0.41484235 0.10868258 0.46071003 0.14415393 0.47001133 0.30432279\n",
      "  0.22311679 0.46029598 0.47001731 0.46356089 0.47921895 0.31229806\n",
      "  0.23497965 0.34012319 0.47651015 0.55790233 0.49525251 0.59171499\n",
      "  0.33791456 0.40391936 0.18821458 0.43559359 0.55840724 0.41903985\n",
      "  0.13891279 0.0794792  0.47989961 0.50108455 0.20169557 0.39744816\n",
      "  0.58875887 0.54551367 0.45844168 0.37091234 0.46138128 0.12161396\n",
      "  0.54444737 0.11501988 0.72052668 0.39529287 0.42892979 0.48429351\n",
      "  0.35276333 0.41717704 0.46202854 0.47483983 0.46641917 0.1796536\n",
      "  0.24614438 0.546157   0.48551568 0.25605431 0.19360688 0.45992115\n",
      "  0.44541863 0.63208469 0.44370991 0.32031149 0.18024178 0.1199232\n",
      "  0.3093255  0.23120283 0.39811421 0.43241942 0.49839797 0.4325969\n",
      "  0.38908269 0.58997349 0.52708068 0.43619478]\n",
      " [0.36620047 0.         0.36580882 0.38008829 0.38878035 0.17373208\n",
      "  0.25057102 0.68316156 0.60133331 0.66123112 0.65244776 0.31585854\n",
      "  0.63094862 0.09698853 0.10906564 0.5675484  0.4306417  0.81187999\n",
      "  0.43298167 0.35047143 0.50674783 0.31896749 0.53531961 0.53845184\n",
      "  0.23919601 0.74400008 0.56027925 0.69449149 0.3635964  0.9604584\n",
      "  0.76233377 0.47482448 0.09909994 0.24084946 0.18678016 0.28475042\n",
      "  0.53504178 0.09900462 0.79619528 0.64682607 0.66528151 0.55947218\n",
      "  0.54658082 0.30236559 0.67743493 0.29850188 0.13046106 0.26173829\n",
      "  0.68180476 0.52870312 0.23415627 0.75538029 0.70228334 0.2120517\n",
      "  0.41407567 0.35934214 0.8287553  0.65585618 0.16866528 0.63530317\n",
      "  0.63978223 0.44403906 0.71924533 0.44642221 0.59880237 0.37830108\n",
      "  0.60265711 0.46001937 0.76892414 0.05337104 0.22792726 0.84765872\n",
      "  0.64169422 0.60661001 0.73515001 0.58213659 0.14163191 0.53138806\n",
      "  0.12113555 0.18455777 0.51358821 0.34107705 0.55937474 0.34912551\n",
      "  0.76292368 0.2758044  0.74709139 0.61983834 0.3487241  0.48596081\n",
      "  0.17682097 0.45636852 0.70538773 0.79377448 0.86031727 0.39264018\n",
      "  0.67864198 0.71400429 0.62185769 0.58928019]\n",
      " [0.73179157 0.36580882 0.         0.61864437 0.74769853 0.53825515\n",
      "  0.18392878 1.03242966 0.85699644 0.90581853 0.92789818 0.53081442\n",
      "  0.84413779 0.43561255 0.25984316 0.83091892 0.79008557 1.17424102\n",
      "  0.78761248 0.71600687 0.83163526 0.67213196 0.79290775 0.80442076\n",
      "  0.584525   1.1045471  0.86354713 1.05011254 0.711832   1.32603057\n",
      "  1.11830539 0.84046614 0.27252322 0.60060298 0.35080453 0.58771934\n",
      "  0.8852327  0.27755061 1.1504127  0.93426316 0.9518532  0.89779169\n",
      "  0.89603692 0.58668842 0.97033398 0.38054765 0.23686168 0.24718848\n",
      "  1.03755428 0.82318907 0.58781825 1.09925584 0.96021056 0.43567357\n",
      "  0.77186143 0.71867511 1.19028052 0.94560145 0.53186011 0.96406081\n",
      "  0.847801   0.61672904 1.05137862 0.71814527 0.86896096 0.73104751\n",
      "  0.82358335 0.82129317 0.97791089 0.34021665 0.4239157  1.21086613\n",
      "  0.97771967 0.91852458 1.0713738  0.83829797 0.29433768 0.89246685\n",
      "  0.48580715 0.19043626 0.75888424 0.6530096  0.9245218  0.53647284\n",
      "  1.11476075 0.13238474 1.09431827 0.96119409 0.68709499 0.85164921\n",
      "  0.4788462  0.79908847 1.04565688 1.15895185 1.22263592 0.63403127\n",
      "  1.02352075 0.95800966 0.86267429 0.86946936]\n",
      " [0.40195083 0.38008829 0.61864437 0.         0.51174491 0.37896616\n",
      "  0.59328134 0.5040138  0.87662343 0.29190098 0.31004577 0.66563696\n",
      "  0.25100003 0.29005105 0.41419613 0.83967554 0.53582708 0.69339672\n",
      "  0.56202792 0.42547802 0.70158778 0.49639866 0.17427437 0.81224035\n",
      "  0.23901651 0.61827722 0.26653242 0.54412618 0.27139893 0.87429378\n",
      "  0.6057329  0.4701288  0.40130756 0.29698143 0.56674454 0.57531257\n",
      "  0.38616043 0.45575558 0.85424952 0.32027061 0.33699099 0.71153996\n",
      "  0.39163483 0.60751118 0.3580637  0.67855911 0.43269651 0.62659611\n",
      "  0.53387918 0.76995595 0.45203976 0.54769297 0.3427071  0.57805478\n",
      "  0.53417049 0.3282291  0.83988684 0.88375595 0.31738815 0.79726595\n",
      "  0.25969401 0.79471857 0.86039205 0.10834794 0.25082117 0.29897622\n",
      "  0.22333791 0.39970284 1.06738644 0.35174834 0.19572618 0.73382311\n",
      "  0.42008723 0.80716619 0.8634957  0.22005148 0.33888753 0.44803374\n",
      "  0.33398579 0.44814413 0.81064983 0.14807604 0.51738462 0.09905201\n",
      "  0.83577924 0.48673078 0.83986136 0.41893433 0.22761468 0.47993352\n",
      "  0.20622716 0.62046412 0.49021414 0.76692884 0.73673927 0.71277423\n",
      "  0.78955844 0.34510522 0.24975782 0.25422364]\n",
      " [0.12210936 0.38878035 0.74769853 0.51174491 0.         0.21740122\n",
      "  0.59722144 0.43936489 0.40376397 0.67130946 0.61091747 0.37062334\n",
      "  0.69636343 0.35793656 0.49763776 0.36844171 0.04241869 0.48793695\n",
      "  0.05174121 0.08810158 0.19540402 0.08073886 0.56444615 0.34662792\n",
      "  0.28177706 0.43702838 0.48975877 0.4203332  0.26276739 0.60255626\n",
      "  0.47739864 0.15842044 0.48785651 0.22462456 0.44292407 0.22899052\n",
      "  0.32608551 0.47014838 0.40785184 0.58312546 0.598284   0.2013307\n",
      "  0.33694575 0.26029826 0.59403403 0.51214917 0.5181703  0.57231109\n",
      "  0.40902684 0.28242425 0.1604995  0.51970815 0.67953893 0.37530631\n",
      "  0.02620566 0.20088233 0.44272276 0.37976365 0.25196767 0.28697954\n",
      "  0.70984244 0.45446197 0.35746631 0.49025213 0.58332716 0.24367197\n",
      "  0.66549808 0.21395424 0.59988881 0.42986979 0.50661184 0.51582881\n",
      "  0.45549686 0.29764    0.36627527 0.59688751 0.51232022 0.25878118\n",
      "  0.28312627 0.57320992 0.37193794 0.37032779 0.234886   0.55871338\n",
      "  0.37587102 0.66447888 0.36402185 0.4208899  0.29854398 0.16381885\n",
      "  0.38543765 0.11034689 0.49081743 0.41984949 0.53368008 0.33710876\n",
      "  0.29991244 0.71169232 0.64910485 0.55786851]\n",
      " [0.19873281 0.17373208 0.53825515 0.37896616 0.21740122 0.\n",
      "  0.4043913  0.53947005 0.50365778 0.61580245 0.58320587 0.30250559\n",
      "  0.61084008 0.14654756 0.28270404 0.46708937 0.258541   0.64881311\n",
      "  0.26433303 0.17820699 0.3611659  0.15562394 0.49202385 0.4387494\n",
      "  0.15121053 0.58423616 0.47307966 0.54235502 0.23926175 0.79053672\n",
      "  0.60876277 0.30588301 0.27214728 0.11119371 0.27838835 0.19646863\n",
      "  0.39474651 0.26318783 0.62518137 0.56770119 0.58565962 0.40091233\n",
      "  0.40685827 0.22952454 0.59149932 0.37644551 0.30416923 0.39494669\n",
      "  0.52970186 0.40719016 0.0806405  0.61637557 0.64361301 0.24319706\n",
      "  0.24324956 0.21228411 0.65516584 0.5299722  0.06162759 0.4818603\n",
      "  0.62237251 0.42627002 0.56172075 0.40326993 0.53838432 0.24378158\n",
      "  0.57994281 0.30355168 0.6906023  0.21251619 0.31086403 0.68302322\n",
      "  0.51492308 0.4666511  0.57474661 0.53485609 0.29553811 0.37356452\n",
      "  0.06871105 0.35802078 0.4325045  0.27580094 0.39195201 0.39333939\n",
      "  0.59318083 0.44818922 0.5799214  0.4877171  0.24378189 0.31665216\n",
      "  0.19783698 0.29741074 0.57167205 0.62069728 0.69706726 0.33518809\n",
      "  0.5134753  0.66505266 0.58268592 0.5210786 ]\n",
      " [0.6031234  0.25057102 0.18392878 0.59328134 0.59722144 0.4043913\n",
      "  0.         0.93272805 0.67333074 0.88450266 0.88795005 0.34732945\n",
      "  0.83941278 0.34260062 0.1792677  0.64771695 0.63936122 1.05313034\n",
      "  0.63182785 0.5803981  0.65912589 0.51802091 0.76194399 0.62152821\n",
      "  0.48957556 0.98771892 0.8041325  0.94187829 0.61405963 1.19231353\n",
      "  1.00930265 0.7097574  0.1925184  0.48922927 0.17125187 0.41482509\n",
      "  0.78478967 0.15200619 0.98977252 0.8864857  0.90482387 0.72967093\n",
      "  0.79644004 0.40962484 0.91912996 0.20030418 0.16082391 0.06819102\n",
      "  0.92917567 0.64347403 0.43743313 1.00566605 0.93164354 0.25631374\n",
      "  0.61954541 0.60664468 1.03790675 0.76423174 0.41570026 0.79126151\n",
      "  0.84595725 0.43451257 0.87902756 0.67710849 0.83162696 0.62807767\n",
      "  0.81417752 0.7048212  0.79566015 0.25159987 0.40442744 1.08740644\n",
      "  0.89218804 0.74130497 0.90051078 0.80902768 0.25844441 0.7758126\n",
      "  0.36754128 0.16220168 0.57514178 0.58479434 0.79612203 0.53296004\n",
      "  0.95243716 0.2026536  0.92895457 0.87038732 0.59884964 0.72031909\n",
      "  0.4104792  0.6347877  0.95593446 1.01596718 1.10141662 0.45078742\n",
      "  0.85737968 0.9377885  0.84283807 0.82576425]\n",
      " [0.35578788 0.68316156 1.03242966 0.5040138  0.43936489 0.53947005\n",
      "  0.93272805 0.         0.81501146 0.43338991 0.34068524 0.79789333\n",
      "  0.51120082 0.59892365 0.7770075  0.78387065 0.41922707 0.20113635\n",
      "  0.45315847 0.39242312 0.58949454 0.50230597 0.40636904 0.76765457\n",
      "  0.44867957 0.13297923 0.26595976 0.05717324 0.32128282 0.38490657\n",
      "  0.10279731 0.28118607 0.76340634 0.4436303  0.81773484 0.65684017\n",
      "  0.14817144 0.78212375 0.5032792  0.30077078 0.30366817 0.53737275\n",
      "  0.13683578 0.69159579 0.28152406 0.91133857 0.80032398 0.93213423\n",
      "  0.05617098 0.69211373 0.54369245 0.08053996 0.40052719 0.77323927\n",
      "  0.43768939 0.32803346 0.43869124 0.7482049  0.51736235 0.59901334\n",
      "  0.52450588 0.89260217 0.61237432 0.40497256 0.3600738  0.30486221\n",
      "  0.49083737 0.24093033 1.00256452 0.69532228 0.64474541 0.24023958\n",
      "  0.09785884 0.65795163 0.59774925 0.40178949 0.74161619 0.18113204\n",
      "  0.56541104 0.84206907 0.80354555 0.39524572 0.22034918 0.60015427\n",
      "  0.50821371 0.91419692 0.53592104 0.08579583 0.34611256 0.27704875\n",
      "  0.55661882 0.51391128 0.06531183 0.34286421 0.23833791 0.77602092\n",
      "  0.52654636 0.44374283 0.44114455 0.33123196]\n",
      " [0.52415404 0.60133331 0.85699644 0.87662343 0.40376397 0.50365778\n",
      "  0.67333074 0.81501146 0.         1.07147014 1.0142779  0.32623571\n",
      "  1.0883914  0.63511818 0.68211684 0.03698418 0.40679637 0.79529058\n",
      "  0.37118523 0.48603495 0.22551976 0.38605961 0.95907059 0.06492951\n",
      "  0.63812107 0.77071319 0.89322091 0.78176331 0.65968487 0.83548985\n",
      "  0.82394837 0.54436453 0.68006029 0.58144866 0.50940139 0.31941832\n",
      "  0.72350457 0.62571127 0.50810242 0.9868784  1.00203983 0.28803037\n",
      "  0.73341667 0.2989809  0.99744977 0.48887756 0.69232959 0.61461528\n",
      "  0.77279911 0.12372263 0.42585124 0.89172823 1.08255368 0.42796538\n",
      "  0.39369165 0.60014995 0.60256371 0.12794252 0.56420061 0.26538116\n",
      "  1.10129303 0.26748948 0.32659648 0.8783442  0.98456226 0.64402053\n",
      "  1.05715651 0.61369454 0.19640249 0.65470235 0.8055735  0.80847654\n",
      "  0.84950224 0.18360398 0.35669375 0.99482963 0.74197048 0.64472598\n",
      "  0.56336144 0.7448795  0.09833607 0.75117464 0.59476127 0.89695812\n",
      "  0.46758495 0.83281482 0.42606289 0.81390781 0.68963288 0.54504422\n",
      "  0.70036149 0.30515135 0.87401334 0.64610355 0.8306001  0.22374669\n",
      "  0.37090651 1.11363831 1.04655844 0.96003095]\n",
      " [0.54923794 0.66123112 0.90581853 0.29190098 0.67130946 0.61580245\n",
      "  0.88450266 0.43338991 1.07147014 0.         0.09349323 0.91766384\n",
      "  0.09509869 0.56594583 0.7052467  1.03511417 0.67894097 0.63149411\n",
      "  0.71259847 0.58596407 0.86524646 0.68808099 0.12642099 1.01071482\n",
      "  0.46485286 0.56635826 0.19351586 0.48937569 0.41186897 0.81198376\n",
      "  0.52760419 0.5634744  0.69212958 0.50991364 0.84506635 0.80506607\n",
      "  0.39983783 0.74381274 0.90756913 0.1330986  0.13390694 0.84814679\n",
      "  0.39631629 0.84060101 0.16035088 0.95654859 0.72421718 0.91523878\n",
      "  0.48477888 0.95278814 0.67260082 0.43216991 0.06279504 0.84354794\n",
      "  0.68631546 0.47158677 0.86026766 1.04822843 0.55933971 0.92859024\n",
      "  0.10434287 1.04195219 0.97079515 0.21662811 0.08920269 0.42799104\n",
      "  0.09476813 0.48258608 1.26773435 0.63914628 0.48656103 0.6685363\n",
      "  0.33655953 0.96164202 0.96493336 0.08108885 0.63076217 0.49004823\n",
      "  0.5905118  0.73975594 1.02323833 0.34015772 0.5664063  0.36979493\n",
      "  0.90212439 0.77343567 0.91969718 0.36034551 0.38503648 0.56874607\n",
      "  0.48447063 0.77914426 0.38472932 0.76887928 0.6622299  0.94523344\n",
      "  0.88843917 0.05328634 0.04322092 0.11784695]\n",
      " [0.49017482 0.65244776 0.92789818 0.31004577 0.61091747 0.58320587\n",
      "  0.88795005 0.34068524 1.0142779  0.09349323 0.         0.88526912\n",
      "  0.18130348 0.55551624 0.70969989 0.97850855 0.61401052 0.53813061\n",
      "  0.64868027 0.52886308 0.80167657 0.6366437  0.13775687 0.95537641\n",
      "  0.43594136 0.47356257 0.12119462 0.3970168  0.3607022  0.71849073\n",
      "  0.43415916 0.49072048 0.69605249 0.47325929 0.83072168 0.76438123\n",
      "  0.31896528 0.74157309 0.8216658  0.03991456 0.04175298 0.77808973\n",
      "  0.31397809 0.80062454 0.06919591 0.94063257 0.73027548 0.91220452\n",
      "  0.39284878 0.89332291 0.63161528 0.33897879 0.06973915 0.81988644\n",
      "  0.62350418 0.41604888 0.77087605 0.98249045 0.53122827 0.85621136\n",
      "  0.19287053 1.00560983 0.89360405 0.21170231 0.05932509 0.37204318\n",
      "  0.16997901 0.41119061 1.21060567 0.63757867 0.5040163  0.5750736\n",
      "  0.2445583  0.89431653 0.88611074 0.09894528 0.64224249 0.40995962\n",
      "  0.56786322 0.75252321 0.97259207 0.31497549 0.48498219 0.40126789\n",
      "  0.81809448 0.79634837 0.83758904 0.27013077 0.34197169 0.49483565\n",
      "  0.47887887 0.71582844 0.29124046 0.67837358 0.56874135 0.90333536\n",
      "  0.80996294 0.10855244 0.11217197 0.06335377]\n",
      " [0.44353832 0.31585854 0.53081442 0.66563696 0.37062334 0.30250559\n",
      "  0.34732945 0.79789333 0.32623571 0.91766384 0.88526912 0.\n",
      "  0.90778198 0.38214252 0.37305645 0.30046985 0.40434487 0.85792926\n",
      "  0.38099303 0.40564072 0.3458193  0.29735061 0.79303309 0.27467913\n",
      "  0.45285486 0.8074687  0.77313506 0.78611739 0.53320204 0.95965194\n",
      "  0.84602407 0.5239588  0.3740133  0.41204967 0.18465351 0.14222834\n",
      "  0.66568725 0.31220721 0.69724306 0.86852506 0.88626732 0.42705883\n",
      "  0.67771592 0.11079318 0.8906318  0.17522416 0.37906184 0.29065785\n",
      "  0.77425311 0.30529595 0.26123071 0.878183   0.9461088  0.10984417\n",
      "  0.38254607 0.49186341 0.76530312 0.42007261 0.35850366 0.4710463\n",
      "  0.91862337 0.12997527 0.55768312 0.70345649 0.84088919 0.53122948\n",
      "  0.87735033 0.55828901 0.46508697 0.36636711 0.54179048 0.8844657\n",
      "  0.79389739 0.40893845 0.58279452 0.83661239 0.44554512 0.61790947\n",
      "  0.33237434 0.42778604 0.22832483 0.57751575 0.60491386 0.65564336\n",
      "  0.65668914 0.51179525 0.62567453 0.7626956  0.54416942 0.53117984\n",
      "  0.46293684 0.3534824  0.84163802 0.76860761 0.90301308 0.10366369\n",
      "  0.55453804 0.96731961 0.88360973 0.82339771]\n",
      " [0.57517706 0.63094862 0.84413779 0.25100003 0.69636343 0.61084008\n",
      "  0.83941278 0.51120082 1.0883914  0.09509869 0.18130348 0.90778198\n",
      "  0.         0.5395048  0.66145786 1.05157874 0.70942564 0.71169943\n",
      "  0.74133321 0.6087623  0.89176554 0.70234868 0.13280782 1.02583333\n",
      "  0.46071321 0.64363566 0.25315829 0.56553617 0.43361633 0.89417181\n",
      "  0.6090662  0.60586844 0.64905021 0.51222167 0.81745554 0.80548741\n",
      "  0.45674903 0.70576667 0.96651447 0.21821834 0.22304694 0.88325091\n",
      "  0.45533702 0.83979025 0.2504031  0.92931644 0.67864223 0.87590214\n",
      "  0.5596621  0.97339755 0.67546036 0.51813983 0.156371   0.82537152\n",
      "  0.7140694  0.49575731 0.92653108 1.07608308 0.55112173 0.96620311\n",
      "  0.01418999 1.03517759 1.01505348 0.21052609 0.15122204 0.45424893\n",
      "  0.03126923 0.5250255  1.2834425  0.6022706  0.43547052 0.74982321\n",
      "  0.41335002 0.99218152 1.01170273 0.1130716  0.58172713 0.54377051\n",
      "  0.57579266 0.68782927 1.03269997 0.33925485 0.62078217 0.31001795\n",
      "  0.95772983 0.71222868 0.97195423 0.43275848 0.39955221 0.61256221\n",
      "  0.45581254 0.80626889 0.46777427 0.83819066 0.74502623 0.94541166\n",
      "  0.93516086 0.13065933 0.0706313  0.18068276]\n",
      " [0.30718865 0.09698853 0.43561255 0.29005105 0.35793656 0.14654756\n",
      "  0.34260062 0.59892365 0.63511818 0.56594583 0.55551624 0.38214252\n",
      "  0.5395048  0.         0.1780855  0.59944303 0.39707668 0.73966659\n",
      "  0.40718419 0.30092512 0.50713261 0.30188163 0.43973809 0.57048629\n",
      "  0.15033726 0.66925415 0.46386023 0.61469061 0.27764085 0.89658835\n",
      "  0.68286966 0.41438411 0.16452287 0.16731353 0.27930347 0.31669669\n",
      "  0.4510162  0.19103416 0.76267252 0.54988617 0.56833966 0.54702741\n",
      "  0.46212533 0.34274943 0.58068877 0.39103912 0.20140753 0.35826665\n",
      "  0.60210417 0.547274   0.22523392 0.66856288 0.60589929 0.28884041\n",
      "  0.38413403 0.28379164 0.78407546 0.67217934 0.10799577 0.62837221\n",
      "  0.54895047 0.51211568 0.70773875 0.35035193 0.50211499 0.29569518\n",
      "  0.51052336 0.38689719 0.81430239 0.09639877 0.1704599  0.77687732\n",
      "  0.55152126 0.61202322 0.72009603 0.4863621  0.15930372 0.45771472\n",
      "  0.07790384 0.24558865 0.55531506 0.24441203 0.49500461 0.27385072\n",
      "  0.73264487 0.3266841  0.72195839 0.5315527  0.25764062 0.42586754\n",
      "  0.08383892 0.44370924 0.61694264 0.73960111 0.78797525 0.44330969\n",
      "  0.65706724 0.61849678 0.52718369 0.49232456]\n",
      " [0.47265761 0.10906564 0.25984316 0.41419613 0.49763776 0.28270404\n",
      "  0.1792677  0.7770075  0.68211684 0.7052467  0.70969989 0.37305645\n",
      "  0.66145786 0.1780855  0.         0.65029606 0.53958429 0.91455138\n",
      "  0.54124817 0.45865837 0.60786218 0.42664147 0.5827653  0.6215836\n",
      "  0.32837173 0.84522321 0.6293965  0.79226927 0.45572492 1.06664377\n",
      "  0.8604097  0.5813232  0.01398971 0.34097683 0.20273916 0.37518085\n",
      "  0.62909236 0.06275838 0.90474389 0.70941996 0.72767435 0.66446627\n",
      "  0.64021075 0.38621428 0.74283169 0.30050071 0.02334019 0.21639938\n",
      "  0.7796515  0.62082727 0.34154151 0.84631502 0.75251557 0.26321233\n",
      "  0.52281471 0.45931586 0.93780725 0.74780147 0.27208774 0.73815645\n",
      "  0.66838838 0.49251702 0.82323472 0.49844884 0.65297719 0.47350839\n",
      "  0.63574103 0.56166779 0.83736586 0.08168775 0.22840923 0.9510652\n",
      "  0.72801169 0.70468344 0.84015323 0.62983097 0.08731383 0.63291865\n",
      "  0.22651593 0.07557321 0.589426   0.41137821 0.66492582 0.35791298\n",
      "  0.87110722 0.16775133 0.85445742 0.70898344 0.4345148  0.59258036\n",
      "  0.23504677 0.56205925 0.79421911 0.90203484 0.96296226 0.46372709\n",
      "  0.78544032 0.75853295 0.6636334  0.6478639 ]\n",
      " [0.48833415 0.5675484  0.83091892 0.83967554 0.36844171 0.46708937\n",
      "  0.64771695 0.78387065 0.03698418 1.03511417 0.97850855 0.30046985\n",
      "  1.05157874 0.59944303 0.65029606 0.         0.37287735 0.77016546\n",
      "  0.33728561 0.44997892 0.19502186 0.34923074 0.92238309 0.02913416\n",
      "  0.60114675 0.74320294 0.85751676 0.75187464 0.62327524 0.81698588\n",
      "  0.79559079 0.51119454 0.64785497 0.54446461 0.48173273 0.28448237\n",
      "  0.68967457 0.5947609  0.4954654  0.95140382 0.96667916 0.26288327\n",
      "  0.69973469 0.26552102 0.96240235 0.46745989 0.6611092  0.59056275\n",
      "  0.74265889 0.09186228 0.38906427 0.86116196 1.04665538 0.39909313\n",
      "  0.35914213 0.56395989 0.58712974 0.13102    0.52751486 0.2499243\n",
      "  1.06446133 0.25475665 0.31832553 0.84148405 0.94835106 0.60787575\n",
      "  1.02033912 0.57936789 0.23262022 0.6208899  0.76989915 0.78468564\n",
      "  0.81631395 0.16795146 0.34808401 0.95831014 0.70854344 0.61202118\n",
      "  0.52723261 0.71422807 0.07850432 0.71424638 0.56391316 0.86042291\n",
      "  0.45435323 0.80297049 0.41387872 0.78080604 0.65294749 0.51223847\n",
      "  0.66400854 0.27194067 0.84219993 0.62599    0.80659907 0.19693159\n",
      "  0.35490193 1.07750384 1.00999344 0.92396653]\n",
      " [0.13596826 0.4306417  0.79008557 0.53582708 0.04241869 0.258541\n",
      "  0.63936122 0.41922707 0.40679637 0.67894097 0.61401052 0.40434487\n",
      "  0.70942564 0.39707668 0.53958429 0.37287735 0.         0.45377775\n",
      "  0.03561183 0.11117702 0.18776217 0.12190376 0.57679701 0.35346245\n",
      "  0.31200619 0.40636009 0.49298468 0.39563311 0.27728321 0.56277321\n",
      "  0.44967026 0.13967908 0.52967297 0.25661314 0.48400669 0.26420571\n",
      "  0.31680004 0.51253771 0.3667556  0.58425954 0.59862369 0.17642048\n",
      "  0.32687827 0.29356016 0.59245024 0.55068649 0.56023896 0.61371257\n",
      "  0.38486744 0.2833886  0.20289374 0.49887012 0.68329845 0.4148463\n",
      "  0.02187054 0.21494868 0.40030553 0.36932819 0.29012856 0.26181467\n",
      "  0.7231348  0.48107579 0.32650124 0.50666011 0.59017668 0.25522249\n",
      "  0.67890693 0.20717572 0.6013027  0.47104602 0.54183156 0.48017926\n",
      "  0.44392147 0.28315283 0.33297586 0.60677226 0.55266891 0.24149689\n",
      "  0.32330432 0.61514695 0.38502764 0.39133831 0.20678489 0.58795002\n",
      "  0.33565703 0.70621019 0.32570138 0.40860105 0.31620499 0.14240473\n",
      "  0.42041903 0.10246598 0.47386851 0.37849933 0.49867026 0.36296657\n",
      "  0.26384552 0.71715324 0.65909389 0.56359078]\n",
      " [0.45018987 0.81187999 1.17424102 0.69339672 0.48793695 0.64881311\n",
      "  1.05313034 0.20113635 0.79529058 0.63149411 0.53813061 0.85792926\n",
      "  0.71169943 0.73966659 0.91455138 0.77016546 0.45377775 0.\n",
      "  0.47976386 0.47613113 0.5797473  0.56541186 0.60701809 0.76075608\n",
      "  0.59501844 0.07527011 0.46676057 0.15097669 0.47229168 0.18408683\n",
      "  0.10449799 0.34589222 0.90172952 0.57363818 0.91707158 0.71684375\n",
      "  0.3106861  0.90836804 0.3747129  0.49839698 0.49930481 0.50748819\n",
      "  0.30344655 0.74720544 0.4751757  0.99687808 0.93770371 1.04118733\n",
      "  0.16012597 0.68067785 0.62903796 0.2089118  0.59400519 0.85821163\n",
      "  0.47549489 0.45588092 0.2855277  0.70263563 0.64345504 0.54400397\n",
      "  0.72486318 0.93037634 0.5282902  0.59974464 0.5607814  0.44886071\n",
      "  0.69181856 0.35296478 0.96518946 0.83410859 0.81453439 0.04042818\n",
      "  0.29877127 0.61813898 0.50601922 0.60286128 0.89308032 0.28195224\n",
      "  0.6907482  0.9850363  0.80836049 0.57013194 0.25938127 0.78623054\n",
      "  0.3941161  1.06491125 0.43181666 0.28445104 0.50715034 0.33620159\n",
      "  0.71330438 0.52401401 0.24755962 0.19023641 0.04843871 0.81246049\n",
      "  0.44905067 0.63739011 0.6413999  0.53217891]\n",
      " [0.16633898 0.43298167 0.78761248 0.56202792 0.05174121 0.26433303\n",
      "  0.63182785 0.45315847 0.37118523 0.71259847 0.64868027 0.38099303\n",
      "  0.74133321 0.40718419 0.54124817 0.33728561 0.03561183 0.47976386\n",
      "  0.         0.13676252 0.15302819 0.11549844 0.60890635 0.3180173\n",
      "  0.33338583 0.43538157 0.52757381 0.42799396 0.30817651 0.58059107\n",
      "  0.48043107 0.17474816 0.53201375 0.27635231 0.47229474 0.24355696\n",
      "  0.35240087 0.51042999 0.36368841 0.61925021 0.63373342 0.1499636\n",
      "  0.36245395 0.27046224 0.62778722 0.53311683 0.56115731 0.60272555\n",
      "  0.41747738 0.24779748 0.20033711 0.53249395 0.7178632  0.39961469\n",
      "  0.02791218 0.24581011 0.40614051 0.33574629 0.30222002 0.23571963\n",
      "  0.75495959 0.45178185 0.30577388 0.53706377 0.62400261 0.28718789\n",
      "  0.71066909 0.24271417 0.56576118 0.47599174 0.55791262 0.50452039\n",
      "  0.47936485 0.2508711  0.31496588 0.63973759 0.55986607 0.27641823\n",
      "  0.33137087 0.616745   0.350511   0.41929956 0.23834602 0.61027817\n",
      "  0.32994216 0.70871356 0.31558949 0.44399645 0.34579111 0.17694109\n",
      "  0.43685318 0.06721698 0.50852393 0.39267672 0.5236723  0.33360509\n",
      "  0.24988806 0.75136581 0.69205069 0.59768196]\n",
      " [0.04044343 0.35047143 0.71600687 0.42547802 0.08810158 0.17820699\n",
      "  0.5803981  0.39242312 0.48603495 0.58596407 0.52886308 0.40564072\n",
      "  0.6087623  0.30092512 0.45865837 0.44997892 0.11117702 0.47613113\n",
      "  0.13676252 0.         0.28323357 0.1144482  0.47714764 0.42653297\n",
      "  0.20163474 0.41561511 0.40814914 0.38392793 0.17545758 0.61260437\n",
      "  0.44700492 0.1303077  0.4473537  0.14807529 0.44108807 0.2654561\n",
      "  0.26268647 0.44138125 0.46467036 0.50289164 0.51872704 0.28606609\n",
      "  0.27444689 0.30097121 0.51643462 0.52521763 0.48071787 0.56531895\n",
      "  0.37168807 0.36685136 0.15472437 0.47260357 0.59675007 0.38607646\n",
      "  0.10885311 0.11439165 0.48326912 0.46763213 0.19308221 0.3718097\n",
      "  0.62217883 0.50574773 0.43764232 0.40218758 0.49863413 0.15805857\n",
      "  0.57782875 0.15287508 0.68243464 0.38397052 0.43520148 0.50872844\n",
      "  0.39259413 0.38570556 0.44356563 0.51051039 0.45976729 0.2137005\n",
      "  0.23349867 0.53328197 0.44555461 0.28264578 0.21698908 0.47689076\n",
      "  0.43721664 0.62139844 0.43167955 0.35981618 0.21046295 0.1404024\n",
      "  0.31402859 0.19844819 0.43658802 0.44338089 0.52393747 0.39239699\n",
      "  0.37295614 0.62761276 0.56260753 0.47400137]\n",
      " [0.31700125 0.50674783 0.83163526 0.70158778 0.19540402 0.3611659\n",
      "  0.65912589 0.58949454 0.22551976 0.86524646 0.80167657 0.3458193\n",
      "  0.89176554 0.50713261 0.60786218 0.19502186 0.18776217 0.5797473\n",
      "  0.15302819 0.28323357 0.         0.21056977 0.75978701 0.18189648\n",
      "  0.46541899 0.5493846  0.68058902 0.55686306 0.45815911 0.64317574\n",
      "  0.60101597 0.3211753  0.60140599 0.40676808 0.48871554 0.24447066\n",
      "  0.50153647 0.56428698 0.35278186 0.77201731 0.78633193 0.08419633\n",
      "  0.51098021 0.25216761 0.77983769 0.51846286 0.62433147 0.61606881\n",
      "  0.5476928  0.10321628 0.28199704 0.66637316 0.87088532 0.40522292\n",
      "  0.17893114 0.39616621 0.42841504 0.18439859 0.41313491 0.13243455\n",
      "  0.90524633 0.37250891 0.21999074 0.68532928 0.77679367 0.43857347\n",
      "  0.86090168 0.39409309 0.41618569 0.55662631 0.67106852 0.59687192\n",
      "  0.6256983  0.10673439 0.24168137 0.79171631 0.64516645 0.42033972\n",
      "  0.42932894 0.6806466  0.22919793 0.56366319 0.36927589 0.73994116\n",
      "  0.31174013 0.77362726 0.27985694 0.58997908 0.49360215 0.3210483\n",
      "  0.55377126 0.08610622 0.6486206  0.44947571 0.61825117 0.26361594\n",
      "  0.20889402 0.9043451  0.84399036 0.75062366]\n",
      " [0.15476133 0.31896749 0.67213196 0.49639866 0.08073886 0.15562394\n",
      "  0.51802091 0.50230597 0.38605961 0.68808099 0.6366437  0.29735061\n",
      "  0.70234868 0.30188163 0.42664147 0.34923074 0.12190376 0.56541186\n",
      "  0.11549844 0.1144482  0.21056977 0.         0.57345562 0.32365377\n",
      "  0.25785775 0.51158666 0.51700873 0.48882573 0.27691264 0.68323443\n",
      "  0.5488083  0.22665612 0.41775655 0.19946709 0.36225404 0.15524729\n",
      "  0.37674984 0.39493448 0.47898283 0.6126195  0.62896279 0.24528897\n",
      "  0.38840628 0.1893645  0.62802395 0.43244924 0.44622408 0.49182449\n",
      "  0.47701425 0.2739967  0.08514346 0.58281114 0.70334232 0.2949819\n",
      "  0.10157472 0.22099991 0.52022701 0.38844454 0.20325234 0.32668432\n",
      "  0.71523476 0.39199488 0.4061034  0.49230146 0.60259457 0.2648136\n",
      "  0.6711084  0.26579232 0.58127606 0.3637397  0.46181654 0.59440383\n",
      "  0.50681456 0.31726825 0.41945308 0.61024962 0.44943545 0.32150005\n",
      "  0.22426192 0.50202039 0.33604352 0.36556181 0.30886826 0.52995661\n",
      "  0.44461705 0.59431029 0.42812838 0.47373847 0.30415908 0.23411031\n",
      "  0.34349111 0.14183076 0.54912752 0.5003305  0.61174909 0.27798754\n",
      "  0.36003857 0.73210343 0.66162981 0.57956108]\n",
      " [0.44292931 0.53531961 0.79290775 0.17427437 0.56444615 0.49202385\n",
      "  0.76194399 0.40636904 0.95907059 0.12642099 0.13775687 0.79303309\n",
      "  0.13280782 0.43973809 0.5827653  0.92238309 0.57679701 0.60701809\n",
      "  0.60890635 0.47714764 0.75978701 0.57345562 0.         0.89709602\n",
      "  0.34081536 0.53541169 0.14043751 0.45705764 0.30173176 0.79106347\n",
      "  0.50810012 0.47384731 0.56942709 0.38841325 0.71874482 0.68357775\n",
      "  0.3316921  0.61930202 0.83928096 0.15515932 0.16969078 0.75044907\n",
      "  0.33173852 0.71868843 0.19405513 0.8301772  0.60239194 0.79073533\n",
      "  0.449571   0.84282921 0.55186309 0.42871701 0.16983092 0.71743457\n",
      "  0.58174316 0.36362465 0.80420255 0.94399586 0.43452943 0.83341239\n",
      "  0.1466974  0.91826532 0.88284516 0.09030689 0.07872152 0.32172845\n",
      "  0.10291991 0.39325312 1.15469198 0.51462417 0.3697693  0.64649722\n",
      "  0.31031119 0.85969451 0.87996065 0.04713238 0.51114214 0.41584729\n",
      "  0.46456438 0.62103478 0.90631168 0.21637067 0.4926202  0.26354323\n",
      "  0.82890369 0.66093507 0.84179065 0.32278772 0.26943806 0.48080952\n",
      "  0.35872529 0.67412018 0.37357663 0.71889965 0.6444656  0.8238481\n",
      "  0.80348508 0.17875872 0.09066226 0.09101993]\n",
      " [0.46535376 0.53845184 0.80442076 0.81224035 0.34662792 0.4387494\n",
      "  0.62152821 0.76765457 0.06492951 1.01071482 0.95537641 0.27467913\n",
      "  1.02583333 0.57048629 0.6215836  0.02913416 0.35346245 0.76075608\n",
      "  0.3180173  0.42653297 0.18189648 0.32365377 0.89709602 0.\n",
      "  0.57395894 0.73127573 0.83454615 0.73721545 0.59885918 0.81395692\n",
      "  0.78265882 0.49260079 0.61904212 0.5175811  0.45467121 0.25536048\n",
      "  0.66990325 0.56632197 0.49831448 0.92883182 0.94430696 0.25537286\n",
      "  0.68017377 0.23650868 0.94057217 0.44376265 0.63257056 0.5652224\n",
      "  0.72770855 0.08025326 0.36110699 0.84559054 1.02325307 0.37156034\n",
      "  0.33873521 0.54011064 0.58728533 0.14958281 0.49934672 0.25212735\n",
      "  1.03863763 0.23784535 0.32574026 0.81556518 0.92430628 0.58410291\n",
      "  0.99457836 0.55894023 0.25763224 0.59178878 0.74094591 0.77662323\n",
      "  0.79737535 0.17169662 0.35499408 0.93350782 0.67948507 0.59393677\n",
      "  0.49849078 0.68586346 0.06213571 0.68798597 0.54833715 0.83203709\n",
      "  0.45686569 0.77487305 0.41747091 0.76201244 0.62773119 0.49416111\n",
      "  0.63543697 0.25406749 0.8250851  0.621787   0.7982971  0.17101994\n",
      "  0.35555865 1.05360323 0.98505749 0.90024926]\n",
      " [0.19065487 0.23919601 0.584525   0.23901651 0.28177706 0.15121053\n",
      "  0.48957556 0.44867957 0.63812107 0.46485286 0.43594136 0.45285486\n",
      "  0.46071321 0.15033726 0.32837173 0.60114675 0.31200619 0.59501844\n",
      "  0.33338583 0.20163474 0.46541899 0.25785775 0.34081536 0.57395894\n",
      "  0.         0.52311798 0.33125302 0.46580801 0.12745343 0.75805898\n",
      "  0.53399353 0.28749118 0.31473947 0.05866166 0.40081903 0.34478275\n",
      "  0.300933   0.33761545 0.66067207 0.42343042 0.44170425 0.48306833\n",
      "  0.31193693 0.37914345 0.45013753 0.50808616 0.35167507 0.49824615\n",
      "  0.45330016 0.53101127 0.21596465 0.51833429 0.49434623 0.38402152\n",
      "  0.30622138 0.14318686 0.66738801 0.64604365 0.09537637 0.5686076\n",
      "  0.47253414 0.57745793 0.63814641 0.25219198 0.38889061 0.14704491\n",
      "  0.42967071 0.24522622 0.8300409  0.24670542 0.23899502 0.63314153\n",
      "  0.4026338  0.57177242 0.64494299 0.38383738 0.29813326 0.31412846\n",
      "  0.13409892 0.39409888 0.5750581  0.12470374 0.36045727 0.2769568\n",
      "  0.63570031 0.47039289 0.63239998 0.38164053 0.10971617 0.29891925\n",
      "  0.1223261  0.38697082 0.46713228 0.61233828 0.64303477 0.48472255\n",
      "  0.57458139 0.51451268 0.43147762 0.37310339]\n",
      " [0.38673339 0.74400008 1.1045471  0.61827722 0.43702838 0.58423616\n",
      "  0.98771892 0.13297923 0.77071319 0.56635826 0.47356257 0.8074687\n",
      "  0.64363566 0.66925415 0.84522321 0.74320294 0.40636009 0.07527011\n",
      "  0.43538157 0.41561511 0.5493846  0.51158666 0.53541169 0.73127573\n",
      "  0.52311798 0.         0.39566231 0.07844162 0.39909979 0.25742342\n",
      "  0.05948815 0.28686469 0.83222193 0.50433939 0.85625462 0.66544568\n",
      "  0.23554652 0.84130651 0.39311866 0.43365292 0.43612587 0.48348572\n",
      "  0.22819526 0.69731853 0.41331742 0.93992165 0.86846049 0.97839108\n",
      "  0.0861618  0.65210737 0.570015   0.16178023 0.53248436 0.80082563\n",
      "  0.42754549 0.38591571 0.31670692 0.68717427 0.57533831 0.53057753\n",
      "  0.65703564 0.88704381 0.5271471  0.52536778 0.49242126 0.37638764\n",
      "  0.6226566  0.28398941 0.9482475  0.76433993 0.74013625 0.11563493\n",
      "  0.23047745 0.59956018 0.50805869 0.53341703 0.82123493 0.21261498\n",
      "  0.62303899 0.91483208 0.77513883 0.49507934 0.20273376 0.71096741\n",
      "  0.40525988 0.99345208 0.43861902 0.21272015 0.43302688 0.27823875\n",
      "  0.64030745 0.48586673 0.18791554 0.21891378 0.12113925 0.76885728\n",
      "  0.44373004 0.57580561 0.57377483 0.463274  ]\n",
      " [0.36922439 0.56027925 0.86354713 0.26653242 0.48975877 0.47307966\n",
      "  0.8041325  0.26595976 0.89322091 0.19351586 0.12119462 0.77313506\n",
      "  0.25315829 0.46386023 0.6293965  0.85751676 0.49298468 0.46676057\n",
      "  0.52757381 0.40814914 0.68058902 0.51700873 0.14043751 0.83454615\n",
      "  0.33125302 0.39566231 0.         0.31722959 0.24287094 0.65075418\n",
      "  0.36768832 0.37175712 0.61545673 0.36199399 0.73149495 0.6484278\n",
      "  0.20680591 0.65409678 0.71611189 0.09610308 0.11334858 0.65832044\n",
      "  0.20401002 0.68486544 0.11892292 0.83933049 0.65126493 0.82199624\n",
      "  0.31015696 0.77214949 0.51617606 0.2912546  0.19031409 0.7136905\n",
      "  0.50232751 0.29605315 0.67349336 0.86173239 0.42501988 0.73740958\n",
      "  0.26712981 0.89096889 0.77767572 0.15835599 0.10604438 0.25219777\n",
      "  0.22923475 0.29147405 1.0895179  0.55260526 0.4442355  0.50614311\n",
      "  0.17004362 0.77384091 0.77150406 0.1403051  0.57089332 0.29662276\n",
      "  0.46525373 0.68027925 0.85264557 0.21958073 0.37316012 0.36544349\n",
      "  0.70947473 0.73488256 0.72638396 0.18295286 0.22934838 0.3764832\n",
      "  0.3944222  0.59469918 0.23499778 0.58511688 0.5040301  0.78641389\n",
      "  0.69504174 0.22538806 0.18679062 0.0760478 ]\n",
      " [0.35034171 0.69449149 1.05011254 0.54412618 0.4203332  0.54235502\n",
      "  0.94187829 0.05717324 0.78176331 0.48937569 0.3970168  0.78611739\n",
      "  0.56553617 0.61469061 0.79226927 0.75187464 0.39563311 0.15097669\n",
      "  0.42799396 0.38392793 0.55686306 0.48882573 0.45705764 0.73721545\n",
      "  0.46580801 0.07844162 0.31722959 0.         0.3391308  0.33482122\n",
      "  0.06819402 0.26275238 0.77893382 0.45364357 0.81888192 0.64407265\n",
      "  0.16819682 0.79294614 0.44868464 0.35711559 0.36046256 0.49946769\n",
      "  0.15907276 0.67776191 0.33858207 0.90822235 0.81560266 0.93715434\n",
      "  0.01270262 0.66002698 0.53805608 0.11269218 0.45750409 0.76927853\n",
      "  0.4154202  0.33537184 0.38193294 0.70876508 0.52652049 0.55651429\n",
      "  0.57899336 0.87474788 0.56464534 0.44900668 0.41431527 0.31906554\n",
      "  0.54433136 0.23888369 0.96609317 0.71076099 0.67396758 0.19116184\n",
      "  0.15289221 0.61910462 0.54866033 0.45506638 0.76259642 0.17069465\n",
      "  0.57466556 0.85975958 0.77627858 0.42619812 0.18993806 0.63826424\n",
      "  0.45528643 0.93532001 0.48452032 0.13430417 0.36928226 0.2565582\n",
      "  0.57919741 0.48530571 0.1192563  0.28581724 0.19265827 0.75714195\n",
      "  0.47918793 0.50067365 0.49583038 0.38504957]\n",
      " [0.14183757 0.3635964  0.711832   0.27139893 0.26276739 0.23926175\n",
      "  0.61405963 0.32128282 0.65968487 0.41186897 0.3607022  0.53320204\n",
      "  0.43361633 0.27764085 0.45572492 0.62327524 0.27728321 0.47229168\n",
      "  0.30817651 0.17545758 0.45815911 0.27691264 0.30173176 0.59885918\n",
      "  0.12745343 0.39909979 0.24287094 0.3391308  0.         0.64088876\n",
      "  0.40724734 0.19896281 0.44213096 0.1305983  0.51249797 0.40576132\n",
      "  0.17348265 0.46255266 0.58335807 0.33897401 0.35606656 0.45303655\n",
      "  0.18449835 0.44225241 0.35831544 0.61471269 0.47904253 0.61842899\n",
      "  0.32671329 0.54184016 0.27398755 0.39188453 0.42667182 0.48244328\n",
      "  0.28070706 0.06238875 0.57432859 0.64246695 0.20283873 0.53760043\n",
      "  0.44712921 0.64875958 0.59448111 0.22943636 0.32574306 0.02809493\n",
      "  0.40279464 0.13423006 0.85589288 0.37403946 0.34506104 0.51120947\n",
      "  0.27999586 0.55900026 0.59553981 0.33538851 0.4235105  0.19597131\n",
      "  0.24952045 0.52139588 0.61287051 0.1234825  0.25450138 0.34345866\n",
      "  0.56438835 0.59620734 0.56886679 0.25646263 0.043979   0.20902708\n",
      "  0.241215   0.37267699 0.34197148 0.50869567 0.51983373 0.54354439\n",
      "  0.52056226 0.45522679 0.38736514 0.30273206]\n",
      " [0.59427047 0.9604584  1.32603057 0.87429378 0.60255626 0.79053672\n",
      "  1.19231353 0.38490657 0.83548985 0.81198376 0.71849073 0.95965194\n",
      "  0.89417181 0.89658835 1.06664377 0.81698588 0.56277321 0.18408683\n",
      "  0.58059107 0.61260437 0.64317574 0.68323443 0.79106347 0.81395692\n",
      "  0.75805898 0.25742342 0.65075418 0.33482122 0.64088876 0.\n",
      "  0.285106   0.48563588 1.05448059 0.72928336 1.0446912  0.82414048\n",
      "  0.48884643 1.05361778 0.34357103 0.67905648 0.67875228 0.56123689\n",
      "  0.48276705 0.85001913 0.65369348 1.11314559 1.08936332 1.17294113\n",
      "  0.34345431 0.73486771 0.7572309  0.38202187 0.77148619 0.97759018\n",
      "  0.58432833 0.61544677 0.24054646 0.72461568 0.79476046 0.57055228\n",
      "  0.90716488 1.01280424 0.5268916  0.78273002 0.74363436 0.61550481\n",
      "  0.87495687 0.5128352  0.9818363  0.98820099 0.98582211 0.144687\n",
      "  0.48219201 0.6519052  0.49890219 0.78621686 1.05365143 0.44527189\n",
      "  0.84025225 1.13949205 0.86901322 0.74620083 0.40190754 0.96542893\n",
      "  0.37817488 1.22326881 0.42124261 0.46853674 0.67878991 0.47453147\n",
      "  0.87911511 0.60838158 0.42729368 0.19379937 0.1498501  0.89823004\n",
      "  0.46542463 0.81471071 0.82368566 0.71535536]\n",
      " [0.41484235 0.76233377 1.11830539 0.6057329  0.47739864 0.60876277\n",
      "  1.00930265 0.10279731 0.82394837 0.52760419 0.43415916 0.84602407\n",
      "  0.6090662  0.68286966 0.8604097  0.79559079 0.44967026 0.10449799\n",
      "  0.48043107 0.44700492 0.60101597 0.5488083  0.50810012 0.78265882\n",
      "  0.53399353 0.05948815 0.36768832 0.06819402 0.40724734 0.285106\n",
      "  0.         0.32217185 0.84708735 0.52149201 0.88441626 0.70379884\n",
      "  0.23563685 0.86068457 0.45203874 0.39452649 0.39504888 0.53780538\n",
      "  0.22605307 0.73675686 0.37075229 0.97212326 0.88374112 1.00369992\n",
      "  0.08076644 0.70409814 0.60163065 0.1067746  0.48952413 0.83302034\n",
      "  0.47025304 0.40306752 0.37322292 0.74340518 0.59419099 0.58762926\n",
      "  0.62207124 0.93059735 0.58613765 0.50761365 0.45858941 0.38725797\n",
      "  0.5899995  0.30525266 1.0037083  0.77891881 0.74057308 0.14096894\n",
      "  0.19795041 0.65514105 0.56732426 0.50144628 0.83066079 0.23561875\n",
      "  0.642308   0.9279536  0.82470692 0.49204683 0.24303127 0.70115834\n",
      "  0.4646871  1.00339772 0.49810016 0.18855348 0.43689038 0.31485936\n",
      "  0.64705342 0.53415321 0.14317935 0.27532932 0.13652545 0.81257174\n",
      "  0.50237902 0.53290641 0.5385893  0.43047723]\n",
      " [0.10868258 0.47482448 0.84046614 0.4701288  0.15842044 0.30588301\n",
      "  0.7097574  0.28118607 0.54436453 0.5634744  0.49072048 0.5239588\n",
      "  0.60586844 0.41438411 0.5813232  0.51119454 0.13967908 0.34589222\n",
      "  0.17474816 0.1303077  0.3211753  0.22665612 0.47384731 0.49260079\n",
      "  0.28749118 0.28686469 0.37175712 0.26275238 0.19896281 0.48563588\n",
      "  0.32217185 0.         0.56933812 0.24857343 0.57119233 0.3817638\n",
      "  0.18066718 0.5684235  0.38441134 0.45804736 0.471034   0.28781281\n",
      "  0.18985725 0.4151251  0.4621679  0.65307258 0.60393257 0.69561062\n",
      "  0.25119269 0.42064718 0.28355821 0.36140733 0.56045962 0.51400094\n",
      "  0.15697766 0.14869967 0.38070764 0.49550293 0.31002717 0.36566819\n",
      "  0.61995781 0.61266713 0.40922878 0.41684607 0.47433554 0.17117953\n",
      "  0.57668328 0.0811163  0.73725818 0.5037008  0.52590238 0.378459\n",
      "  0.30515265 0.40592923 0.40619723 0.49726557 0.5732466  0.1018574\n",
      "  0.35481688 0.65470638 0.5246195  0.32241925 0.08668927 0.54082296\n",
      "  0.36587887 0.74015315 0.37247901 0.26961246 0.2429327  0.01153452\n",
      "  0.40936709 0.2392879  0.33439019 0.32617286 0.39364242 0.49549627\n",
      "  0.3298212  0.59705095 0.5489773  0.44589957]\n",
      " [0.46071003 0.09909994 0.27252322 0.40130756 0.48785651 0.27214728\n",
      "  0.1925184  0.76340634 0.68006029 0.69212958 0.69605249 0.3740133\n",
      "  0.64905021 0.16452287 0.01398971 0.64785497 0.52967297 0.90172952\n",
      "  0.53201375 0.4473537  0.60140599 0.41775655 0.56942709 0.61904212\n",
      "  0.31473947 0.83222193 0.61545673 0.77893382 0.44213096 1.05448059\n",
      "  0.84708735 0.56933812 0.         0.32809812 0.20743356 0.37084766\n",
      "  0.61553526 0.06791212 0.89529133 0.69561994 0.71388317 0.656809\n",
      "  0.6266266  0.38311504 0.72897324 0.30781851 0.03698801 0.22785103\n",
      "  0.76632421 0.61652905 0.33277007 0.83256415 0.73914072 0.26427297\n",
      "  0.51317337 0.44630683 0.92730709 0.74363209 0.25975945 0.73124094\n",
      "  0.65610404 0.49506629 0.81596981 0.48488087 0.63941434 0.46008612\n",
      "  0.62316036 0.54879761 0.83750583 0.06818642 0.21695167 0.93834972\n",
      "  0.714127   0.69907938 0.83252979 0.61650934 0.07898837 0.62000657\n",
      "  0.21465947 0.08597748 0.58811189 0.397396   0.65267516 0.34649683\n",
      "  0.86194785 0.17671503 0.84579918 0.69518441 0.42068344 0.58062575\n",
      "  0.22108743 0.55410861 0.78039768 0.890668   0.9501297  0.46294318\n",
      "  0.77706164 0.74541528 0.65060319 0.63415678]\n",
      " [0.14415393 0.24084946 0.60060298 0.29698143 0.22462456 0.11119371\n",
      "  0.48922927 0.4436303  0.58144866 0.50991364 0.47325929 0.41204967\n",
      "  0.51222167 0.16731353 0.34097683 0.54446461 0.25661314 0.57363818\n",
      "  0.27635231 0.14807529 0.40676808 0.19946709 0.38841325 0.5175811\n",
      "  0.05866166 0.50433939 0.36199399 0.45364357 0.1305983  0.72928336\n",
      "  0.52149201 0.24857343 0.32809812 0.         0.38193084 0.29529503\n",
      "  0.29598906 0.33938548 0.61156922 0.45685572 0.4747433  0.42562843\n",
      "  0.30778787 0.33069696 0.48032754 0.48443504 0.36417701 0.48980617\n",
      "  0.44095602 0.47301842 0.1635355  0.51768663 0.534879   0.35363307\n",
      "  0.24954094 0.11866228 0.62405352 0.58746201 0.07379519 0.51099501\n",
      "  0.52446552 0.53318403 0.58179536 0.30204371 0.43009524 0.1398965\n",
      "  0.4810095  0.2207007  0.77431276 0.26051767 0.28724536 0.61039384\n",
      "  0.40988894 0.51315161 0.58943416 0.42947031 0.32512547 0.29194385\n",
      "  0.12178075 0.41166264 0.52088453 0.17306125 0.3278314  0.33478774\n",
      "  0.58497877 0.49399692 0.57972511 0.38484143 0.13264889 0.2601043\n",
      "  0.16635498 0.32866526 0.46995149 0.57467122 0.62203389 0.43555308\n",
      "  0.52018312 0.55797758 0.47874682 0.41162942]\n",
      " [0.47001133 0.18678016 0.35080453 0.56674454 0.44292407 0.27838835\n",
      "  0.17125187 0.81773484 0.50940139 0.84506635 0.83072168 0.18465351\n",
      "  0.81745554 0.27930347 0.20273916 0.48173273 0.48400669 0.91707158\n",
      "  0.47229474 0.44108807 0.48871554 0.36225404 0.71874482 0.45467121\n",
      "  0.40081903 0.85625462 0.73149495 0.81888192 0.51249797 1.0446912\n",
      "  0.88441626 0.57119233 0.20743356 0.38193084 0.         0.24510748\n",
      "  0.67305026 0.14003436 0.82432656 0.82185981 0.84027352 0.56098098\n",
      "  0.6851434  0.23840585 0.85014307 0.11188015 0.20338124 0.1306464\n",
      "  0.80629749 0.47281742 0.28870673 0.89476171 0.88366205 0.08518755\n",
      "  0.46315822 0.49060702 0.87751708 0.59479764 0.3105705  0.62059205\n",
      "  0.82642179 0.29315743 0.70840772 0.62900183 0.77908846 0.52032929\n",
      "  0.78894411 0.58013836 0.64711077 0.22368944 0.40743876 0.94897315\n",
      "  0.79145733 0.57006947 0.73033337 0.76518149 0.28534886 0.64880381\n",
      "  0.26683944 0.24703339 0.41217543 0.5160298  0.65771514 0.53310913\n",
      "  0.78614408 0.32784964 0.76109744 0.76527498 0.50820635 0.58090514\n",
      "  0.36214891 0.4688121  0.84965666 0.8625048  0.96470762 0.28565471\n",
      "  0.6893124  0.89746373 0.80647938 0.76736818]\n",
      " [0.30432279 0.28475042 0.58771934 0.57531257 0.22899052 0.19646863\n",
      "  0.41482509 0.65684017 0.31941832 0.80506607 0.76438123 0.14222834\n",
      "  0.80548741 0.31669669 0.37518085 0.28448237 0.26420571 0.71684375\n",
      "  0.24355696 0.2654561  0.24447066 0.15524729 0.68357775 0.25536048\n",
      "  0.34478275 0.66544568 0.6484278  0.64407265 0.40576132 0.82414048\n",
      "  0.70379884 0.3817638  0.37084766 0.29529503 0.24510748 0.\n",
      "  0.52736102 0.32565835 0.58140864 0.74448639 0.76173162 0.31599108\n",
      "  0.53926759 0.03656487 0.76388459 0.29075165 0.38906968 0.37415493\n",
      "  0.63225852 0.24569071 0.13287012 0.73726141 0.82805085 0.16364973\n",
      "  0.2423354  0.3587787  0.6402875  0.37278863 0.25794547 0.3768218\n",
      "  0.81731127 0.24364815 0.46446078 0.59632625 0.72404203 0.40022433\n",
      "  0.77442329 0.41832697 0.49840734 0.33784117 0.4869262  0.74416112\n",
      "  0.65659935 0.33263265 0.48568706 0.72473936 0.42634222 0.47638982\n",
      "  0.24808456 0.44455872 0.23922369 0.46756627 0.46281    0.58400501\n",
      "  0.54252398 0.53659706 0.51637396 0.62455367 0.4227916  0.38895169\n",
      "  0.38622742 0.22712747 0.70204387 0.63534607 0.76234245 0.14027199\n",
      "  0.4445272  0.85262054 0.77399939 0.7041068 ]\n",
      " [0.22311679 0.53504178 0.8852327  0.38616043 0.32608551 0.39474651\n",
      "  0.78478967 0.14817144 0.72350457 0.39983783 0.31896528 0.66568725\n",
      "  0.45674903 0.4510162  0.62909236 0.68967457 0.31680004 0.3106861\n",
      "  0.35240087 0.26268647 0.50153647 0.37674984 0.3316921  0.66990325\n",
      "  0.300933   0.23554652 0.20680591 0.16819682 0.17348265 0.48884643\n",
      "  0.23563685 0.18066718 0.61553526 0.29598906 0.67305026 0.52736102\n",
      "  0.         0.63402059 0.50994023 0.28348492 0.29483529 0.46663933\n",
      "  0.01217731 0.56323057 0.28361432 0.76945219 0.65242008 0.78532731\n",
      "  0.1562446  0.59993623 0.40657081 0.22204048 0.38813328 0.63258585\n",
      "  0.33125286 0.18246254 0.47269467 0.67576691 0.36978122 0.54114805\n",
      "  0.4709017  0.76843407 0.57491397 0.30109169 0.31283052 0.15675348\n",
      "  0.43043617 0.11233115 0.91731459 0.54740579 0.50605624 0.35085396\n",
      "  0.13018755 0.58587882 0.56714553 0.34395332 0.5957503  0.09100206\n",
      "  0.41771888 0.69480366 0.69797024 0.25957657 0.16661187 0.4766025\n",
      "  0.50267903 0.76849719 0.51989591 0.09719757 0.20126002 0.18220025\n",
      "  0.4115987  0.41848894 0.17763915 0.3896242  0.3563207  0.65462463\n",
      "  0.49102527 0.42724497 0.39280991 0.28284197]\n",
      " [0.46029598 0.09900462 0.27755061 0.45575558 0.47014838 0.26318783\n",
      "  0.15200619 0.78212375 0.62571127 0.74381274 0.74157309 0.31220721\n",
      "  0.70576667 0.19103416 0.06275838 0.5947609  0.51253771 0.90836804\n",
      "  0.51042999 0.44138125 0.56428698 0.39493448 0.61930202 0.56632197\n",
      "  0.33761545 0.84130651 0.65409678 0.79294614 0.46255266 1.05361778\n",
      "  0.86068457 0.5684235  0.06791212 0.33938548 0.14003436 0.32565835\n",
      "  0.63402059 0.         0.87371068 0.73827095 0.75668058 0.62551221\n",
      "  0.64557236 0.33309208 0.77007649 0.24029785 0.06705268 0.17144768\n",
      "  0.78025166 0.57007778 0.31037066 0.85437024 0.78817414 0.20254094\n",
      "  0.49434152 0.45761724 0.91276184 0.69642054 0.26652461 0.69593098\n",
      "  0.71347661 0.43016393 0.78219673 0.53233647 0.68635409 0.477272\n",
      "  0.67891376 0.55750025 0.77713205 0.10468873 0.27928692 0.94363504\n",
      "  0.74024723 0.65778848 0.80056349 0.66641517 0.14674301 0.62879938\n",
      "  0.21848733 0.11972862 0.5316914  0.43452291 0.65389887 0.40826107\n",
      "  0.83861275 0.21096881 0.8195075  0.71870106 0.44684398 0.57935213\n",
      "  0.26269593 0.52484355 0.80425049 0.88295269 0.95678057 0.40526357\n",
      "  0.74933961 0.79698924 0.70311654 0.67884803]\n",
      " [0.47001731 0.79619528 1.1504127  0.85424952 0.40785184 0.62518137\n",
      "  0.98977252 0.5032792  0.50810242 0.90756913 0.8216658  0.69724306\n",
      "  0.96651447 0.76267252 0.90474389 0.4954654  0.3667556  0.3747129\n",
      "  0.36368841 0.46467036 0.35278186 0.47898283 0.83928096 0.49831448\n",
      "  0.66067207 0.39311866 0.71611189 0.44868464 0.58335807 0.34357103\n",
      "  0.45203874 0.38441134 0.89529133 0.61156922 0.82432656 0.58140864\n",
      "  0.50994023 0.87371068 0.         0.78337047 0.79112028 0.27020048\n",
      "  0.51211187 0.59717602 0.77354193 0.867236   0.92480164 0.95459763\n",
      "  0.44722279 0.42467075 0.56399728 0.5533409  0.88835918 0.74498074\n",
      "  0.38224219 0.53097749 0.10326532 0.38889055 0.65495111 0.24619749\n",
      "  0.9806844  0.72043845 0.18619957 0.79419583 0.82207355 0.5555041\n",
      "  0.93969894 0.45634621 0.64055788 0.8376911  0.89845725 0.36800808\n",
      "  0.58524748 0.32759631 0.15698382 0.85385962 0.91927099 0.42343379\n",
      "  0.68991947 0.98028341 0.55820222 0.70677276 0.34677847 0.92441743\n",
      "  0.04166704 1.07199914 0.08208918 0.55441393 0.62733404 0.37437978\n",
      "  0.77791937 0.35552206 0.56768567 0.18523731 0.3903347  0.61585512\n",
      "  0.1452399  0.92986902 0.90263098 0.79190184]\n",
      " [0.46356089 0.64682607 0.93426316 0.32027061 0.58312546 0.56770119\n",
      "  0.8864857  0.30077078 0.9868784  0.1330986  0.03991456 0.86852506\n",
      "  0.21821834 0.54988617 0.70941996 0.95140382 0.58425954 0.49839698\n",
      "  0.61925021 0.50289164 0.77201731 0.6126195  0.15515932 0.92883182\n",
      "  0.42343042 0.43365292 0.09610308 0.35711559 0.33897401 0.67905648\n",
      "  0.39452649 0.45804736 0.69561994 0.45685572 0.82185981 0.74448639\n",
      "  0.28348492 0.73827095 0.78337047 0.         0.01845864 0.74581905\n",
      "  0.27784959 0.78091028 0.03889586 0.93074178 0.7305746  0.90789348\n",
      "  0.35300119 0.86518453 0.61215778 0.30035336 0.10530871 0.80707871\n",
      "  0.59462712 0.39162035 0.73153885 0.95167027 0.51808683 0.82290125\n",
      "  0.23033718 0.98689915 0.85839117 0.21619855 0.07926362 0.34790277\n",
      "  0.20423843 0.37950629 1.1829944  0.63514962 0.51077018 0.53547347\n",
      "  0.20473379 0.86297269 0.85029007 0.12465122 0.64535041 0.37441394\n",
      "  0.55682102 0.7555742  0.9479607  0.30632367 0.44866756 0.41506975\n",
      "  0.78043433 0.80352644 0.80059695 0.23080654 0.32438329 0.46164756\n",
      "  0.47610226 0.68646643 0.25176282 0.63877152 0.52937157 0.88251665\n",
      "  0.77433687 0.14653979 0.14796703 0.06619973]\n",
      " [0.47921895 0.66528151 0.9518532  0.33699099 0.598284   0.58565962\n",
      "  0.90482387 0.30366817 1.00203983 0.13390694 0.04175298 0.88626732\n",
      "  0.22304694 0.56833966 0.72767435 0.96667916 0.59862369 0.49930481\n",
      "  0.63373342 0.51872704 0.78633193 0.62896279 0.16969078 0.94430696\n",
      "  0.44170425 0.43612587 0.11334858 0.36046256 0.35606656 0.67875228\n",
      "  0.39504888 0.471034   0.71388317 0.4747433  0.84027352 0.76173162\n",
      "  0.29483529 0.75668058 0.79112028 0.01845864 0.         0.75884283\n",
      "  0.28865061 0.79818143 0.02752012 0.94911001 0.74879011 0.92633516\n",
      "  0.35696254 0.88009761 0.62952141 0.29831248 0.09771133 0.82526598\n",
      "  0.60935605 0.40800609 0.73728439 0.96539017 0.53628954 0.83527566\n",
      "  0.23454499 1.00431747 0.86940581 0.23371032 0.09201779 0.36441662\n",
      "  0.21139182 0.39314063 1.19804311 0.65351839 0.52821768 0.53578254\n",
      "  0.20924026 0.87645387 0.86079961 0.13608879 0.66330082 0.38551431\n",
      "  0.57515891 0.77354755 0.96403305 0.32477661 0.45897922 0.43111236\n",
      "  0.7890595  0.82098135 0.8099904  0.23719493 0.34219878 0.47432087\n",
      "  0.49446881 0.70094504 0.25189189 0.64374212 0.52892176 0.89954816\n",
      "  0.78504212 0.14044245 0.15383271 0.08280089]\n",
      " [0.31229806 0.55947218 0.89779169 0.71153996 0.2013307  0.40091233\n",
      "  0.72967093 0.53737275 0.28803037 0.84814679 0.77808973 0.42705883\n",
      "  0.88325091 0.54702741 0.66446627 0.26288327 0.17642048 0.50748819\n",
      "  0.1499636  0.28606609 0.08419633 0.24528897 0.75044907 0.25537286\n",
      "  0.48306833 0.48348572 0.65832044 0.49946769 0.45303655 0.56123689\n",
      "  0.53780538 0.28781281 0.656809   0.42562843 0.56098098 0.31599108\n",
      "  0.46663933 0.62551221 0.27020048 0.74581905 0.75884283 0.\n",
      "  0.47476932 0.32864165 0.74963414 0.59781956 0.68244097 0.690088\n",
      "  0.49140399 0.1752244  0.32682456 0.61120564 0.8478068  0.47926697\n",
      "  0.17761684 0.39087888 0.34422367 0.21137736 0.44575979 0.08578185\n",
      "  0.8970871  0.45658083 0.16083109 0.68246106 0.75897945 0.43001624\n",
      "  0.8530112  0.36694007 0.46672001 0.60672049 0.70377246 0.52185557\n",
      "  0.58418963 0.12086722 0.17572243 0.77843947 0.69363507 0.37962618\n",
      "  0.46952638 0.73880893 0.30809551 0.56769449 0.31854205 0.76002161\n",
      "  0.22967661 0.8318327  0.20067296 0.54842862 0.49252514 0.28479709\n",
      "  0.58347532 0.10369963 0.59926    0.36795222 0.54372946 0.34757337\n",
      "  0.12881484 0.88368276 0.83066754 0.73131304]\n",
      " [0.23497965 0.54658082 0.89603692 0.39163483 0.33694575 0.40685827\n",
      "  0.79644004 0.13683578 0.73341667 0.39631629 0.31397809 0.67771592\n",
      "  0.45533702 0.46212533 0.64021075 0.69973469 0.32687827 0.30344655\n",
      "  0.36245395 0.27444689 0.51098021 0.38840628 0.33173852 0.68017377\n",
      "  0.31193693 0.22819526 0.20401002 0.15907276 0.18449835 0.48276705\n",
      "  0.22605307 0.18985725 0.6266266  0.30778787 0.6851434  0.53926759\n",
      "  0.01217731 0.64557236 0.51211187 0.27784959 0.28865061 0.47476932\n",
      "  0.         0.57510284 0.27653932 0.78162002 0.6635319  0.79723959\n",
      "  0.14736044 0.60978922 0.41869586 0.21007467 0.38283013 0.64476308\n",
      "  0.34165663 0.19457542 0.47249921 0.68435261 0.38158306 0.54847578\n",
      "  0.469458   0.78017959 0.58075753 0.30439302 0.31001419 0.16836301\n",
      "  0.42949637 0.12350679 0.92693695 0.55852337 0.51489497 0.34373414\n",
      "  0.11881536 0.59432632 0.57244098 0.34235283 0.60612771 0.09696428\n",
      "  0.42948286 0.70562443 0.70873243 0.26754288 0.1710043  0.48304231\n",
      "  0.50581317 0.77885187 0.52392251 0.08536929 0.21116792 0.19088026\n",
      "  0.421709   0.42830928 0.16546188 0.38799436 0.34858767 0.66621671\n",
      "  0.49651173 0.42244154 0.39056907 0.27988821]\n",
      " [0.34012319 0.30236559 0.58668842 0.60751118 0.26029826 0.22952454\n",
      "  0.40962484 0.69159579 0.2989809  0.84060101 0.80062454 0.11079318\n",
      "  0.83979025 0.34274943 0.38621428 0.26552102 0.29356016 0.74720544\n",
      "  0.27046224 0.30097121 0.25216761 0.1893645  0.71868843 0.23650868\n",
      "  0.37914345 0.69731853 0.68486544 0.67776191 0.44225241 0.85001913\n",
      "  0.73675686 0.4151251  0.38311504 0.33069696 0.23840585 0.03656487\n",
      "  0.56323057 0.33309208 0.59717602 0.78091028 0.79818143 0.32864165\n",
      "  0.57510284 0.         0.80041372 0.27040814 0.39834563 0.36411313\n",
      "  0.66605094 0.23801772 0.16901213 0.77207607 0.86410115 0.15377979\n",
      "  0.27177051 0.39531528 0.66034135 0.36356496 0.29057811 0.3830665\n",
      "  0.85149122 0.2070979  0.47088282 0.63106475 0.75995147 0.43678913\n",
      "  0.80878565 0.45376483 0.47169934 0.3557365  0.51205608 0.77367277\n",
      "  0.69263333 0.33201541 0.49365125 0.76015372 0.44307459 0.51086246\n",
      "  0.27735264 0.45278406 0.21318869 0.50248713 0.49497467 0.61289062\n",
      "  0.55748519 0.54357137 0.52922583 0.66042797 0.45890317 0.42196307\n",
      "  0.41522325 0.2467337  0.73748409 0.65977045 0.79223041 0.10568404\n",
      "  0.45741904 0.8883839  0.80919104 0.74021392]\n",
      " [0.47651015 0.67743493 0.97033398 0.3580637  0.59403403 0.59149932\n",
      "  0.91912996 0.28152406 0.99744977 0.16035088 0.06919591 0.8906318\n",
      "  0.2504031  0.58068877 0.74283169 0.96240235 0.59245024 0.4751757\n",
      "  0.62778722 0.51643462 0.77983769 0.62802395 0.19405513 0.94057217\n",
      "  0.45013753 0.41331742 0.11892292 0.33858207 0.35831544 0.65369348\n",
      "  0.37075229 0.4621679  0.72897324 0.48032754 0.85014307 0.76388459\n",
      "  0.28361432 0.77007649 0.77354193 0.03889586 0.02752012 0.74963414\n",
      "  0.27653932 0.80041372 0.         0.95818865 0.76424246 0.9389502\n",
      "  0.33568567 0.87495381 0.63230005 0.27252727 0.11917341 0.8325233\n",
      "  0.60402482 0.40763094 0.71737471 0.95746371 0.54392956 0.82476231\n",
      "  0.26178059 1.00706282 0.85649706 0.25288675 0.11770406 0.36459879\n",
      "  0.238908   0.38581891 1.19308257 0.66757079 0.54729548 0.51119969\n",
      "  0.18922686 0.86808022 0.84708393 0.16256882 0.68036228 0.37346001\n",
      "  0.58409032 0.79045575 0.96198259 0.33636251 0.44543889 0.45342904\n",
      "  0.77263388 0.839946   0.79462626 0.21914439 0.34772612 0.46483709\n",
      "  0.50867217 0.69490943 0.227618   0.62307583 0.50384415 0.90075932\n",
      "  0.77169072 0.16252513 0.18133441 0.10464384]\n",
      " [0.55790233 0.29850188 0.38054765 0.67855911 0.51214917 0.37644551\n",
      "  0.20030418 0.91133857 0.48887756 0.95654859 0.94063257 0.17522416\n",
      "  0.92931644 0.39103912 0.30050071 0.46745989 0.55068649 0.99687808\n",
      "  0.53311683 0.52521763 0.51846286 0.43244924 0.8301772  0.44376265\n",
      "  0.50808616 0.93992165 0.83933049 0.90822235 0.61471269 1.11314559\n",
      "  0.97212326 0.65307258 0.30781851 0.48443504 0.11188015 0.29075165\n",
      "  0.76945219 0.24029785 0.867236   0.93074178 0.94911001 0.59781956\n",
      "  0.78162002 0.27040814 0.95818865 0.         0.29557242 0.13358319\n",
      "  0.89581238 0.48014215 0.37051109 0.98976398 0.99446916 0.13915528\n",
      "  0.52899587 0.58751814 0.93029265 0.59186661 0.41547908 0.64558044\n",
      "  0.93824777 0.23663427 0.73252442 0.7402952  0.88965857 0.62022686\n",
      "  0.90082355 0.6711878  0.59752563 0.33312684 0.51601833 1.02664294\n",
      "  0.89130953 0.58414142 0.75727603 0.87650238 0.38680675 0.73752833\n",
      "  0.37410561 0.32825053 0.39099261 0.62567982 0.7383626  0.64300895\n",
      "  0.82726407 0.39431056 0.79780209 0.86364542 0.6136709  0.66193615\n",
      "  0.47401249 0.51655979 0.94696195 0.92564954 1.0436535  0.27498646\n",
      "  0.72623727 1.0088378  0.9181444  0.8773026 ]\n",
      " [0.49525251 0.13046106 0.23686168 0.43269651 0.5181703  0.30416923\n",
      "  0.16082391 0.80032398 0.69232959 0.72421718 0.73027548 0.37906184\n",
      "  0.67864223 0.20140753 0.02334019 0.6611092  0.56023896 0.93770371\n",
      "  0.56115731 0.48071787 0.62433147 0.44622408 0.60239194 0.63257056\n",
      "  0.35167507 0.86846049 0.65126493 0.81560266 0.47904253 1.08936332\n",
      "  0.88374112 0.60393257 0.03698801 0.36417701 0.20338124 0.38906968\n",
      "  0.65242008 0.06705268 0.92480164 0.7305746  0.74879011 0.68244097\n",
      "  0.6635319  0.39834563 0.76424246 0.29557242 0.         0.20291414\n",
      "  0.80298382 0.63435335 0.36108064 0.86954986 0.77221042 0.26950334\n",
      "  0.54318419 0.48256383 0.95900422 0.7610616  0.29499845 0.75515701\n",
      "  0.68527747 0.49563555 0.84065475 0.51880459 0.67327688 0.49684854\n",
      "  0.65335367 0.58485212 0.8440744  0.10501462 0.24405884 0.97415908\n",
      "  0.75106857 0.71996077 0.85802377 0.64939599 0.09921572 0.65612047\n",
      "  0.24912727 0.05640115 0.59859883 0.43365042 0.68772741 0.37313588\n",
      "  0.89083369 0.14948043 0.87359661 0.73217122 0.45766313 0.61516464\n",
      "  0.25714157 0.58044755 0.81737961 0.92408728 0.98611944 0.47226112\n",
      "  0.80425997 0.77749266 0.68238051 0.66866348]\n",
      " [0.59171499 0.26173829 0.24718848 0.62659611 0.57231109 0.39494669\n",
      "  0.06819102 0.93213423 0.61461528 0.91523878 0.91220452 0.29065785\n",
      "  0.87590214 0.35826665 0.21639938 0.59056275 0.61371257 1.04118733\n",
      "  0.60272555 0.56531895 0.61606881 0.49182449 0.79073533 0.5652224\n",
      "  0.49824615 0.97839108 0.82199624 0.93715434 0.61842899 1.17294113\n",
      "  1.00369992 0.69561062 0.22785103 0.48980617 0.1306464  0.37415493\n",
      "  0.78532731 0.17144768 0.95459763 0.90789348 0.92633516 0.690088\n",
      "  0.79723959 0.36411313 0.9389502  0.13358319 0.20291414 0.\n",
      "  0.92448517 0.59246457 0.41577239 1.00729436 0.95950677 0.21098137\n",
      "  0.5930552  0.60415581 1.00813466 0.71038687 0.41617313 0.74716756\n",
      "  0.88327025 0.36954571 0.83497185 0.70357335 0.85738561 0.62970265\n",
      "  0.84945925 0.69846179 0.73072335 0.27613634 0.44473311 1.07404575\n",
      "  0.89834428 0.6929282  0.85769552 0.83784377 0.30196697 0.76847056\n",
      "  0.36892684 0.21840569 0.51627987 0.60266584 0.78229948 0.57426916\n",
      "  0.91620434 0.26930686 0.89052884 0.87442363 0.6078984  0.70568933\n",
      "  0.43350241 0.59914889 0.95968141 0.99213686 1.08913832 0.39423485\n",
      "  0.81868093 0.96842465 0.87446598 0.84929678]\n",
      " [0.33791456 0.68180476 1.03755428 0.53387918 0.40902684 0.52970186\n",
      "  0.92917567 0.05617098 0.77279911 0.48477888 0.39284878 0.77425311\n",
      "  0.5596621  0.60210417 0.7796515  0.74265889 0.38486744 0.16012597\n",
      "  0.41747738 0.37168807 0.5476928  0.47701425 0.449571   0.72770855\n",
      "  0.45330016 0.0861618  0.31015696 0.01270262 0.32671329 0.34345431\n",
      "  0.08076644 0.25119269 0.76632421 0.44095602 0.80629749 0.63225852\n",
      "  0.1562446  0.78025166 0.44722279 0.35300119 0.35696254 0.49140399\n",
      "  0.14736044 0.66605094 0.33568567 0.89581238 0.80298382 0.92448517\n",
      "  0.         0.65079793 0.52571528 0.1198575  0.45430554 0.75689495\n",
      "  0.40449776 0.32267282 0.38291992 0.70117201 0.51382171 0.54969836\n",
      "  0.57320587 0.86348376 0.55958751 0.4396257  0.40849656 0.30650848\n",
      "  0.53799769 0.22625726 0.95785049 0.69815438 0.66220185 0.20048211\n",
      "  0.14830438 0.611331   0.54414853 0.44868704 0.75020624 0.15829644\n",
      "  0.56196592 0.84721335 0.76624779 0.41473579 0.17981631 0.62762869\n",
      "  0.45267828 0.92291808 0.48106684 0.12731569 0.35716202 0.2452103\n",
      "  0.56693561 0.47536753 0.12063317 0.28758487 0.20291229 0.74596735\n",
      "  0.47395322 0.49734801 0.49021759 0.37902463]\n",
      " [0.40391936 0.52870312 0.82318907 0.76995595 0.28242425 0.40719016\n",
      "  0.64347403 0.69211373 0.12372263 0.95278814 0.89332291 0.30529595\n",
      "  0.97339755 0.547274   0.62082727 0.09186228 0.2833886  0.68067785\n",
      "  0.24779748 0.36685136 0.10321628 0.2739967  0.84282921 0.08025326\n",
      "  0.53101127 0.65210737 0.77214949 0.66002698 0.54184016 0.73486771\n",
      "  0.70409814 0.42064718 0.61652905 0.47301842 0.47281742 0.24569071\n",
      "  0.59993623 0.57007778 0.42467075 0.86518453 0.88009761 0.1752244\n",
      "  0.60978922 0.23801772 0.87495381 0.48014215 0.63435335 0.59246457\n",
      "  0.65079793 0.         0.32681521 0.76931533 0.96196032 0.38767932\n",
      "  0.270929   0.48124293 0.51060036 0.12721415 0.46517591 0.18015066\n",
      "  0.98654856 0.29848764 0.26067513 0.76434793 0.86522975 0.52480459\n",
      "  0.94226066 0.49047966 0.31814054 0.58122917 0.71646731 0.69637887\n",
      "  0.7257806  0.10606674 0.28850973 0.87720145 0.67021644 0.52103787\n",
      "  0.47170294 0.68949253 0.13480295 0.63889007 0.47208586 0.79820524\n",
      "  0.38302272 0.78094539 0.34522433 0.69018527 0.57385679 0.42133515\n",
      "  0.60489282 0.18148278 0.75067706 0.54227181 0.71806785 0.20700815\n",
      "  0.28026003 0.9938909  0.92920529 0.84009971]\n",
      " [0.18821458 0.23415627 0.58781825 0.45203976 0.1604995  0.0806405\n",
      "  0.43743313 0.54369245 0.42585124 0.67260082 0.63161528 0.26123071\n",
      "  0.67546036 0.22523392 0.34154151 0.38906427 0.20289374 0.62903796\n",
      "  0.20033711 0.15472437 0.28199704 0.08514346 0.55186309 0.36110699\n",
      "  0.21596465 0.570015   0.51617606 0.53805608 0.27398755 0.7572309\n",
      "  0.60163065 0.28355821 0.33277007 0.1635355  0.28870673 0.13287012\n",
      "  0.40657081 0.31037066 0.56399728 0.61215778 0.62952141 0.32682456\n",
      "  0.41869586 0.16901213 0.63230005 0.37051109 0.36108064 0.41577239\n",
      "  0.52571528 0.32681521 0.         0.6231703  0.69518074 0.23139008\n",
      "  0.18411997 0.23063424 0.60309729 0.44933176 0.1388554  0.40550992\n",
      "  0.68757126 0.37483603 0.4874056  0.46550084 0.59121303 0.27033645\n",
      "  0.64428401 0.30276506 0.6153525  0.2800301  0.39138346 0.66045218\n",
      "  0.53357225 0.3868214  0.50210561 0.59246855 0.36684657 0.36744155\n",
      "  0.14761073 0.41689157 0.35921295 0.33652144 0.36970134 0.47228751\n",
      "  0.52975781 0.50924258 0.5130292  0.50310018 0.28992703 0.29291158\n",
      "  0.27808134 0.22321669 0.58369265 0.57856893 0.6764598  0.27270495\n",
      "  0.44449523 0.71989146 0.64208798 0.57124391]\n",
      " [0.43559359 0.75538029 1.09925584 0.54769297 0.51970815 0.61637557\n",
      "  1.00566605 0.08053996 0.89172823 0.43216991 0.33897879 0.878183\n",
      "  0.51813983 0.66856288 0.84631502 0.86116196 0.49887012 0.2089118\n",
      "  0.53249395 0.47260357 0.66637316 0.58281114 0.42871701 0.84559054\n",
      "  0.51833429 0.16178023 0.2912546  0.11269218 0.39188453 0.38202187\n",
      "  0.1067746  0.36140733 0.83256415 0.51768663 0.89476171 0.73726141\n",
      "  0.22204048 0.85437024 0.5533409  0.30035336 0.29831248 0.61120564\n",
      "  0.21007467 0.77207607 0.27252727 0.98976398 0.86954986 1.00729436\n",
      "  0.1198575  0.76931533 0.6231703  0.         0.38958301 0.85203331\n",
      "  0.5176038  0.40421984 0.47843156 0.82102407 0.59146703 0.66918264\n",
      "  0.53052924 0.97312294 0.67649959 0.44328397 0.37057577 0.37793711\n",
      "  0.50177822 0.32059411 1.07753294 0.76477953 0.70193871 0.24180402\n",
      "  0.12794652 0.73118631 0.65984824 0.4153421  0.80650364 0.26166456\n",
      "  0.63925353 0.90934649 0.88257666 0.45310748 0.29729861 0.64596084\n",
      "  0.56299384 0.97837417 0.59400011 0.13819054 0.41235784 0.35698203\n",
      "  0.62110098 0.59232635 0.05747914 0.38057718 0.23243234 0.85648327\n",
      "  0.59126006 0.43274884 0.44756602 0.34453744]\n",
      " [0.55840724 0.70228334 0.96021056 0.3427071  0.67953893 0.64361301\n",
      "  0.93164354 0.40052719 1.08255368 0.06279504 0.06973915 0.9461088\n",
      "  0.156371   0.60589929 0.75251557 1.04665538 0.68329845 0.59400519\n",
      "  0.7178632  0.59675007 0.87088532 0.70334232 0.16983092 1.02325307\n",
      "  0.49434623 0.53248436 0.19031409 0.45750409 0.42667182 0.77148619\n",
      "  0.48952413 0.56045962 0.73914072 0.534879   0.88366205 0.82805085\n",
      "  0.38813328 0.78817414 0.88835918 0.10530871 0.09771133 0.8478068\n",
      "  0.38283013 0.86410115 0.11917341 0.99446916 0.77221042 0.95950677\n",
      "  0.45430554 0.96196032 0.69518074 0.38958301 0.         0.8770728\n",
      "  0.69252036 0.48335606 0.83499032 1.05197827 0.58967556 0.92594104\n",
      "  0.16413489 1.06802613 0.962966   0.25606342 0.10548491 0.43932061\n",
      "  0.15752175 0.4808912  1.27893334 0.68357689 0.53841269 0.62965184\n",
      "  0.30686841 0.96391465 0.95520955 0.12296429 0.68076955 0.47913124\n",
      "  0.62407532 0.79050697 1.03938573 0.37095716 0.55376665 0.42590446\n",
      "  0.88570161 0.82794007 0.90589    0.33481789 0.40528253 0.56456075\n",
      "  0.52646367 0.78496802 0.34652834 0.74133367 0.62171043 0.96755156\n",
      "  0.87915087 0.04339145 0.10305543 0.12414179]\n",
      " [0.41903985 0.2120517  0.43567357 0.57805478 0.37530631 0.24319706\n",
      "  0.25631374 0.77323927 0.42796538 0.84354794 0.81988644 0.10984417\n",
      "  0.82537152 0.28884041 0.26321233 0.39909313 0.4148463  0.85821163\n",
      "  0.39961469 0.38607646 0.40522292 0.2949819  0.71743457 0.37156034\n",
      "  0.38402152 0.80082563 0.7136905  0.76927853 0.48244328 0.97759018\n",
      "  0.83302034 0.51400094 0.26427297 0.35363307 0.08518755 0.16364973\n",
      "  0.63258585 0.20254094 0.74498074 0.80707871 0.82526598 0.47926697\n",
      "  0.64476308 0.15377979 0.8325233  0.13915528 0.26950334 0.21098137\n",
      "  0.75689495 0.38767932 0.23139008 0.85203331 0.8770728  0.\n",
      "  0.39338655 0.45146805 0.8019662  0.51009639 0.28900336 0.53665874\n",
      "  0.83541758 0.23332747 0.62449033 0.62713798 0.77163145 0.48593565\n",
      "  0.79566891 0.53272281 0.57459111 0.26027149 0.43991249 0.88837082\n",
      "  0.75611225 0.48501065 0.64689677 0.76263802 0.33672419 0.59859872\n",
      "  0.25318822 0.31921275 0.33188854 0.50612602 0.59944894 0.55861578\n",
      "  0.70616947 0.40521927 0.6798248  0.72759242 0.48531579 0.52293612\n",
      "  0.37218404 0.39013125 0.81022223 0.79204979 0.90514953 0.20488449\n",
      "  0.6079567  0.89474634 0.80717339 0.75691261]\n",
      " [0.13891279 0.41407567 0.77186143 0.53417049 0.02620566 0.24324956\n",
      "  0.61954541 0.43768939 0.39369165 0.68631546 0.62350418 0.38254607\n",
      "  0.7140694  0.38413403 0.52281471 0.35914213 0.02187054 0.47549489\n",
      "  0.02791218 0.10885311 0.17893114 0.10157472 0.58174316 0.33873521\n",
      "  0.30622138 0.42754549 0.50232751 0.4154202  0.28070706 0.58432833\n",
      "  0.47025304 0.15697766 0.51317337 0.24954094 0.46315822 0.2423354\n",
      "  0.33125286 0.49434152 0.38224219 0.59462712 0.60935605 0.17761684\n",
      "  0.34165663 0.27177051 0.60402482 0.52899587 0.54318419 0.5930552\n",
      "  0.40449776 0.270929   0.18411997 0.5176038  0.69252036 0.39338655\n",
      "  0.         0.21838487 0.41911488 0.362469   0.27815091 0.26339706\n",
      "  0.72766349 0.46034707 0.33226205 0.5094043  0.59788204 0.2601092\n",
      "  0.68335589 0.22027577 0.58906236 0.45563223 0.53245725 0.50201733\n",
      "  0.45943331 0.27830051 0.34056366 0.61299321 0.53835347 0.25874585\n",
      "  0.3092256  0.59838548 0.36804645 0.39139347 0.2272356  0.58300162\n",
      "  0.34993513 0.68984968 0.33782601 0.42434339 0.31803151 0.16064614\n",
      "  0.41121192 0.09283029 0.49133017 0.3994243  0.52046853 0.34233108\n",
      "  0.27378117 0.72559065 0.66529074 0.57181925]\n",
      " [0.0794792  0.35934214 0.71867511 0.3282291  0.20088233 0.21228411\n",
      "  0.60664468 0.32803346 0.60014995 0.47158677 0.41604888 0.49186341\n",
      "  0.49575731 0.28379164 0.45931586 0.56395989 0.21494868 0.45588092\n",
      "  0.24581011 0.11439165 0.39616621 0.22099991 0.36362465 0.54011064\n",
      "  0.14318686 0.38591571 0.29605315 0.33537184 0.06238875 0.61544677\n",
      "  0.40306752 0.14869967 0.44630683 0.11866228 0.49060702 0.3587787\n",
      "  0.18246254 0.45761724 0.53097749 0.39162035 0.40800609 0.39087888\n",
      "  0.19457542 0.39531528 0.40763094 0.58751814 0.48256383 0.60415581\n",
      "  0.32267282 0.48124293 0.23063424 0.40421984 0.48335606 0.45146805\n",
      "  0.21838487 0.         0.52913808 0.58038389 0.19114904 0.47563146\n",
      "  0.5093179  0.60241004 0.53388692 0.29171344 0.38441234 0.04403618\n",
      "  0.4649986  0.10325673 0.79651966 0.37845849 0.37888279 0.49314118\n",
      "  0.30482713 0.49665613 0.53582427 0.39623725 0.4386558  0.17393002\n",
      "  0.2392952  0.52918956 0.55663423 0.18056007 0.21738877 0.39346029\n",
      "  0.50986054 0.60959613 0.51209275 0.27619804 0.10239859 0.15972599\n",
      "  0.26532913 0.31052618 0.35956858 0.47022048 0.50420464 0.49369922\n",
      "  0.46146153 0.51355412 0.44838917 0.36014095]\n",
      " [0.47989961 0.8287553  1.19028052 0.83988684 0.44272276 0.65516584\n",
      "  1.03790675 0.43869124 0.60256371 0.86026766 0.77087605 0.76530312\n",
      "  0.92653108 0.78407546 0.93780725 0.58712974 0.40030553 0.2855277\n",
      "  0.40614051 0.48326912 0.42841504 0.52022701 0.80420255 0.58728533\n",
      "  0.66738801 0.31670692 0.67349336 0.38193294 0.57432859 0.24054646\n",
      "  0.37322292 0.38070764 0.92730709 0.62405352 0.87751708 0.6402875\n",
      "  0.47269467 0.91276184 0.10326532 0.73153885 0.73728439 0.34422367\n",
      "  0.47249921 0.66034135 0.71737471 0.93029265 0.95900422 1.00813466\n",
      "  0.38291992 0.51060036 0.60309729 0.47843156 0.83499032 0.8019662\n",
      "  0.41911488 0.52913808 0.         0.48716407 0.67634146 0.33750534\n",
      "  0.94055518 0.80067027 0.28694658 0.76908671 0.7780909  0.54627069\n",
      "  0.90150123 0.44119403 0.74204202 0.86598421 0.90625667 0.27314871\n",
      "  0.52826388 0.41964077 0.25856979 0.81348509 0.9430352  0.39438105\n",
      "  0.71578861 1.01318295 0.64533927 0.69547946 0.32250873 0.91769733\n",
      "  0.13815315 1.10299475 0.1812713  0.50075491 0.61774717 0.36950873\n",
      "  0.78840658 0.41374058 0.50056756 0.0979066  0.29473199 0.69127479\n",
      "  0.23222825 0.8775599  0.85987286 0.7478597 ]\n",
      " [0.50108455 0.65585618 0.94560145 0.88375595 0.37976365 0.5299722\n",
      "  0.76423174 0.7482049  0.12794252 1.04822843 0.98249045 0.42007261\n",
      "  1.07608308 0.67217934 0.74780147 0.13102    0.36932819 0.70263563\n",
      "  0.33574629 0.46763213 0.18439859 0.38844454 0.94399586 0.14958281\n",
      "  0.64604365 0.68717427 0.86173239 0.70876508 0.64246695 0.72461568\n",
      "  0.74340518 0.49550293 0.74363209 0.58746201 0.59479764 0.37278863\n",
      "  0.67576691 0.69642054 0.38889055 0.95167027 0.96539017 0.21137736\n",
      "  0.68435261 0.36356496 0.95746371 0.59186661 0.7610616  0.71038687\n",
      "  0.70117201 0.12721415 0.44933176 0.82102407 1.05197827 0.51009639\n",
      "  0.362469   0.58038389 0.48716407 0.         0.5862714  0.15879743\n",
      "  1.08958641 0.38562695 0.20369442 0.86969806 0.95950257 0.6225347\n",
      "  1.04524556 0.57225186 0.26259398 0.70830448 0.84045317 0.71138772\n",
      "  0.79520044 0.09051994 0.2337406  0.97543631 0.7973259  0.59014269\n",
      "  0.59581993 0.81598859 0.20895746 0.74750934 0.52988764 0.91764681\n",
      "  0.34973593 0.90709942 0.30707607 0.75940957 0.67797994 0.49357088\n",
      "  0.72683052 0.26988173 0.81045729 0.5402951  0.73399091 0.31725306\n",
      "  0.26033797 1.08633403 1.02774116 0.93287183]\n",
      " [0.20169557 0.16866528 0.53186011 0.31738815 0.25196767 0.06162759\n",
      "  0.41570026 0.51736235 0.56420061 0.55933971 0.53122827 0.35850366\n",
      "  0.55112173 0.10799577 0.27208774 0.52751486 0.29012856 0.64345504\n",
      "  0.30222002 0.19308221 0.41313491 0.20325234 0.43452943 0.49934672\n",
      "  0.09537637 0.57533831 0.42501988 0.52652049 0.20283873 0.79476046\n",
      "  0.59419099 0.31002717 0.25975945 0.07379519 0.3105705  0.25794547\n",
      "  0.36978122 0.26652461 0.65495111 0.51808683 0.53628954 0.44575979\n",
      "  0.38158306 0.29057811 0.54392956 0.41547908 0.29499845 0.41617313\n",
      "  0.51382171 0.46517591 0.1388554  0.59146703 0.58967556 0.28900336\n",
      "  0.27815091 0.19114904 0.67634146 0.5862714  0.         0.52890842\n",
      "  0.56244176 0.48441692 0.60574171 0.34504054 0.48420579 0.21360309\n",
      "  0.52036809 0.29135456 0.75196461 0.19367498 0.25863489 0.67951208\n",
      "  0.48276952 0.51953749 0.61669633 0.47825908 0.26669782 0.36272465\n",
      "  0.04817036 0.34479212 0.49405505 0.21938823 0.39291948 0.33343398\n",
      "  0.62534246 0.43042431 0.61562638 0.45828433 0.19820088 0.32139559\n",
      "  0.14082725 0.34364046 0.54350913 0.63362879 0.69189329 0.39613936\n",
      "  0.55182436 0.6093981  0.52511317 0.46845038]\n",
      " [0.39744816 0.63530317 0.96406081 0.79726595 0.28697954 0.4818603\n",
      "  0.79126151 0.59901334 0.26538116 0.92859024 0.85621136 0.4710463\n",
      "  0.96620311 0.62837221 0.73815645 0.2499243  0.26181467 0.54400397\n",
      "  0.23571963 0.3718097  0.13243455 0.32668432 0.83341239 0.25212735\n",
      "  0.5686076  0.53057753 0.73740958 0.55651429 0.53760043 0.57055228\n",
      "  0.58762926 0.36566819 0.73124094 0.51099501 0.62059205 0.3768218\n",
      "  0.54114805 0.69593098 0.24619749 0.82290125 0.83527566 0.08578185\n",
      "  0.54847578 0.3830665  0.82476231 0.64558044 0.75515701 0.74716756\n",
      "  0.54969836 0.18015066 0.40550992 0.66918264 0.92594104 0.53665874\n",
      "  0.26339706 0.47563146 0.33750534 0.15879743 0.52890842 0.\n",
      "  0.98010901 0.47834344 0.08783233 0.76689724 0.83938993 0.51406486\n",
      "  0.93615989 0.44613471 0.42137219 0.68400742 0.78737697 0.55261526\n",
      "  0.65362306 0.0821404  0.11174958 0.8602698  0.77183698 0.45195974\n",
      "  0.55056984 0.81153803 0.31232139 0.65315071 0.38524758 0.84556108\n",
      "  0.20480418 0.90459731 0.16554019 0.61814616 0.57756138 0.36138656\n",
      "  0.66755974 0.18527139 0.66264965 0.38313657 0.57520621 0.38041873\n",
      "  0.10552821 0.96271908 0.91237708 0.81126813]\n",
      " [0.58875887 0.63978223 0.847801   0.25969401 0.70984244 0.62237251\n",
      "  0.84595725 0.52450588 1.10129303 0.10434287 0.19287053 0.91862337\n",
      "  0.01418999 0.54895047 0.66838838 1.06446133 0.7231348  0.72486318\n",
      "  0.75495959 0.62217883 0.90524633 0.71523476 0.1466974  1.03863763\n",
      "  0.47253414 0.65703564 0.26712981 0.57899336 0.44712921 0.90716488\n",
      "  0.62207124 0.61995781 0.65610404 0.52446552 0.82642179 0.81731127\n",
      "  0.4709017  0.71347661 0.9806844  0.23033718 0.23454499 0.8970871\n",
      "  0.469458   0.85149122 0.26178059 0.93824777 0.68527747 0.88327025\n",
      "  0.57320587 0.98654856 0.68757126 0.53052924 0.16413489 0.83541758\n",
      "  0.72766349 0.5093179  0.94055518 1.08958641 0.56244176 0.98010901\n",
      "  0.         1.0462518  1.02912868 0.22312915 0.16471028 0.4679322\n",
      "  0.04435024 0.53913387 1.29622481 0.61028113 0.44168993 0.762887\n",
      "  0.42667371 1.0058207  1.02582473 0.12714805 0.58795641 0.55795766\n",
      "  0.5864576  0.69342487 1.04511679 0.35161833 0.6349697  0.31518078\n",
      "  0.97191894 0.71610963 0.98613752 0.44639034 0.41275347 0.62667564\n",
      "  0.46517184 0.81980281 0.48053287 0.85209654 0.75792046 0.95714089\n",
      "  0.94928684 0.13548359 0.08348425 0.19432904]\n",
      " [0.54551367 0.44403906 0.61672904 0.79471857 0.45446197 0.42627002\n",
      "  0.43451257 0.89260217 0.26748948 1.04195219 1.00560983 0.12997527\n",
      "  1.03517759 0.51211568 0.49251702 0.25475665 0.48107579 0.93037634\n",
      "  0.45178185 0.50574773 0.37250891 0.39199488 0.91826532 0.23784535\n",
      "  0.57745793 0.88704381 0.89096889 0.87474788 0.64875958 1.01280424\n",
      "  0.93059735 0.61266713 0.49506629 0.53318403 0.29315743 0.24364815\n",
      "  0.76843407 0.43016393 0.72043845 0.98689915 1.00431747 0.45658083\n",
      "  0.78017959 0.2070979  1.00706282 0.23663427 0.49563555 0.36954571\n",
      "  0.86348376 0.29848764 0.37483603 0.97312294 1.06802613 0.23332747\n",
      "  0.46034707 0.60241004 0.80067027 0.38562695 0.48441692 0.47834344\n",
      "  1.0462518  0.         0.55860451 0.82924617 0.96327028 0.64382869\n",
      "  1.00455988 0.65778701 0.36122722 0.49339237 0.67095    0.95304999\n",
      "  0.89827091 0.40321819 0.58683227 0.96106591 0.56940607 0.71147484\n",
      "  0.46092091 0.54009985 0.17674394 0.70206806 0.6875702  0.78559458\n",
      "  0.67881424 0.61793637 0.64251595 0.86554602 0.66364211 0.61828036\n",
      "  0.59273051 0.40800118 0.94096148 0.81911653 0.97304157 0.11818782\n",
      "  0.57521655 1.09081222 1.00892651 0.94454264]\n",
      " [0.45844168 0.71924533 1.05137862 0.86039205 0.35746631 0.56172075\n",
      "  0.87902756 0.61237432 0.32659648 0.97079515 0.89360405 0.55768312\n",
      "  1.01505348 0.70773875 0.82323472 0.31832553 0.32650124 0.5282902\n",
      "  0.30577388 0.43764232 0.21999074 0.4061034  0.88284516 0.32574026\n",
      "  0.63814641 0.5271471  0.77767572 0.56464534 0.59448111 0.5268916\n",
      "  0.58613765 0.40922878 0.81596981 0.58179536 0.70840772 0.46446078\n",
      "  0.57491397 0.78219673 0.18619957 0.85839117 0.86940581 0.16083109\n",
      "  0.58075753 0.47088282 0.85649706 0.73252442 0.84065475 0.83497185\n",
      "  0.55958751 0.26067513 0.4874056  0.67649959 0.962966   0.62449033\n",
      "  0.33226205 0.53388692 0.28694658 0.20369442 0.60574171 0.08783233\n",
      "  1.02912868 0.55860451 0.         0.82179724 0.8819732  0.5692486\n",
      "  0.98574003 0.49023315 0.45510099 0.76706412 0.86309448 0.53052389\n",
      "  0.67743926 0.15541809 0.03013798 0.90632863 0.85425173 0.48398604\n",
      "  0.63030954 0.89705575 0.38754772 0.71395741 0.41114414 0.91443611\n",
      "  0.14881766 0.99013519 0.10569803 0.64289886 0.63625858 0.40290137\n",
      "  0.74231972 0.26449565 0.67741714 0.35108182 0.55335015 0.46507802\n",
      "  0.08591365 1.00151252 0.95786839 0.85295156]\n",
      " [0.37091234 0.44642221 0.71814527 0.10834794 0.49025213 0.40326993\n",
      "  0.67710849 0.40497256 0.8783442  0.21662811 0.21170231 0.70345649\n",
      "  0.21052609 0.35035193 0.49844884 0.84148405 0.50666011 0.59974464\n",
      "  0.53706377 0.40218758 0.68532928 0.49230146 0.09030689 0.81556518\n",
      "  0.25219198 0.52536778 0.15835599 0.44900668 0.22943636 0.78273002\n",
      "  0.50761365 0.41684607 0.48488087 0.30204371 0.62900183 0.59632625\n",
      "  0.30109169 0.53233647 0.79419583 0.21619855 0.23371032 0.68246106\n",
      "  0.30439302 0.63106475 0.25288675 0.7402952  0.51880459 0.70357335\n",
      "  0.4396257  0.76434793 0.46550084 0.44328397 0.25606342 0.62713798\n",
      "  0.5094043  0.29171344 0.76908671 0.86969806 0.34504054 0.76689724\n",
      "  0.22312915 0.82924617 0.82179724 0.         0.15453393 0.25305039\n",
      "  0.17926066 0.33912717 1.0731294  0.42784857 0.29457387 0.64006678\n",
      "  0.31668633 0.78757188 0.8213037  0.13620946 0.43065889 0.37485934\n",
      "  0.3743305  0.54095807 0.82220718 0.12898552 0.44918689 0.20711017\n",
      "  0.78002913 0.58732789 0.78907034 0.31919972 0.19173335 0.42516561\n",
      "  0.2704004  0.60057544 0.38593115 0.68977307 0.64123571 0.73649916\n",
      "  0.74546416 0.26857319 0.18034843 0.15145112]\n",
      " [0.46138128 0.59880237 0.86896096 0.25082117 0.58332716 0.53838432\n",
      "  0.83162696 0.3600738  0.98456226 0.08920269 0.05932509 0.84088919\n",
      "  0.15122204 0.50211499 0.65297719 0.94835106 0.59017668 0.5607814\n",
      "  0.62400261 0.49863413 0.77679367 0.60259457 0.07872152 0.92430628\n",
      "  0.38889061 0.49242126 0.10604438 0.41431527 0.32574306 0.74363436\n",
      "  0.45858941 0.47433554 0.63941434 0.43009524 0.77908846 0.72404203\n",
      "  0.31283052 0.68635409 0.82207355 0.07926362 0.09201779 0.75897945\n",
      "  0.31001419 0.75995147 0.11770406 0.88965857 0.67327688 0.85738561\n",
      "  0.40849656 0.86522975 0.59121303 0.37057577 0.10548491 0.77163145\n",
      "  0.59788204 0.38441234 0.7780909  0.95950257 0.48420579 0.83938993\n",
      "  0.16471028 0.96327028 0.8819732  0.15453393 0.         0.34057909\n",
      "  0.13158324 0.39341247 1.18092779 0.58202571 0.44516276 0.59912925\n",
      "  0.26221503 0.87269875 0.8764212  0.04592201 0.58425351 0.40239898\n",
      "  0.51869315 0.69447508 0.93837871 0.2655056  0.47906991 0.34205637\n",
      "  0.81550819 0.73730282 0.83219741 0.28176286 0.3017089  0.47969098\n",
      "  0.42389397 0.69068862 0.3184194  0.68847509 0.59483959 0.86383058\n",
      "  0.79988472 0.1295216  0.08203298 0.03025925]\n",
      " [0.12161396 0.37830108 0.73104751 0.29897622 0.24367197 0.24378158\n",
      "  0.62807767 0.30486221 0.64402053 0.42799104 0.37204318 0.53122948\n",
      "  0.45424893 0.29569518 0.47350839 0.60787575 0.25522249 0.44886071\n",
      "  0.28718789 0.15805857 0.43857347 0.2648136  0.32172845 0.58410291\n",
      "  0.14704491 0.37638764 0.25219777 0.31906554 0.02809493 0.61550481\n",
      "  0.38725797 0.17117953 0.46008612 0.1398965  0.52032929 0.40022433\n",
      "  0.15675348 0.477272   0.5555041  0.34790277 0.36441662 0.43001624\n",
      "  0.16836301 0.43678913 0.36459879 0.62022686 0.49684854 0.62970265\n",
      "  0.30650848 0.52480459 0.27033645 0.37793711 0.43932061 0.48593565\n",
      "  0.2601092  0.04403618 0.54627069 0.6225347  0.21360309 0.51406486\n",
      "  0.4679322  0.64382869 0.5692486  0.25305039 0.34057909 0.\n",
      "  0.42369028 0.10659959 0.84040629 0.39189971 0.37110275 0.48741143\n",
      "  0.27128678 0.53796921 0.56970184 0.35322827 0.44494659 0.17023961\n",
      "  0.26131819 0.54070802 0.60058985 0.15126867 0.22680289 0.37154778\n",
      "  0.53683952 0.61737421 0.54182786 0.24517871 0.07195918 0.18113025\n",
      "  0.2646115  0.35268419 0.33012108 0.48110565 0.49667892 0.53622868\n",
      "  0.49443142 0.46962948 0.40546674 0.31614861]\n",
      " [0.54444737 0.60265711 0.82358335 0.22333791 0.66549808 0.57994281\n",
      "  0.81417752 0.49083737 1.05715651 0.09476813 0.16997901 0.87735033\n",
      "  0.03126923 0.51052336 0.63574103 1.02033912 0.67890693 0.69181856\n",
      "  0.71066909 0.57782875 0.86090168 0.6711084  0.10291991 0.99457836\n",
      "  0.42967071 0.6226566  0.22923475 0.54433136 0.40279464 0.87495687\n",
      "  0.5899995  0.57668328 0.62316036 0.4810095  0.78894411 0.77442329\n",
      "  0.43043617 0.67891376 0.93969894 0.20423843 0.21139182 0.8530112\n",
      "  0.42949637 0.80878565 0.238908   0.90082355 0.65335367 0.84945925\n",
      "  0.53799769 0.94226066 0.64428401 0.50177822 0.15752175 0.79566891\n",
      "  0.68335589 0.4649986  0.90150123 1.04524556 0.52036809 0.93615989\n",
      "  0.04435024 1.00455988 0.98574003 0.17926066 0.13158324 0.42369028\n",
      "  0.         0.49599623 1.25218472 0.57506111 0.41108103 0.73037448\n",
      "  0.39305705 0.96153544 0.98272909 0.08931695 0.55713447 0.51652412\n",
      "  0.54555122 0.66414776 1.0014455  0.30802023 0.59348548 0.28773027\n",
      "  0.93024962 0.69139264 0.94385903 0.41075531 0.36844031 0.58355679\n",
      "  0.42697958 0.77547076 0.44998717 0.81412311 0.72632956 0.91438938\n",
      "  0.9062275  0.13974641 0.05849212 0.15964117]\n",
      " [0.11501988 0.46001937 0.82129317 0.39970284 0.21395424 0.30355168\n",
      "  0.7048212  0.24093033 0.61369454 0.48258608 0.41119061 0.55828901\n",
      "  0.5250255  0.38689719 0.56166779 0.57936789 0.20717572 0.35296478\n",
      "  0.24271417 0.15287508 0.39409309 0.26579232 0.39325312 0.55894023\n",
      "  0.24522622 0.28398941 0.29147405 0.23888369 0.13423006 0.5128352\n",
      "  0.30525266 0.0811163  0.54879761 0.2207007  0.58013836 0.41832697\n",
      "  0.11233115 0.55750025 0.45634621 0.37950629 0.39314063 0.36694007\n",
      "  0.12350679 0.45376483 0.38581891 0.6711878  0.58485212 0.69846179\n",
      "  0.22625726 0.49047966 0.30276506 0.32059411 0.4808912  0.53272281\n",
      "  0.22027577 0.10325673 0.44119403 0.57225186 0.29135456 0.44613471\n",
      "  0.53913387 0.65778701 0.49023315 0.33912717 0.39341247 0.10659959\n",
      "  0.49599623 0.         0.8084728  0.4811439  0.47656755 0.3899806\n",
      "  0.24232145 0.48346999 0.48673322 0.41616693 0.54183636 0.07137565\n",
      "  0.33911389 0.63211056 0.58589216 0.2542941  0.12027292 0.47673142\n",
      "  0.44097848 0.71285148 0.45036731 0.20843657 0.17693486 0.08756081\n",
      "  0.36652074 0.30956911 0.28372729 0.37451194 0.40134681 0.54319366\n",
      "  0.41023658 0.51686198 0.46786171 0.36514409]\n",
      " [0.72052668 0.76892414 0.97791089 1.06738644 0.59988881 0.6906023\n",
      "  0.79566015 1.00256452 0.19640249 1.26773435 1.21060567 0.46508697\n",
      "  1.2834425  0.81430239 0.83736586 0.23262022 0.6013027  0.96518946\n",
      "  0.56576118 0.68243464 0.41618569 0.58127606 1.15469198 0.25763224\n",
      "  0.8300409  0.9482475  1.0895179  0.96609317 0.85589288 0.9818363\n",
      "  1.0037083  0.73725818 0.83750583 0.77431276 0.64711077 0.49840734\n",
      "  0.91731459 0.77713205 0.64055788 1.1829944  1.19804311 0.46672001\n",
      "  0.92693695 0.47169934 1.19308257 0.59752563 0.8440744  0.73072335\n",
      "  0.95785049 0.31814054 0.6153525  1.07753294 1.27893334 0.57459111\n",
      "  0.58906236 0.79651966 0.74204202 0.26259398 0.75196461 0.42137219\n",
      "  1.29622481 0.36122722 0.45510099 1.0731294  1.18092779 0.84040629\n",
      "  1.25218472 0.8084728  0.         0.82179483 0.9837458  0.97386194\n",
      "  1.04187141 0.34868752 0.48368046 1.19086975 0.90580162 0.83643345\n",
      "  0.74635452 0.89265863 0.2591861  0.94536754 0.78242885 1.08210942\n",
      "  0.60391748 0.97483832 0.56079589 1.00613995 0.88529479 0.73723353\n",
      "  0.8844332  0.4990205  1.0631305  0.80114246 0.99649242 0.37638024\n",
      "  0.52123526 1.3100307  1.2425061  1.1564327 ]\n",
      " [0.39529287 0.05337104 0.34021665 0.35174834 0.42986979 0.21251619\n",
      "  0.25159987 0.69532228 0.65470235 0.63914628 0.63757867 0.36636711\n",
      "  0.6022706  0.09639877 0.08168775 0.6208899  0.47104602 0.83410859\n",
      "  0.47599174 0.38397052 0.55662631 0.3637397  0.51462417 0.59178878\n",
      "  0.24670542 0.76433993 0.55260526 0.71076099 0.37403946 0.98820099\n",
      "  0.77891881 0.5037008  0.06818642 0.26051767 0.22368944 0.33784117\n",
      "  0.54740579 0.10468873 0.8376911  0.63514962 0.65351839 0.60672049\n",
      "  0.55852337 0.3557365  0.66757079 0.33312684 0.10501462 0.27613634\n",
      "  0.69815438 0.58122917 0.2800301  0.76477953 0.68357689 0.26027149\n",
      "  0.45563223 0.37845849 0.86598421 0.70830448 0.19367498 0.68400742\n",
      "  0.61028113 0.49339237 0.76706412 0.42784857 0.58202571 0.39189971\n",
      "  0.57506111 0.4811439  0.82179483 0.         0.183834   0.87090876\n",
      "  0.64698682 0.65757668 0.78212391 0.56174085 0.08910479 0.5522723\n",
      "  0.15047492 0.15134946 0.56683792 0.33346427 0.58629486 0.30988217\n",
      "  0.80547851 0.23743135 0.79126502 0.62757568 0.35326525 0.51506334\n",
      "  0.15905012 0.5032047  0.71288098 0.82660607 0.88248766 0.44543156\n",
      "  0.72374318 0.69231349 0.59852252 0.57503929]\n",
      " [0.42892979 0.22792726 0.4239157  0.19572618 0.50661184 0.31086403\n",
      "  0.40442744 0.64474541 0.8055735  0.48656103 0.5040163  0.54179048\n",
      "  0.43547052 0.1704599  0.22840923 0.76989915 0.54183156 0.81453439\n",
      "  0.55791262 0.43520148 0.67106852 0.46181654 0.3697693  0.74094591\n",
      "  0.23899502 0.74013625 0.4442355  0.67396758 0.34506104 0.98582211\n",
      "  0.74057308 0.52590238 0.21695167 0.28724536 0.40743876 0.4869262\n",
      "  0.50605624 0.27928692 0.89845725 0.51077018 0.52821768 0.70377246\n",
      "  0.51489497 0.51205608 0.54729548 0.51601833 0.24405884 0.44473311\n",
      "  0.66220185 0.71646731 0.39138346 0.70193871 0.53841269 0.43991249\n",
      "  0.53245725 0.37888279 0.90625667 0.84045317 0.25863489 0.78737697\n",
      "  0.44168993 0.67095    0.86309448 0.29457387 0.44516276 0.37110275\n",
      "  0.41108103 0.47656755 0.9837458  0.183834   0.         0.85407867\n",
      "  0.57532537 0.77708847 0.87285558 0.41576819 0.14627366 0.54101558\n",
      "  0.24477608 0.25346501 0.72505569 0.24959399 0.59531447 0.12954585\n",
      "  0.87221964 0.29276419 0.8665435  0.56515576 0.30755986 0.53725128\n",
      "  0.12142115 0.60215058 0.6456033  0.84900577 0.86127492 0.61063628\n",
      "  0.80561572 0.53953275 0.44389083 0.44568702]\n",
      " [0.48429351 0.84765872 1.21086613 0.73382311 0.51582881 0.68302322\n",
      "  1.08740644 0.24023958 0.80847654 0.6685363  0.5750736  0.8844657\n",
      "  0.74982321 0.77687732 0.9510652  0.78468564 0.48017926 0.04042818\n",
      "  0.50452039 0.50872844 0.59687192 0.59440383 0.64649722 0.77662323\n",
      "  0.63314153 0.11563493 0.50614311 0.19116184 0.51120947 0.144687\n",
      "  0.14096894 0.378459   0.93834972 0.61039384 0.94897315 0.74416112\n",
      "  0.35085396 0.94363504 0.36800808 0.53547347 0.53578254 0.52185557\n",
      "  0.34373414 0.77367277 0.51119969 1.02664294 0.97415908 1.07404575\n",
      "  0.20048211 0.69637887 0.66045218 0.24180402 0.62965184 0.88837082\n",
      "  0.50201733 0.49314118 0.27314871 0.71138772 0.67951208 0.55261526\n",
      "  0.762887   0.95304999 0.53052389 0.64006678 0.59912925 0.48741143\n",
      "  0.73037448 0.3899806  0.97386194 0.87090876 0.85407867 0.\n",
      "  0.33751847 0.62895587 0.50673751 0.64157483 0.93103409 0.31938688\n",
      "  0.72654    1.02201427 0.82602934 0.61018926 0.29177614 0.82659744\n",
      "  0.39117478 1.10259082 0.43074544 0.32420458 0.54658501 0.36836624\n",
      "  0.75199239 0.54540663 0.28391289 0.18311342 0.02282739 0.83552188\n",
      "  0.45428371 0.67299427 0.67940308 0.57075131]\n",
      " [0.35276333 0.64169422 0.97771967 0.42008723 0.45549686 0.51492308\n",
      "  0.89218804 0.09785884 0.84950224 0.33655953 0.2445583  0.79389739\n",
      "  0.41335002 0.55152126 0.72801169 0.81631395 0.44392147 0.29877127\n",
      "  0.47936485 0.39259413 0.6256983  0.50681456 0.31031119 0.79737535\n",
      "  0.4026338  0.23047745 0.17004362 0.15289221 0.27999586 0.48219201\n",
      "  0.19795041 0.30515265 0.714127   0.40988894 0.79145733 0.65659935\n",
      "  0.13018755 0.74024723 0.58524748 0.20473379 0.20924026 0.58418963\n",
      "  0.11881536 0.69263333 0.18922686 0.89130953 0.75106857 0.89834428\n",
      "  0.14830438 0.7257806  0.53357225 0.12794652 0.30686841 0.75611225\n",
      "  0.45943331 0.30482713 0.52826388 0.79520044 0.48276952 0.65362306\n",
      "  0.42667371 0.89827091 0.67743926 0.31668633 0.26221503 0.27128678\n",
      "  0.39305705 0.24232145 1.04187141 0.64698682 0.57532537 0.33751847\n",
      "  0.         0.70475955 0.66586575 0.30410178 0.68391467 0.20560503\n",
      "  0.52949106 0.78861569 0.82704657 0.3275818  0.26853642 0.51816182\n",
      "  0.58586185 0.85488727 0.60974048 0.03581157 0.2938819  0.30467001\n",
      "  0.49887499 0.54443784 0.07066005 0.43450342 0.33445455 0.78474775\n",
      "  0.59178139 0.34967398 0.34334407 0.23342551]\n",
      " [0.41717704 0.60661001 0.91852458 0.80716619 0.29764    0.4666511\n",
      "  0.74130497 0.65795163 0.18360398 0.96164202 0.89431653 0.40893845\n",
      "  0.99218152 0.61202322 0.70468344 0.16795146 0.28315283 0.61813898\n",
      "  0.2508711  0.38570556 0.10673439 0.31726825 0.85969451 0.17169662\n",
      "  0.57177242 0.59956018 0.77384091 0.61910462 0.55900026 0.6519052\n",
      "  0.65514105 0.40592923 0.69907938 0.51315161 0.57006947 0.33263265\n",
      "  0.58587882 0.65778848 0.32759631 0.86297269 0.87645387 0.12086722\n",
      "  0.59432632 0.33201541 0.86808022 0.58414142 0.71996077 0.6929282\n",
      "  0.611331   0.10606674 0.3868214  0.73118631 0.96391465 0.48501065\n",
      "  0.27830051 0.49665613 0.41964077 0.09051994 0.51953749 0.0821404\n",
      "  1.0058207  0.40321819 0.15541809 0.78757188 0.87269875 0.53796921\n",
      "  0.96153544 0.48346999 0.34868752 0.65757668 0.77708847 0.62895587\n",
      "  0.70475955 0.         0.18401836 0.88991613 0.74652076 0.49982309\n",
      "  0.53442011 0.77593126 0.23292624 0.66773861 0.43940065 0.84663001\n",
      "  0.28641843 0.86845843 0.24621951 0.66897563 0.59599256 0.40369501\n",
      "  0.66026634 0.18740626 0.72004806 0.46310589 0.65135093 0.31259266\n",
      "  0.18755708 0.99883346 0.94223713 0.84567994]\n",
      " [0.46202854 0.73515001 1.0713738  0.8634957  0.36627527 0.57474661\n",
      "  0.90051078 0.59774925 0.35669375 0.96493336 0.88611074 0.58279452\n",
      "  1.01170273 0.72009603 0.84015323 0.34808401 0.33297586 0.50601922\n",
      "  0.31496588 0.44356563 0.24168137 0.41945308 0.87996065 0.35499408\n",
      "  0.64494299 0.50805869 0.77150406 0.54866033 0.59553981 0.49890219\n",
      "  0.56732426 0.40619723 0.83252979 0.58943416 0.73033337 0.48568706\n",
      "  0.56714553 0.80056349 0.15698382 0.85029007 0.86079961 0.17572243\n",
      "  0.57244098 0.49365125 0.84708393 0.75727603 0.85802377 0.85769552\n",
      "  0.54414853 0.28850973 0.50210561 0.65984824 0.95520955 0.64689677\n",
      "  0.34056366 0.53582427 0.25856979 0.2337406  0.61669633 0.11174958\n",
      "  1.02582473 0.58683227 0.03013798 0.8213037  0.8764212  0.56970184\n",
      "  0.98272909 0.48673322 0.48368046 0.78212391 0.87285558 0.50673751\n",
      "  0.66586575 0.18401836 0.         0.90206127 0.86867485 0.47615404\n",
      "  0.64307956 0.91440628 0.41665893 0.71632771 0.40183292 0.9202911\n",
      "  0.12079811 1.0074511  0.07796198 0.63176022 0.63793902 0.3991734\n",
      "  0.75171291 0.27893162 0.66298166 0.32592352 0.52954192 0.49161257\n",
      "  0.07659292 0.99433349 0.95328552 0.84712336]\n",
      " [0.47483983 0.58213659 0.83829797 0.22005148 0.59688751 0.53485609\n",
      "  0.80902768 0.40178949 0.99482963 0.08108885 0.09894528 0.83661239\n",
      "  0.1130716  0.4863621  0.62983097 0.95831014 0.60677226 0.60286128\n",
      "  0.63973759 0.51051039 0.79171631 0.61024962 0.04713238 0.93350782\n",
      "  0.38383738 0.53341703 0.1403051  0.45506638 0.33538851 0.78621686\n",
      "  0.50144628 0.49726557 0.61650934 0.42947031 0.76518149 0.72473936\n",
      "  0.34395332 0.66641517 0.85385962 0.12465122 0.13608879 0.77843947\n",
      "  0.34235283 0.76015372 0.16256882 0.87650238 0.64939599 0.83784377\n",
      "  0.44868704 0.87720145 0.59246855 0.4153421  0.12296429 0.76263802\n",
      "  0.61299321 0.39623725 0.81348509 0.97543631 0.47825908 0.8602698\n",
      "  0.12714805 0.96106591 0.90632863 0.13620946 0.04592201 0.35322827\n",
      "  0.08931695 0.41616693 1.19086975 0.56174085 0.41576819 0.64157483\n",
      "  0.30410178 0.88991613 0.90206127 0.         0.55780986 0.43162516\n",
      "  0.50954391 0.66758126 0.94463516 0.25913397 0.50863026 0.30628512\n",
      "  0.84562704 0.70616375 0.86062389 0.32143852 0.30634348 0.50342985\n",
      "  0.40564822 0.70573312 0.36244075 0.7254197  0.63789448 0.86496746\n",
      "  0.82546994 0.13238143 0.0523218  0.07109777]\n",
      " [0.46641917 0.14163191 0.29433768 0.33888753 0.51232022 0.29553811\n",
      "  0.25844441 0.74161619 0.74197048 0.63076217 0.64224249 0.44554512\n",
      "  0.58172713 0.15930372 0.08731383 0.70854344 0.55266891 0.89308032\n",
      "  0.55986607 0.45976729 0.64516645 0.44943545 0.51114214 0.67948507\n",
      "  0.29813326 0.82123493 0.57089332 0.76259642 0.4235105  1.05365143\n",
      "  0.83066079 0.5732466  0.07898837 0.32512547 0.28534886 0.42634222\n",
      "  0.5957503  0.14674301 0.91927099 0.64535041 0.66330082 0.69363507\n",
      "  0.60612771 0.44307459 0.68036228 0.38680675 0.09921572 0.30196697\n",
      "  0.75020624 0.67021644 0.36684657 0.80650364 0.68076955 0.33672419\n",
      "  0.53835347 0.4386558  0.9430352  0.7973259  0.26669782 0.77183698\n",
      "  0.58795641 0.56940607 0.85425173 0.43065889 0.58425351 0.44494659\n",
      "  0.55713447 0.54183636 0.90580162 0.08910479 0.14627366 0.93103409\n",
      "  0.68391467 0.74652076 0.86867485 0.55780986 0.         0.61173013\n",
      "  0.22936837 0.11030175 0.6527371  0.35867591 0.65280627 0.27452567\n",
      "  0.88814406 0.17275446 0.87545553 0.66831839 0.39550615 0.58475252\n",
      "  0.18540485 0.58997044 0.75230825 0.89878643 0.94114033 0.52966383\n",
      "  0.80883316 0.68392742 0.58843686 0.58184703]\n",
      " [0.1796536  0.53138806 0.89246685 0.44803374 0.25878118 0.37356452\n",
      "  0.7758126  0.18113204 0.64472598 0.49004823 0.40995962 0.61790947\n",
      "  0.54377051 0.45771472 0.63291865 0.61202118 0.24149689 0.28195224\n",
      "  0.27641823 0.2137005  0.42033972 0.32150005 0.41584729 0.59393677\n",
      "  0.31412846 0.21261498 0.29662276 0.17069465 0.19597131 0.44527189\n",
      "  0.23561875 0.1018574  0.62000657 0.29194385 0.64880381 0.47638982\n",
      "  0.09100206 0.62879938 0.42343379 0.37441394 0.38551431 0.37962618\n",
      "  0.09696428 0.51086246 0.37346001 0.73752833 0.65612047 0.76847056\n",
      "  0.15829644 0.52103787 0.36744155 0.26166456 0.47913124 0.59859872\n",
      "  0.25874585 0.17393002 0.39438105 0.59014269 0.36272465 0.45195974\n",
      "  0.55795766 0.71147484 0.48398604 0.37485934 0.40239898 0.17023961\n",
      "  0.51652412 0.07137565 0.83643345 0.5522723  0.54101558 0.31938688\n",
      "  0.20560503 0.49982309 0.47615404 0.43162516 0.61173013 0.\n",
      "  0.41045565 0.70310743 0.62647515 0.30817579 0.0770161  0.53127505\n",
      "  0.41401038 0.7832045  0.42979858 0.16981248 0.23552949 0.0998008\n",
      "  0.43420645 0.3401357  0.23258689 0.3189357  0.33027661 0.59499365\n",
      "  0.40002346 0.5181995  0.48143784 0.37262555]\n",
      " [0.24614438 0.12113555 0.48580715 0.33398579 0.28312627 0.06871105\n",
      "  0.36754128 0.56541104 0.56336144 0.5905118  0.56786322 0.33237434\n",
      "  0.57579266 0.07790384 0.22651593 0.52723261 0.32330432 0.6907482\n",
      "  0.33137087 0.23349867 0.42932894 0.22426192 0.46456438 0.49849078\n",
      "  0.13409892 0.62303899 0.46525373 0.57466556 0.24952045 0.84025225\n",
      "  0.642308   0.35481688 0.21465947 0.12178075 0.26683944 0.24808456\n",
      "  0.41771888 0.21848733 0.68991947 0.55682102 0.57515891 0.46952638\n",
      "  0.42948286 0.27735264 0.58409032 0.37410561 0.24912727 0.36892684\n",
      "  0.56196592 0.47170294 0.14761073 0.63925353 0.62407532 0.25318822\n",
      "  0.3092256  0.2392952  0.71578861 0.59581993 0.04817036 0.55056984\n",
      "  0.5864576  0.46092091 0.63030954 0.3743305  0.51869315 0.26131819\n",
      "  0.54555122 0.33911389 0.74635452 0.15047492 0.24477608 0.72654\n",
      "  0.52949106 0.53442011 0.64307956 0.50954391 0.22936837 0.41045565\n",
      "  0.         0.3003335  0.48722277 0.25328256 0.43874339 0.33593024\n",
      "  0.65883851 0.38789984 0.64678206 0.50556606 0.24166401 0.36606598\n",
      "  0.13814472 0.36607943 0.59090553 0.67636656 0.739185   0.38119389\n",
      "  0.58102879 0.64158353 0.55459007 0.5046826 ]\n",
      " [0.546157   0.18455777 0.19043626 0.44814413 0.57320992 0.35802078\n",
      "  0.16220168 0.84206907 0.7448795  0.73975594 0.75252321 0.42778604\n",
      "  0.68782927 0.24558865 0.07557321 0.71422807 0.61514695 0.9850363\n",
      "  0.616745   0.53328197 0.6806466  0.50202039 0.62103478 0.68586346\n",
      "  0.39409888 0.91483208 0.68027925 0.85975958 0.52139588 1.13949205\n",
      "  0.9279536  0.65470638 0.08597748 0.41166264 0.24703339 0.44455872\n",
      "  0.69480366 0.11972862 0.98028341 0.7555742  0.77354755 0.73880893\n",
      "  0.70562443 0.45278406 0.79045575 0.32825053 0.05640115 0.21840569\n",
      "  0.84721335 0.68949253 0.41689157 0.90934649 0.79050697 0.31921275\n",
      "  0.59838548 0.52918956 1.01318295 0.81598859 0.34479212 0.81153803\n",
      "  0.69342487 0.54009985 0.89705575 0.54095807 0.69447508 0.54070802\n",
      "  0.66414776 0.63211056 0.89265863 0.15134946 0.25346501 1.02201427\n",
      "  0.78861569 0.77593126 0.91440628 0.66758126 0.11030175 0.70310743\n",
      "  0.3003335  0.         0.65023841 0.46601199 0.73759572 0.37837546\n",
      "  0.9465603  0.09307953 0.9296489  0.77139815 0.4970285  0.66603125\n",
      "  0.29024781 0.63673857 0.85610133 0.97655092 1.03338193 0.52346899\n",
      "  0.86043709 0.79281807 0.69721261 0.69214399]\n",
      " [0.48551568 0.51358821 0.75888424 0.81064983 0.37193794 0.4325045\n",
      "  0.57514178 0.80354555 0.09833607 1.02323833 0.97259207 0.22832483\n",
      "  1.03269997 0.55531506 0.589426   0.07850432 0.38502764 0.80836049\n",
      "  0.350511   0.44555461 0.22919793 0.33604352 0.90631168 0.06213571\n",
      "  0.5750581  0.77513883 0.85264557 0.77627858 0.61287051 0.86901322\n",
      "  0.82470692 0.5246195  0.58811189 0.52088453 0.41217543 0.23922369\n",
      "  0.69797024 0.5316914  0.55820222 0.9479607  0.96403305 0.30809551\n",
      "  0.70873243 0.21318869 0.96198259 0.39099261 0.59859883 0.51627987\n",
      "  0.76624779 0.13480295 0.35921295 0.88257666 1.03938573 0.33188854\n",
      "  0.36804645 0.55663423 0.64533927 0.20895746 0.49405505 0.31232139\n",
      "  1.04511679 0.17674394 0.38754772 0.82220718 0.93837871 0.60058985\n",
      "  1.0014455  0.58589216 0.2591861  0.56683792 0.72505569 0.82602934\n",
      "  0.82704657 0.23292624 0.41665893 0.94463516 0.6527371  0.62647515\n",
      "  0.48722277 0.65023841 0.         0.69349873 0.58643357 0.82306289\n",
      "  0.51663508 0.73710635 0.47785828 0.79215405 0.63834426 0.52735638\n",
      "  0.62533423 0.29102117 0.85889462 0.67599282 0.84734496 0.12700591\n",
      "  0.41448417 1.06790006 0.99551306 0.91557795]\n",
      " [0.25605431 0.34107705 0.6530096  0.14807604 0.37032779 0.27580094\n",
      "  0.58479434 0.39524572 0.75117464 0.34015772 0.31497549 0.57751575\n",
      "  0.33925485 0.24441203 0.41137821 0.71424638 0.39133831 0.57013194\n",
      "  0.41929956 0.28264578 0.56366319 0.36556181 0.21637067 0.68798597\n",
      "  0.12470374 0.49507934 0.21958073 0.42619812 0.1234825  0.74620083\n",
      "  0.49204683 0.32241925 0.397396   0.17306125 0.5160298  0.46756627\n",
      "  0.25957657 0.43452291 0.70677276 0.30632367 0.32477661 0.56769449\n",
      "  0.26754288 0.50248713 0.33636251 0.62567982 0.43365042 0.60266584\n",
      "  0.41473579 0.63889007 0.33652144 0.45310748 0.37095716 0.50612602\n",
      "  0.39139347 0.18056007 0.69547946 0.74750934 0.21938823 0.65315071\n",
      "  0.35161833 0.70206806 0.71395741 0.12898552 0.2655056  0.15126867\n",
      "  0.30802023 0.2542941  0.94536754 0.33346427 0.24959399 0.61018926\n",
      "  0.3275818  0.66773861 0.71632771 0.25913397 0.35867591 0.30817579\n",
      "  0.25328256 0.46601199 0.69349873 0.         0.37365845 0.22325964\n",
      "  0.68783061 0.52808287 0.69180198 0.31578428 0.07958426 0.33239729\n",
      "  0.17660738 0.48034083 0.39730031 0.62616126 0.61589473 0.60779794\n",
      "  0.6420175  0.39001097 0.30700438 0.25167389]\n",
      " [0.19360688 0.55937474 0.9245218  0.51738462 0.234886   0.39195201\n",
      "  0.79612203 0.22034918 0.59476127 0.5664063  0.48498219 0.60491386\n",
      "  0.62078217 0.49500461 0.66492582 0.56391316 0.20678489 0.25938127\n",
      "  0.23834602 0.21698908 0.36927589 0.30886826 0.4926202  0.54833715\n",
      "  0.36045727 0.20273376 0.37316012 0.18993806 0.25450138 0.40190754\n",
      "  0.24303127 0.08668927 0.65267516 0.3278314  0.65771514 0.46281\n",
      "  0.16661187 0.65389887 0.34677847 0.44866756 0.45897922 0.31854205\n",
      "  0.1710043  0.49497467 0.44543889 0.7383626  0.68772741 0.78229948\n",
      "  0.17981631 0.47208586 0.36970134 0.29729861 0.55376665 0.59944894\n",
      "  0.2272356  0.21738877 0.32250873 0.52988764 0.39291948 0.38524758\n",
      "  0.6349697  0.6875702  0.41114414 0.44918689 0.47906991 0.22680289\n",
      "  0.59348548 0.12027292 0.78242885 0.58629486 0.59531447 0.29177614\n",
      "  0.26853642 0.43940065 0.40183292 0.50863026 0.65280627 0.0770161\n",
      "  0.43874339 0.73759572 0.58643357 0.37365845 0.         0.59657805\n",
      "  0.33699844 0.82160173 0.35329437 0.23324948 0.29707414 0.07682035\n",
      "  0.4826986  0.29556804 0.28094148 0.25436508 0.30701546 0.56956595\n",
      "  0.32625757 0.59343953 0.55835904 0.44920275]\n",
      " [0.45992115 0.34912551 0.53647284 0.09905201 0.55871338 0.39333939\n",
      "  0.53296004 0.60015427 0.89695812 0.36979493 0.40126789 0.65564336\n",
      "  0.31001795 0.27385072 0.35791298 0.86042291 0.58795002 0.78623054\n",
      "  0.61027817 0.47689076 0.73994116 0.52995661 0.26354323 0.83203709\n",
      "  0.2769568  0.71096741 0.36544349 0.63826424 0.34345866 0.96542893\n",
      "  0.70115834 0.54082296 0.34649683 0.33478774 0.53310913 0.58400501\n",
      "  0.4766025  0.40826107 0.92441743 0.41506975 0.43111236 0.76002161\n",
      "  0.48304231 0.61289062 0.45342904 0.64300895 0.37313588 0.57426916\n",
      "  0.62762869 0.79820524 0.47228751 0.64596084 0.42590446 0.55861578\n",
      "  0.58300162 0.39346029 0.91769733 0.91764681 0.33343398 0.84556108\n",
      "  0.31518078 0.78559458 0.91443611 0.20711017 0.34205637 0.37154778\n",
      "  0.28773027 0.47673142 1.08210942 0.30988217 0.12954585 0.82659744\n",
      "  0.51816182 0.84663001 0.9202911  0.30628512 0.27452567 0.53127505\n",
      "  0.33593024 0.37837546 0.82306289 0.22325964 0.59657805 0.\n",
      "  0.90297722 0.40412763 0.90337549 0.51565435 0.29995097 0.55135897\n",
      "  0.19778875 0.66336025 0.58849171 0.8494177  0.8304783  0.71556181\n",
      "  0.84856001 0.4216668  0.32658401 0.34888312]\n",
      " [0.44541863 0.76292368 1.11476075 0.83577924 0.37587102 0.59318083\n",
      "  0.95243716 0.50821371 0.46758495 0.90212439 0.81809448 0.65668914\n",
      "  0.95772983 0.73264487 0.87110722 0.45435323 0.33565703 0.3941161\n",
      "  0.32994216 0.43721664 0.31174013 0.44461705 0.82890369 0.45686569\n",
      "  0.63570031 0.40525988 0.70947473 0.45528643 0.56438835 0.37817488\n",
      "  0.4646871  0.36587887 0.86194785 0.58497877 0.78614408 0.54252398\n",
      "  0.50267903 0.83861275 0.04166704 0.78043433 0.7890595  0.22967661\n",
      "  0.50581317 0.55748519 0.77263388 0.82726407 0.89083369 0.91620434\n",
      "  0.45267828 0.38302272 0.52975781 0.56299384 0.88570161 0.70616947\n",
      "  0.34993513 0.50986054 0.13815315 0.34973593 0.62534246 0.20480418\n",
      "  0.97191894 0.67881424 0.14881766 0.78002913 0.81550819 0.53683952\n",
      "  0.93024962 0.44097848 0.60391748 0.80547851 0.87221964 0.39117478\n",
      "  0.58586185 0.28641843 0.12079811 0.84562704 0.88814406 0.41401038\n",
      "  0.65883851 0.9465603  0.51663508 0.68783061 0.33699844 0.90297722\n",
      "  0.         1.03863765 0.04312251 0.5537793  0.60824698 0.35647435\n",
      "  0.75120231 0.31767925 0.57326281 0.20845627 0.41383411 0.57454611\n",
      "  0.10367134 0.92658914 0.89523187 0.78549382]\n",
      " [0.63208469 0.2758044  0.13238474 0.48673078 0.66447888 0.44818922\n",
      "  0.2026536  0.91419692 0.83281482 0.77343567 0.79634837 0.51179525\n",
      "  0.71222868 0.3266841  0.16775133 0.80297049 0.70621019 1.06491125\n",
      "  0.70871356 0.62139844 0.77362726 0.59431029 0.66093507 0.77487305\n",
      "  0.47039289 0.99345208 0.73488256 0.93532001 0.59620734 1.22326881\n",
      "  1.00339772 0.74015315 0.17671503 0.49399692 0.32784964 0.53659706\n",
      "  0.76849719 0.21096881 1.07199914 0.80352644 0.82098135 0.8318327\n",
      "  0.77885187 0.54357137 0.839946   0.39431056 0.14948043 0.26930686\n",
      "  0.92291808 0.78094539 0.50924258 0.97837417 0.82794007 0.40521927\n",
      "  0.68984968 0.60959613 1.10299475 0.90709942 0.43042431 0.90459731\n",
      "  0.71610963 0.61793637 0.99013519 0.58732789 0.73730282 0.61737421\n",
      "  0.69139264 0.71285148 0.97483832 0.23743135 0.29276419 1.10259082\n",
      "  0.85488727 0.86845843 1.0074511  0.70616375 0.17275446 0.7832045\n",
      "  0.38789984 0.09307953 0.73710635 0.52808287 0.82160173 0.40412763\n",
      "  1.03863765 0.         1.02220183 0.8401946  0.56809658 0.7515772\n",
      "  0.35764524 0.72965479 0.92376287 1.06389868 1.11306902 0.61010364\n",
      "  0.95317702 0.82562827 0.73028987 0.73842819]\n",
      " [0.44370991 0.74709139 1.09431827 0.83986136 0.36402185 0.5799214\n",
      "  0.92895457 0.53592104 0.42606289 0.91969718 0.83758904 0.62567453\n",
      "  0.97195423 0.72195839 0.85445742 0.41387872 0.32570138 0.43181666\n",
      "  0.31558949 0.43167955 0.27985694 0.42812838 0.84179065 0.41747091\n",
      "  0.63239998 0.43861902 0.72638396 0.48452032 0.56886679 0.42124261\n",
      "  0.49810016 0.37247901 0.84579918 0.57972511 0.76109744 0.51637396\n",
      "  0.51989591 0.8195075  0.08208918 0.80059695 0.8099904  0.20067296\n",
      "  0.52392251 0.52922583 0.79462626 0.79780209 0.87359661 0.89052884\n",
      "  0.48106684 0.34522433 0.5130292  0.59400011 0.90589    0.6798248\n",
      "  0.33782601 0.51209275 0.1812713  0.30707607 0.61562638 0.16554019\n",
      "  0.98613752 0.64251595 0.10569803 0.78907034 0.83219741 0.54182786\n",
      "  0.94385903 0.45036731 0.56079589 0.79126502 0.8665435  0.43074544\n",
      "  0.60974048 0.24621951 0.07796198 0.86062389 0.87545553 0.42979858\n",
      "  0.64678206 0.9296489  0.47785828 0.69180198 0.35329437 0.90337549\n",
      "  0.04312251 1.02220183 0.         0.5767293  0.61237158 0.36391642\n",
      "  0.74517201 0.2952469  0.60120309 0.2489087  0.45349793 0.54062721\n",
      "  0.07187367 0.94613485 0.91094025 0.80240785]\n",
      " [0.32031149 0.61983834 0.96119409 0.41893433 0.4208899  0.4877171\n",
      "  0.87038732 0.08579583 0.81390781 0.36034551 0.27013077 0.7626956\n",
      "  0.43275848 0.5315527  0.70898344 0.78080604 0.40860105 0.28445104\n",
      "  0.44399645 0.35981618 0.58997908 0.47373847 0.32278772 0.76201244\n",
      "  0.38164053 0.21272015 0.18295286 0.13430417 0.25646263 0.46853674\n",
      "  0.18855348 0.26961246 0.69518441 0.38484143 0.76527498 0.62455367\n",
      "  0.09719757 0.71870106 0.55441393 0.23080654 0.23719493 0.54842862\n",
      "  0.08536929 0.66042797 0.21914439 0.86364542 0.73217122 0.87442363\n",
      "  0.12731569 0.69018527 0.50310018 0.13819054 0.33481789 0.72759242\n",
      "  0.42434339 0.27619804 0.50075491 0.75940957 0.45828433 0.61814616\n",
      "  0.44639034 0.86554602 0.64289886 0.31919972 0.28176286 0.24517871\n",
      "  0.41075531 0.20843657 1.00613995 0.62757568 0.56515576 0.32420458\n",
      "  0.03581157 0.66897563 0.63176022 0.32143852 0.66831839 0.16981248\n",
      "  0.50556606 0.77139815 0.79215405 0.31578428 0.23324948 0.51565435\n",
      "  0.5537793  0.8401946  0.5767293  0.         0.27460331 0.26898166\n",
      "  0.48291802 0.50889524 0.08555001 0.40855919 0.32346362 0.75148345\n",
      "  0.55735549 0.37705503 0.36368247 0.25207659]\n",
      " [0.18024178 0.3487241  0.68709499 0.22761468 0.29854398 0.24378189\n",
      "  0.59884964 0.34611256 0.68963288 0.38503648 0.34197169 0.54416942\n",
      "  0.39955221 0.25764062 0.4345148  0.65294749 0.31620499 0.50715034\n",
      "  0.34579111 0.21046295 0.49360215 0.30415908 0.26943806 0.62773119\n",
      "  0.10971617 0.43302688 0.22934838 0.36928226 0.043979   0.67878991\n",
      "  0.43689038 0.2429327  0.42068344 0.13264889 0.50820635 0.4227916\n",
      "  0.20126002 0.44684398 0.62733404 0.32438329 0.34219878 0.49252514\n",
      "  0.21116792 0.45890317 0.34772612 0.6136709  0.45766313 0.6078984\n",
      "  0.35716202 0.57385679 0.28992703 0.41235784 0.40528253 0.48531579\n",
      "  0.31803151 0.10239859 0.61774717 0.67797994 0.19820088 0.57756138\n",
      "  0.41275347 0.66364211 0.63625858 0.19173335 0.3017089  0.07195918\n",
      "  0.36844031 0.17693486 0.88529479 0.35326525 0.30755986 0.54658501\n",
      "  0.2938819  0.59599256 0.63793902 0.30634348 0.39550615 0.23552949\n",
      "  0.24166401 0.4970285  0.63834426 0.07958426 0.29707414 0.29995097\n",
      "  0.60824698 0.56809658 0.61237158 0.27460331 0.         0.2530056\n",
      "  0.21062838 0.40888211 0.35972005 0.5508601  0.55413393 0.56229575\n",
      "  0.56327533 0.43087196 0.35752081 0.28131697]\n",
      " [0.1199232  0.48596081 0.85164921 0.47993352 0.16381885 0.31665216\n",
      "  0.72031909 0.27704875 0.54504422 0.56874607 0.49483565 0.53117984\n",
      "  0.61256221 0.42586754 0.59258036 0.51223847 0.14240473 0.33620159\n",
      "  0.17694109 0.1404024  0.3210483  0.23411031 0.48080952 0.49416111\n",
      "  0.29891925 0.27823875 0.3764832  0.2565582  0.20902708 0.47453147\n",
      "  0.31485936 0.01153452 0.58062575 0.2601043  0.58090514 0.38895169\n",
      "  0.18220025 0.57935213 0.37437978 0.46164756 0.47432087 0.28479709\n",
      "  0.19088026 0.42196307 0.46483709 0.66193615 0.61516464 0.70568933\n",
      "  0.2452103  0.42133515 0.29291158 0.35698203 0.56456075 0.52293612\n",
      "  0.16064614 0.15972599 0.36950873 0.49357088 0.32139559 0.36138656\n",
      "  0.62667564 0.61828036 0.40290137 0.42516561 0.47969098 0.18113025\n",
      "  0.58355679 0.08756081 0.73723353 0.51506334 0.53725128 0.36836624\n",
      "  0.30467001 0.40369501 0.3991734  0.50342985 0.58475252 0.0998008\n",
      "  0.36606598 0.66603125 0.52735638 0.33239729 0.07682035 0.55135897\n",
      "  0.35647435 0.7515772  0.36391642 0.26898166 0.2530056  0.\n",
      "  0.42083614 0.24033697 0.33158457 0.31463863 0.38380771 0.50084564\n",
      "  0.3226768  0.60157553 0.55498406 0.45103225]\n",
      " [0.3093255  0.17682097 0.4788462  0.20622716 0.38543765 0.19783698\n",
      "  0.4104792  0.55661882 0.70036149 0.48447063 0.47887887 0.46293684\n",
      "  0.45581254 0.08383892 0.23504677 0.66400854 0.42041903 0.71330438\n",
      "  0.43685318 0.31402859 0.55377126 0.34349111 0.35872529 0.63543697\n",
      "  0.1223261  0.64030745 0.3944222  0.57919741 0.241215   0.87911511\n",
      "  0.64705342 0.40936709 0.22108743 0.16635498 0.36214891 0.38622742\n",
      "  0.4115987  0.26269593 0.77791937 0.47610226 0.49446881 0.58347532\n",
      "  0.421709   0.41522325 0.50867217 0.47401249 0.25714157 0.43350241\n",
      "  0.56693561 0.60489282 0.27808134 0.62110098 0.52646367 0.37218404\n",
      "  0.41121192 0.26532913 0.78840658 0.72683052 0.14082725 0.66755974\n",
      "  0.46517184 0.59273051 0.74231972 0.2704004  0.42389397 0.2646115\n",
      "  0.42697958 0.36652074 0.8844332  0.15905012 0.12142115 0.75199239\n",
      "  0.49887499 0.66026634 0.75171291 0.40564822 0.18540485 0.43420645\n",
      "  0.13814472 0.29024781 0.62533423 0.17660738 0.4826986  0.19778875\n",
      "  0.75120231 0.35764524 0.74517201 0.48291802 0.21062838 0.42083614\n",
      "  0.         0.48256436 0.56700577 0.73461082 0.76096638 0.51837998\n",
      "  0.68422069 0.53731223 0.44504034 0.41617206]\n",
      " [0.23120283 0.45636852 0.79908847 0.62046412 0.11034689 0.29741074\n",
      "  0.6347877  0.51391128 0.30515135 0.77914426 0.71582844 0.3534824\n",
      "  0.80626889 0.44370924 0.56205925 0.27194067 0.10246598 0.52401401\n",
      "  0.06721698 0.19844819 0.08610622 0.14183076 0.67412018 0.25406749\n",
      "  0.38697082 0.48586673 0.59469918 0.48530571 0.37267699 0.60838158\n",
      "  0.53415321 0.2392879  0.55410861 0.32866526 0.4688121  0.22712747\n",
      "  0.41848894 0.52484355 0.35552206 0.68646643 0.70094504 0.10369963\n",
      "  0.42830928 0.2467337  0.69490943 0.51655979 0.58044755 0.59914889\n",
      "  0.47536753 0.18148278 0.22321669 0.59232635 0.78496802 0.39013125\n",
      "  0.09283029 0.31052618 0.41374058 0.26988173 0.34364046 0.18527139\n",
      "  0.81980281 0.40800118 0.26449565 0.60057544 0.69068862 0.35268419\n",
      "  0.77547076 0.30956911 0.4990205  0.5032047  0.60215058 0.54540663\n",
      "  0.54443784 0.18740626 0.27893162 0.70573312 0.58997044 0.3401357\n",
      "  0.36607943 0.63673857 0.29102117 0.48034083 0.29556804 0.66336025\n",
      "  0.31767925 0.72965479 0.2952469  0.50889524 0.40888211 0.24033697\n",
      "  0.48256436 0.         0.57101854 0.4159789  0.56569314 0.29122748\n",
      "  0.22455805 0.81828689 0.75801983 0.66454736]\n",
      " [0.39811421 0.70538773 1.04565688 0.49021414 0.49081743 0.57167205\n",
      "  0.95593446 0.06531183 0.87401334 0.38472932 0.29124046 0.84163802\n",
      "  0.46777427 0.61694264 0.79421911 0.84219993 0.47386851 0.24755962\n",
      "  0.50852393 0.43658802 0.6486206  0.54912752 0.37357663 0.8250851\n",
      "  0.46713228 0.18791554 0.23499778 0.1192563  0.34197148 0.42729368\n",
      "  0.14317935 0.33439019 0.78039768 0.46995149 0.84965666 0.70204387\n",
      "  0.17763915 0.80425049 0.56768567 0.25176282 0.25189189 0.59926\n",
      "  0.16546188 0.73748409 0.227618   0.94696195 0.81737961 0.95968141\n",
      "  0.12063317 0.75067706 0.58369265 0.05747914 0.34652834 0.81022223\n",
      "  0.49133017 0.35956858 0.50056756 0.81045729 0.54350913 0.66264965\n",
      "  0.48053287 0.94096148 0.67741714 0.38593115 0.3184194  0.33012108\n",
      "  0.44998717 0.28372729 1.0631305  0.71288098 0.6456033  0.28391289\n",
      "  0.07066005 0.72004806 0.66298166 0.36244075 0.75230825 0.23258689\n",
      "  0.59090553 0.85610133 0.85889462 0.39730031 0.28094148 0.58849171\n",
      "  0.57326281 0.92376287 0.60120309 0.08555001 0.35972005 0.33158457\n",
      "  0.56700577 0.57101854 0.         0.40380934 0.2776441  0.82550968\n",
      "  0.59155457 0.38991951 0.39715763 0.29137009]\n",
      " [0.43241942 0.79377448 1.15895185 0.76692884 0.41984949 0.62069728\n",
      "  1.01596718 0.34286421 0.64610355 0.76887928 0.67837358 0.76860761\n",
      "  0.83819066 0.73960111 0.90203484 0.62599    0.37849933 0.19023641\n",
      "  0.39267672 0.44338089 0.44947571 0.5003305  0.71889965 0.621787\n",
      "  0.61233828 0.21891378 0.58511688 0.28581724 0.50869567 0.19379937\n",
      "  0.27532932 0.32617286 0.890668   0.57467122 0.8625048  0.63534607\n",
      "  0.3896242  0.88295269 0.18523731 0.63877152 0.64374212 0.36795222\n",
      "  0.38799436 0.65977045 0.62307583 0.92564954 0.92408728 0.99213686\n",
      "  0.28758487 0.54227181 0.57856893 0.38057718 0.74133367 0.79204979\n",
      "  0.3994243  0.47022048 0.0979066  0.5402951  0.63362879 0.38313657\n",
      "  0.85209654 0.81911653 0.35108182 0.68977307 0.68847509 0.48110565\n",
      "  0.81412311 0.37451194 0.80114246 0.82660607 0.84900577 0.18311342\n",
      "  0.43450342 0.46310589 0.32592352 0.7254197  0.89878643 0.3189357\n",
      "  0.67636656 0.97655092 0.67599282 0.62616126 0.25436508 0.8494177\n",
      "  0.20845627 1.06389868 0.2489087  0.40855919 0.5508601  0.31463863\n",
      "  0.73461082 0.4159789  0.40380934 0.         0.20563821 0.70488918\n",
      "  0.28006285 0.78417728 0.77047853 0.65836183]\n",
      " [0.49839797 0.86031727 1.22263592 0.73673927 0.53368008 0.69706726\n",
      "  1.10141662 0.23833791 0.8306001  0.6622299  0.56874135 0.90301308\n",
      "  0.74502623 0.78797525 0.96296226 0.80659907 0.49867026 0.04843871\n",
      "  0.5236723  0.52393747 0.61825117 0.61174909 0.6444656  0.7982971\n",
      "  0.64303477 0.12113925 0.5040301  0.19265827 0.51983373 0.1498501\n",
      "  0.13652545 0.39364242 0.9501297  0.62203389 0.96470762 0.76234245\n",
      "  0.3563207  0.95678057 0.3903347  0.52937157 0.52892176 0.54372946\n",
      "  0.34858767 0.79223041 0.50384415 1.0436535  0.98611944 1.08913832\n",
      "  0.20291229 0.71806785 0.6764598  0.23243234 0.62171043 0.90514953\n",
      "  0.52046853 0.50420464 0.29473199 0.73399091 0.69189329 0.57520621\n",
      "  0.75792046 0.97304157 0.55335015 0.64123571 0.59483959 0.49667892\n",
      "  0.72632956 0.40134681 0.99649242 0.88248766 0.86127492 0.02282739\n",
      "  0.33445455 0.65135093 0.52954192 0.63789448 0.94114033 0.33027661\n",
      "  0.739185   1.03338193 0.84734496 0.61589473 0.30701546 0.8304783\n",
      "  0.41383411 1.11306902 0.45349793 0.32346362 0.55413393 0.38380771\n",
      "  0.76096638 0.56569314 0.2776441  0.20563821 0.         0.85536833\n",
      "  0.47705708 0.66496102 0.67446961 0.56688748]\n",
      " [0.4325969  0.39264018 0.63403127 0.71277423 0.33710876 0.33518809\n",
      "  0.45078742 0.77602092 0.22374669 0.94523344 0.90333536 0.10366369\n",
      "  0.94541166 0.44330969 0.46372709 0.19693159 0.36296657 0.81246049\n",
      "  0.33360509 0.39239699 0.26361594 0.27798754 0.8238481  0.17101994\n",
      "  0.48472255 0.76885728 0.78641389 0.75714195 0.54354439 0.89823004\n",
      "  0.81257174 0.49549627 0.46294318 0.43555308 0.28565471 0.14027199\n",
      "  0.65462463 0.40526357 0.61585512 0.88251665 0.89954816 0.34757337\n",
      "  0.66621671 0.10568404 0.90075932 0.27498646 0.47226112 0.39423485\n",
      "  0.74596735 0.20700815 0.27270495 0.85648327 0.96755156 0.20488449\n",
      "  0.34233108 0.49369922 0.69127479 0.31725306 0.39613936 0.38041873\n",
      "  0.95714089 0.11818782 0.46507802 0.73649916 0.86383058 0.53622868\n",
      "  0.91438938 0.54319366 0.37638024 0.44543156 0.61063628 0.83552188\n",
      "  0.78474775 0.31259266 0.49161257 0.86496746 0.52966383 0.59499365\n",
      "  0.38119389 0.52346899 0.12700591 0.60779794 0.56956595 0.71556181\n",
      "  0.57454611 0.61010364 0.54062721 0.75148345 0.56229575 0.50084564\n",
      "  0.51837998 0.29122748 0.82550968 0.70488918 0.85536833 0.\n",
      "  0.47106209 0.9925901  0.91427053 0.84350019]\n",
      " [0.38908269 0.67864198 1.02352075 0.78955844 0.29991244 0.5134753\n",
      "  0.85737968 0.52654636 0.37090651 0.88843917 0.80996294 0.55453804\n",
      "  0.93516086 0.65706724 0.78544032 0.35490193 0.26384552 0.44905067\n",
      "  0.24988806 0.37295614 0.20889402 0.36003857 0.80348508 0.35555865\n",
      "  0.57458139 0.44373004 0.69504174 0.47918793 0.52056226 0.46542463\n",
      "  0.50237902 0.3298212  0.77706164 0.52018312 0.6893124  0.4445272\n",
      "  0.49102527 0.74933961 0.1452399  0.77433687 0.78504212 0.12881484\n",
      "  0.49651173 0.45741904 0.77169072 0.72623727 0.80425997 0.81868093\n",
      "  0.47395322 0.28026003 0.44449523 0.59126006 0.87915087 0.6079567\n",
      "  0.27378117 0.46146153 0.23222825 0.26033797 0.55182436 0.10552821\n",
      "  0.94928684 0.57521655 0.08591365 0.74546416 0.79988472 0.49443142\n",
      "  0.9062275  0.41023658 0.52123526 0.72374318 0.80561572 0.45428371\n",
      "  0.59178139 0.18755708 0.07659292 0.82546994 0.80883316 0.40002346\n",
      "  0.58102879 0.86043709 0.41448417 0.6420175  0.32625757 0.84856001\n",
      "  0.10367134 0.95317702 0.07187367 0.55735549 0.56327533 0.3226768\n",
      "  0.68422069 0.22455805 0.59155457 0.28006285 0.47705708 0.47106209\n",
      "  0.         0.91810763 0.87669378 0.77061743]\n",
      " [0.58997349 0.71400429 0.95800966 0.34510522 0.71169232 0.66505266\n",
      "  0.9377885  0.44374283 1.11363831 0.05328634 0.10855244 0.96731961\n",
      "  0.13065933 0.61849678 0.75853295 1.07750384 0.71715324 0.63739011\n",
      "  0.75136581 0.62761276 0.9043451  0.73210343 0.17875872 1.05360323\n",
      "  0.51451268 0.57580561 0.22538806 0.50067365 0.45522679 0.81471071\n",
      "  0.53290641 0.59705095 0.74541528 0.55797758 0.89746373 0.85262054\n",
      "  0.42724497 0.79698924 0.92986902 0.14653979 0.14044245 0.88368276\n",
      "  0.42244154 0.8883839  0.16252513 1.0088378  0.77749266 0.96842465\n",
      "  0.49734801 0.9938909  0.71989146 0.43274884 0.04339145 0.89474634\n",
      "  0.72559065 0.51355412 0.8775599  1.08633403 0.6093981  0.96271908\n",
      "  0.13548359 1.09081222 1.00151252 0.26857319 0.1295216  0.46962948\n",
      "  0.13974641 0.51686198 1.3100307  0.69231349 0.53953275 0.67299427\n",
      "  0.34967398 0.99883346 0.99433349 0.13238143 0.68392742 0.5181995\n",
      "  0.64158353 0.79281807 1.06790006 0.39001097 0.59343953 0.4216668\n",
      "  0.92658914 0.82562827 0.94613485 0.37705503 0.43087196 0.60157553\n",
      "  0.53731223 0.81828689 0.38991951 0.78417728 0.66496102 0.9925901\n",
      "  0.91810763 0.         0.09565738 0.1538283 ]\n",
      " [0.52708068 0.62185769 0.86267429 0.24975782 0.64910485 0.58268592\n",
      "  0.84283807 0.44114455 1.04655844 0.04322092 0.11217197 0.88360973\n",
      "  0.0706313  0.52718369 0.6636334  1.00999344 0.65909389 0.6413999\n",
      "  0.69205069 0.56260753 0.84399036 0.66162981 0.09066226 0.98505749\n",
      "  0.43147762 0.57377483 0.18679062 0.49583038 0.38736514 0.82368566\n",
      "  0.5385893  0.5489773  0.65060319 0.47874682 0.80647938 0.77399939\n",
      "  0.39280991 0.70311654 0.90263098 0.14796703 0.15383271 0.83066754\n",
      "  0.39056907 0.80919104 0.18133441 0.9181444  0.68238051 0.87446598\n",
      "  0.49021759 0.92920529 0.64208798 0.44756602 0.10305543 0.80717339\n",
      "  0.66529074 0.44838917 0.85987286 1.02774116 0.52511317 0.91237708\n",
      "  0.08348425 1.00892651 0.95786839 0.18034843 0.08203298 0.40546674\n",
      "  0.05849212 0.46786171 1.2425061  0.59852252 0.44389083 0.67940308\n",
      "  0.34334407 0.94223713 0.95328552 0.0523218  0.58843686 0.48143784\n",
      "  0.55459007 0.69721261 0.99551306 0.30700438 0.55835904 0.32658401\n",
      "  0.89523187 0.73028987 0.91094025 0.36368247 0.35752081 0.55498406\n",
      "  0.44504034 0.75801983 0.39715763 0.77047853 0.67446961 0.91427053\n",
      "  0.87669378 0.09565738 0.         0.11212105]\n",
      " [0.43619478 0.58928019 0.86946936 0.25422364 0.55786851 0.5210786\n",
      "  0.82576425 0.33123196 0.96003095 0.11784695 0.06335377 0.82339771\n",
      "  0.18068276 0.49232456 0.6478639  0.92396653 0.56359078 0.53217891\n",
      "  0.59768196 0.47400137 0.75062366 0.57956108 0.09101993 0.90024926\n",
      "  0.37310339 0.463274   0.0760478  0.38504957 0.30273206 0.71535536\n",
      "  0.43047723 0.44589957 0.63415678 0.41162942 0.76736818 0.7041068\n",
      "  0.28284197 0.67884803 0.79190184 0.06619973 0.08280089 0.73131304\n",
      "  0.27988821 0.74021392 0.10464384 0.8773026  0.66866348 0.84929678\n",
      "  0.37902463 0.84009971 0.57124391 0.34453744 0.12414179 0.75691261\n",
      "  0.57181925 0.36014095 0.7478597  0.93287183 0.46845038 0.81126813\n",
      "  0.19432904 0.94454264 0.85295156 0.15145112 0.03025925 0.31614861\n",
      "  0.15964117 0.36514409 1.1564327  0.57503929 0.44568702 0.57075131\n",
      "  0.23342551 0.84567994 0.84712336 0.07109777 0.58184703 0.37262555\n",
      "  0.5046826  0.69214399 0.91557795 0.25167389 0.44920275 0.34888312\n",
      "  0.78549382 0.73842819 0.80240785 0.25207659 0.28131697 0.45103225\n",
      "  0.41617206 0.66454736 0.29137009 0.65836183 0.56688748 0.84350019\n",
      "  0.77061743 0.1538283  0.11212105 0.        ]]\n"
     ]
    }
   ],
   "source": [
    "Z = np.random.random((100,2))\n",
    "X,Y = np.atleast_2d(Z[:,0], Z[:,1])\n",
    "D = np.sqrt( (X-X.T)**2 + (Y-Y.T)**2)\n",
    "print(D)"
   ]
  },
  {
   "cell_type": "markdown",
   "metadata": {
    "id": "ph-P9bGZ27Df"
   },
   "source": [
    "#### 53. How to convert a float (32 bits) array into an integer (32 bits) in place? \n",
    "(**hint**: astype(copy=False))"
   ]
  },
  {
   "cell_type": "code",
   "execution_count": 148,
   "metadata": {
    "id": "HgGoUSeV27Df"
   },
   "outputs": [
    {
     "name": "stdout",
     "output_type": "stream",
     "text": [
      "[0. 1. 2. 3. 4. 5. 6. 7. 8. 9.]\n"
     ]
    }
   ],
   "source": [
    "Z = np.arange(10, dtype=np.int32)\n",
    "Z = Z.astype(np.float32, copy=False)\n",
    "print(Z)"
   ]
  },
  {
   "cell_type": "markdown",
   "metadata": {
    "id": "-i0zvmWS27Df"
   },
   "source": [
    "#### 54. How to read the following file? (★★☆) \n",
    "(**hint**: np.genfromtxt)"
   ]
  },
  {
   "cell_type": "markdown",
   "metadata": {
    "id": "QIScdH6u27Df"
   },
   "source": [
    "```\n",
    "1, 2, 3, 4, 5\n",
    "6,  ,  , 7, 8\n",
    " ,  , 9,10,11\n",
    "```"
   ]
  },
  {
   "cell_type": "code",
   "execution_count": 149,
   "metadata": {
    "id": "ryUEt-Lo27Df"
   },
   "outputs": [
    {
     "name": "stdout",
     "output_type": "stream",
     "text": [
      "[[ 1  2  3  4  5]\n",
      " [ 6 -1 -1  7  8]\n",
      " [-1 -1  9 10 11]]\n"
     ]
    }
   ],
   "source": [
    "from io import StringIO\n",
    "s = StringIO(\"\"\"1, 2, 3, 4, 5\\n\n",
    "                6,  ,  , 7, 8\\n\n",
    "                 ,  , 9,10,11\\n\"\"\")\n",
    "\n",
    "Z = np.genfromtxt(s, delimiter=\",\", dtype=np.int)\n",
    "print(Z)"
   ]
  },
  {
   "cell_type": "markdown",
   "metadata": {
    "id": "x6p-1BxC27Df"
   },
   "source": [
    "#### 55. What is the equivalent of enumerate for numpy arrays? (★★☆) \n",
    "(**hint**: np.ndenumerate, np.ndindex)"
   ]
  },
  {
   "cell_type": "code",
   "execution_count": 150,
   "metadata": {
    "id": "yE7M3PBY27Dg"
   },
   "outputs": [
    {
     "name": "stdout",
     "output_type": "stream",
     "text": [
      "(0, 0) 0\n",
      "(0, 1) 1\n",
      "(0, 2) 2\n",
      "(1, 0) 3\n",
      "(1, 1) 4\n",
      "(1, 2) 5\n",
      "(2, 0) 6\n",
      "(2, 1) 7\n",
      "(2, 2) 8\n",
      "(0, 0) 0\n",
      "(0, 1) 1\n",
      "(0, 2) 2\n",
      "(1, 0) 3\n",
      "(1, 1) 4\n",
      "(1, 2) 5\n",
      "(2, 0) 6\n",
      "(2, 1) 7\n",
      "(2, 2) 8\n"
     ]
    }
   ],
   "source": [
    "Z = np.arange(9).reshape(3,3)\n",
    "for index, value in np.ndenumerate(Z):\n",
    "    print(index, value)\n",
    "for index in np.ndindex(Z.shape):\n",
    "    print(index, Z[index])"
   ]
  },
  {
   "cell_type": "markdown",
   "metadata": {
    "id": "N8cylEwK27Dg"
   },
   "source": [
    "#### 56. Generate a generic 2D Gaussian-like array (★★☆) \n",
    "(**hint**: np.meshgrid, np.exp)"
   ]
  },
  {
   "cell_type": "code",
   "execution_count": 152,
   "metadata": {
    "id": "JmIcBDva27Dg"
   },
   "outputs": [
    {
     "name": "stdout",
     "output_type": "stream",
     "text": [
      "[[0.36787944 0.44822088 0.51979489 0.57375342 0.60279818 0.60279818\n",
      "  0.57375342 0.51979489 0.44822088 0.36787944]\n",
      " [0.44822088 0.54610814 0.63331324 0.69905581 0.73444367 0.73444367\n",
      "  0.69905581 0.63331324 0.54610814 0.44822088]\n",
      " [0.51979489 0.63331324 0.73444367 0.81068432 0.85172308 0.85172308\n",
      "  0.81068432 0.73444367 0.63331324 0.51979489]\n",
      " [0.57375342 0.69905581 0.81068432 0.89483932 0.9401382  0.9401382\n",
      "  0.89483932 0.81068432 0.69905581 0.57375342]\n",
      " [0.60279818 0.73444367 0.85172308 0.9401382  0.98773022 0.98773022\n",
      "  0.9401382  0.85172308 0.73444367 0.60279818]\n",
      " [0.60279818 0.73444367 0.85172308 0.9401382  0.98773022 0.98773022\n",
      "  0.9401382  0.85172308 0.73444367 0.60279818]\n",
      " [0.57375342 0.69905581 0.81068432 0.89483932 0.9401382  0.9401382\n",
      "  0.89483932 0.81068432 0.69905581 0.57375342]\n",
      " [0.51979489 0.63331324 0.73444367 0.81068432 0.85172308 0.85172308\n",
      "  0.81068432 0.73444367 0.63331324 0.51979489]\n",
      " [0.44822088 0.54610814 0.63331324 0.69905581 0.73444367 0.73444367\n",
      "  0.69905581 0.63331324 0.54610814 0.44822088]\n",
      " [0.36787944 0.44822088 0.51979489 0.57375342 0.60279818 0.60279818\n",
      "  0.57375342 0.51979489 0.44822088 0.36787944]]\n"
     ]
    }
   ],
   "source": [
    "X, Y = np.meshgrid(np.linspace(-1,1,10), np.linspace(-1,1,10))\n",
    "D = np.sqrt(X*X+Y*Y)\n",
    "sigma, mu = 1.0, 0.0\n",
    "G = np.exp(-( (D-mu)**2 / ( 2.0 * sigma**2 ) ) )\n",
    "print(G)"
   ]
  },
  {
   "cell_type": "markdown",
   "metadata": {
    "id": "jBhZxxu927Dg"
   },
   "source": [
    "#### 57. How to randomly place p elements in a 2D array? (★★☆) \n",
    "(**hint**: np.put, np.random.choice)"
   ]
  },
  {
   "cell_type": "code",
   "execution_count": 153,
   "metadata": {
    "id": "8CGajabC27Dg"
   },
   "outputs": [
    {
     "name": "stdout",
     "output_type": "stream",
     "text": [
      "[[0. 0. 0. 0. 0. 0. 0. 0. 0. 0.]\n",
      " [0. 0. 0. 0. 0. 0. 0. 0. 0. 0.]\n",
      " [0. 1. 0. 0. 0. 0. 0. 0. 0. 0.]\n",
      " [0. 0. 0. 0. 0. 0. 0. 0. 0. 0.]\n",
      " [0. 0. 0. 0. 0. 0. 0. 0. 0. 0.]\n",
      " [1. 0. 0. 0. 0. 0. 0. 0. 0. 0.]\n",
      " [0. 0. 0. 0. 0. 0. 0. 0. 0. 1.]\n",
      " [0. 0. 0. 0. 0. 0. 0. 0. 0. 0.]\n",
      " [0. 0. 0. 0. 0. 0. 0. 0. 0. 0.]\n",
      " [0. 0. 0. 0. 0. 0. 0. 0. 0. 0.]]\n"
     ]
    }
   ],
   "source": [
    "n = 10\n",
    "p = 3\n",
    "Z = np.zeros((n,n))\n",
    "np.put(Z, np.random.choice(range(n*n), p, replace=False),1)\n",
    "print(Z)"
   ]
  },
  {
   "cell_type": "markdown",
   "metadata": {
    "id": "P3TpdQgY27Dg"
   },
   "source": [
    "#### 58. Subtract the mean of each row of a matrix (★★☆) \n",
    "(**hint**: mean(axis=,keepdims=))"
   ]
  },
  {
   "cell_type": "code",
   "execution_count": 154,
   "metadata": {
    "id": "s_L_Ipq427Dg"
   },
   "outputs": [
    {
     "name": "stdout",
     "output_type": "stream",
     "text": [
      "[[-0.34272317 -0.0522489   0.20311262  0.2951214   0.33553503 -0.59356223\n",
      "   0.30630877 -0.63831755  0.19158449  0.29518955]\n",
      " [ 0.0260088   0.27844005 -0.30441177 -0.30192451 -0.34185019 -0.02774101\n",
      "   0.4482383   0.35301311 -0.14588673  0.01611394]\n",
      " [ 0.3395169   0.1980365  -0.47855696 -0.03896561 -0.21148143  0.2870781\n",
      "  -0.1427387   0.30562402 -0.30421381  0.045701  ]\n",
      " [-0.29701537 -0.28230911  0.3641713   0.47839066  0.07630086 -0.37713127\n",
      "  -0.11245509  0.05658239 -0.2791394   0.37260503]\n",
      " [-0.31399275 -0.09967765 -0.20098076  0.26297109  0.29088664 -0.38094305\n",
      "   0.24046485  0.41585001 -0.1601899  -0.05438849]]\n"
     ]
    }
   ],
   "source": [
    "X = np.random.rand(5, 10)\n",
    "Y = X - X.mean(axis=1, keepdims=True)\n",
    "print()"
   ]
  },
  {
   "cell_type": "markdown",
   "metadata": {
    "id": "mO_Nojoh27Dg"
   },
   "source": [
    "#### 59. How to sort an array by the nth column? (★★☆) \n",
    "(**hint**: argsort)"
   ]
  },
  {
   "cell_type": "code",
   "execution_count": 155,
   "metadata": {
    "id": "zj3VA-DY27Dg"
   },
   "outputs": [
    {
     "name": "stdout",
     "output_type": "stream",
     "text": [
      "[[1 5 1]\n",
      " [6 4 7]\n",
      " [3 1 7]]\n",
      "[[3 1 7]\n",
      " [6 4 7]\n",
      " [1 5 1]]\n"
     ]
    }
   ],
   "source": [
    "Z = np.random.randint(0,10,(3,3))\n",
    "print(Z)\n",
    "print(Z[Z[:,1].argsort()])"
   ]
  },
  {
   "cell_type": "markdown",
   "metadata": {
    "id": "IwP6IO5627Dg"
   },
   "source": [
    "#### 60. How to tell if a given 2D array has null columns? (★★☆) \n",
    "(**hint**: any, ~)"
   ]
  },
  {
   "cell_type": "code",
   "execution_count": 156,
   "metadata": {
    "id": "slR2eCo327Dg"
   },
   "outputs": [
    {
     "name": "stdout",
     "output_type": "stream",
     "text": [
      "False\n"
     ]
    }
   ],
   "source": [
    "Z = np.random.randint(0,3,(3,10))\n",
    "print((~Z.any(axis=0)).any())"
   ]
  },
  {
   "cell_type": "markdown",
   "metadata": {
    "id": "-2KO5o2Y27Dg"
   },
   "source": [
    "#### 61. Find the nearest value from a given value in an array (★★☆) \n",
    "(**hint**: np.abs, argmin, flat)"
   ]
  },
  {
   "cell_type": "code",
   "execution_count": 157,
   "metadata": {
    "id": "IMiYLq4o27Dh"
   },
   "outputs": [
    {
     "name": "stdout",
     "output_type": "stream",
     "text": [
      "0.48750704215590046\n"
     ]
    }
   ],
   "source": [
    "Z = np.random.uniform(0,1,10)\n",
    "z = 0.5\n",
    "m = Z.flat[np.abs(Z - z).argmin()]\n",
    "print(m)"
   ]
  },
  {
   "cell_type": "markdown",
   "metadata": {
    "id": "5RU-nrlb27Dh"
   },
   "source": [
    "#### 62. Considering two arrays with shape (1,3) and (3,1), how to compute their sum using an iterator? (★★☆) \n",
    "(**hint**: np.nditer)"
   ]
  },
  {
   "cell_type": "code",
   "execution_count": 158,
   "metadata": {
    "id": "ZdNkgKyY27Dh"
   },
   "outputs": [
    {
     "name": "stdout",
     "output_type": "stream",
     "text": [
      "[[0 1 2]\n",
      " [1 2 3]\n",
      " [2 3 4]]\n"
     ]
    }
   ],
   "source": [
    "A = np.arange(3).reshape(3,1)\n",
    "B = np.arange(3).reshape(1,3)\n",
    "it = np.nditer([A,B,None])\n",
    "for x,y,z in it: z[...] = x + y\n",
    "print(it.operands[2])"
   ]
  },
  {
   "cell_type": "markdown",
   "metadata": {
    "id": "NyVsHMyY27Dh"
   },
   "source": [
    "#### 63. Create an array class that has a name attribute (★★☆) \n",
    "(**hint**: class method)"
   ]
  },
  {
   "cell_type": "code",
   "execution_count": 159,
   "metadata": {
    "id": "fti95xrz27Dh"
   },
   "outputs": [
    {
     "name": "stdout",
     "output_type": "stream",
     "text": [
      "range_10\n"
     ]
    }
   ],
   "source": [
    "class NamedArray(np.ndarray):\n",
    "    def __new__(cls, array, name=\"no name\"):\n",
    "        obj = np.asarray(array).view(cls)\n",
    "        obj.name = name\n",
    "        return obj\n",
    "    def __array_finalize__(self, obj):\n",
    "        if obj is None: return\n",
    "        self.info = getattr(obj, 'name', \"no name\")\n",
    "\n",
    "Z = NamedArray(np.arange(10), \"range_10\")\n",
    "print (Z.name)"
   ]
  },
  {
   "cell_type": "markdown",
   "metadata": {
    "id": "MV3N54Et27Dh"
   },
   "source": [
    "#### 64. Consider a given vector, how to add 1 to each element indexed by a second vector (be careful with repeated indices)? (★★★) \n",
    "(**hint**: np.bincount | np.add.at)"
   ]
  },
  {
   "cell_type": "code",
   "execution_count": 160,
   "metadata": {
    "id": "2t0hzf9n27Dh"
   },
   "outputs": [
    {
     "name": "stdout",
     "output_type": "stream",
     "text": [
      "[1. 3. 3. 2. 3. 5. 1. 2. 4. 6.]\n"
     ]
    }
   ],
   "source": [
    "Z = np.ones(10)\n",
    "I = np.random.randint(0,len(Z),20)\n",
    "Z += np.bincount(I, minlength=len(Z))\n",
    "print(Z)"
   ]
  },
  {
   "cell_type": "markdown",
   "metadata": {
    "id": "gtN-a2b_27Dh"
   },
   "source": [
    "#### 65. How to accumulate elements of a vector (X) to an array (F) based on an index list (I)? (★★★) \n",
    "(**hint**: np.bincount)"
   ]
  },
  {
   "cell_type": "code",
   "execution_count": 161,
   "metadata": {
    "id": "qKf4rQdx27Dh"
   },
   "outputs": [
    {
     "name": "stdout",
     "output_type": "stream",
     "text": [
      "[0. 7. 0. 6. 5. 0. 0. 0. 0. 3.]\n"
     ]
    }
   ],
   "source": [
    "X = [1,2,3,4,5,6]\n",
    "I = [1,3,9,3,4,1]\n",
    "F = np.bincount(I,X)\n",
    "print(F)"
   ]
  },
  {
   "cell_type": "markdown",
   "metadata": {
    "id": "UlZLR-Zd27Di"
   },
   "source": [
    "#### 66. Considering a (w,h,3) image of (dtype=ubyte), compute the number of unique colors (★★★) \n",
    "(**hint**: np.unique)"
   ]
  },
  {
   "cell_type": "code",
   "execution_count": 162,
   "metadata": {
    "id": "PTJu1_Ze27Di"
   },
   "outputs": [
    {
     "name": "stdout",
     "output_type": "stream",
     "text": [
      "[0 1]\n"
     ]
    }
   ],
   "source": [
    "w,h = 16,16\n",
    "I = np.random.randint(0,2,(h,w,3)).astype(np.ubyte)\n",
    "F = I[...,0]*256*256 + I[...,1]*256 +I[...,2]\n",
    "n = len(np.unique(F))\n",
    "print(np.unique(I))"
   ]
  },
  {
   "cell_type": "markdown",
   "metadata": {
    "id": "2LXgYQwj27Di"
   },
   "source": [
    "#### 67. Considering a four dimensions array, how to get sum over the last two axis at once? (★★★) \n",
    "(**hint**: sum(axis=(-2,-1)))"
   ]
  },
  {
   "cell_type": "code",
   "execution_count": 164,
   "metadata": {
    "id": "ET25rrIT27Di"
   },
   "outputs": [
    {
     "name": "stdout",
     "output_type": "stream",
     "text": [
      "[[31 67 55 49]\n",
      " [47 48 48 65]\n",
      " [51 59 57 46]]\n"
     ]
    }
   ],
   "source": [
    "A = np.random.randint(0,10,(3,4,3,4))\n",
    "s = A.sum(axis=(-2,-1))\n",
    "print(s)"
   ]
  },
  {
   "cell_type": "markdown",
   "metadata": {
    "id": "-0kmVR7E27Di"
   },
   "source": [
    "#### 68. Considering a one-dimensional vector D, how to compute means of subsets of D using a vector S of same size describing subset  indices? (★★★) \n",
    "(**hint**: np.bincount)"
   ]
  },
  {
   "cell_type": "code",
   "execution_count": 165,
   "metadata": {
    "id": "lXiecqOR27Di"
   },
   "outputs": [
    {
     "name": "stdout",
     "output_type": "stream",
     "text": [
      "[0.53339772 0.62328953 0.37704585 0.49347992 0.71383356 0.61059412\n",
      " 0.48354453 0.35198605 0.31297283 0.60520516]\n"
     ]
    }
   ],
   "source": [
    "D = np.random.uniform(0,1,100)\n",
    "S = np.random.randint(0,10,100)\n",
    "D_sums = np.bincount(S, weights=D)\n",
    "D_counts = np.bincount(S)\n",
    "D_means = D_sums / D_counts\n",
    "print(D_means)"
   ]
  },
  {
   "cell_type": "markdown",
   "metadata": {
    "id": "EQ-j01Ch27Di"
   },
   "source": [
    "#### 69. How to get the diagonal of a dot product? (★★★) \n",
    "(**hint**: np.diag)"
   ]
  },
  {
   "cell_type": "code",
   "execution_count": 166,
   "metadata": {
    "id": "5pYWzHvW27Di"
   },
   "outputs": [
    {
     "data": {
      "text/plain": [
       "array([1.97280584, 0.74952061, 0.94776196, 1.10625772, 0.73119576])"
      ]
     },
     "execution_count": 166,
     "metadata": {},
     "output_type": "execute_result"
    }
   ],
   "source": [
    "A = np.random.uniform(0,1,(5,5))\n",
    "B = np.random.uniform(0,1,(5,5))\n",
    "np.diag(np.dot(A, B))"
   ]
  },
  {
   "cell_type": "markdown",
   "metadata": {
    "id": "KI1WjW9u27Di"
   },
   "source": [
    "#### 70. Consider the vector \\[1, 2, 3, 4, 5\\], how to build a new vector with 3 consecutive zeros interleaved between each value? (★★★) \n",
    "(**hint**: array\\[::4\\])"
   ]
  },
  {
   "cell_type": "code",
   "execution_count": 167,
   "metadata": {
    "id": "slZMHl2S27Di"
   },
   "outputs": [
    {
     "name": "stdout",
     "output_type": "stream",
     "text": [
      "[1. 0. 0. 0. 2. 0. 0. 0. 3. 0. 0. 0. 4. 0. 0. 0. 5.]\n"
     ]
    }
   ],
   "source": [
    "Z = np.array([1,2,3,4,5])\n",
    "nz = 3\n",
    "Z0 = np.zeros(len(Z) + (len(Z)-1)*(nz))\n",
    "Z0[::nz+1] = Z\n",
    "print(Z0)"
   ]
  },
  {
   "cell_type": "markdown",
   "metadata": {
    "id": "66LAEUJS27Di"
   },
   "source": [
    "#### 71. Consider an array of dimension (5,5,3), how to mulitply it by an array with dimensions (5,5)? (★★★) \n",
    "(**hint**: array\\[:, :, None\\])"
   ]
  },
  {
   "cell_type": "code",
   "execution_count": 168,
   "metadata": {
    "id": "yO-uEDMv27Dj"
   },
   "outputs": [
    {
     "name": "stdout",
     "output_type": "stream",
     "text": [
      "[[[2. 2. 2.]\n",
      "  [2. 2. 2.]\n",
      "  [2. 2. 2.]\n",
      "  [2. 2. 2.]\n",
      "  [2. 2. 2.]]\n",
      "\n",
      " [[2. 2. 2.]\n",
      "  [2. 2. 2.]\n",
      "  [2. 2. 2.]\n",
      "  [2. 2. 2.]\n",
      "  [2. 2. 2.]]\n",
      "\n",
      " [[2. 2. 2.]\n",
      "  [2. 2. 2.]\n",
      "  [2. 2. 2.]\n",
      "  [2. 2. 2.]\n",
      "  [2. 2. 2.]]\n",
      "\n",
      " [[2. 2. 2.]\n",
      "  [2. 2. 2.]\n",
      "  [2. 2. 2.]\n",
      "  [2. 2. 2.]\n",
      "  [2. 2. 2.]]\n",
      "\n",
      " [[2. 2. 2.]\n",
      "  [2. 2. 2.]\n",
      "  [2. 2. 2.]\n",
      "  [2. 2. 2.]\n",
      "  [2. 2. 2.]]]\n"
     ]
    }
   ],
   "source": [
    "A = np.ones((5,5,3))\n",
    "B = 2*np.ones((5,5))\n",
    "print(A * B[:,:,None])"
   ]
  },
  {
   "cell_type": "markdown",
   "metadata": {
    "id": "ic5m4ohq27Dj"
   },
   "source": [
    "#### 72. How to swap two rows of an array? (★★★) \n",
    "(**hint**: array\\[\\[\\]\\] = array\\[\\[\\]\\])"
   ]
  },
  {
   "cell_type": "code",
   "execution_count": 169,
   "metadata": {
    "id": "ibbel_qz27Dj"
   },
   "outputs": [
    {
     "name": "stdout",
     "output_type": "stream",
     "text": [
      "[[ 5  6  7  8  9]\n",
      " [ 0  1  2  3  4]\n",
      " [10 11 12 13 14]\n",
      " [15 16 17 18 19]\n",
      " [20 21 22 23 24]]\n"
     ]
    }
   ],
   "source": [
    "A = np.arange(25).reshape(5,5)\n",
    "A[[0,1]] = A[[1,0]]\n",
    "print(A)"
   ]
  },
  {
   "cell_type": "markdown",
   "metadata": {
    "id": "GYCc3M2b27Dj"
   },
   "source": [
    "#### 73. Consider a set of 10 triplets describing 10 triangles (with shared vertices), find the set of unique line segments composing all the  triangles (★★★) \n",
    "(**hint**: repeat, np.roll, np.sort, view, np.unique)"
   ]
  },
  {
   "cell_type": "code",
   "execution_count": 170,
   "metadata": {
    "id": "FRyxc2fI27Dj"
   },
   "outputs": [
    {
     "name": "stdout",
     "output_type": "stream",
     "text": [
      "[( 1, 38) ( 1, 39) ( 1, 52) ( 1, 74) ( 3, 56) ( 3, 78) ( 5, 24) ( 5, 50)\n",
      " (13, 78) (13, 82) (21, 29) (21, 34) (21, 93) (21, 94) (24, 50) (25, 57)\n",
      " (25, 81) (29, 93) (34, 54) (34, 94) (36, 46) (36, 54) (38, 52) (39, 74)\n",
      " (46, 54) (54, 94) (56, 78) (57, 81) (78, 82)]\n"
     ]
    }
   ],
   "source": [
    "faces = np.random.randint(0,100,(10,3))\n",
    "F = np.roll(faces.repeat(2,axis=1),-1,axis=1)\n",
    "F = F.reshape(len(F)*3,2)\n",
    "F = np.sort(F,axis=1)\n",
    "G = F.view( dtype=[('p0',F.dtype),('p1',F.dtype)] )\n",
    "G = np.unique(G)\n",
    "print(G)"
   ]
  },
  {
   "cell_type": "markdown",
   "metadata": {
    "id": "C20gqS7t27Dj"
   },
   "source": [
    "#### 74. Given an array C that is a bincount, how to produce an array A such that np.bincount(A) == C? (★★★) \n",
    "(**hint**: np.repeat)"
   ]
  },
  {
   "cell_type": "code",
   "execution_count": 171,
   "metadata": {
    "id": "uKOrrXKj27Dj"
   },
   "outputs": [
    {
     "name": "stdout",
     "output_type": "stream",
     "text": [
      "[1 1 2 3 4 4 6]\n"
     ]
    }
   ],
   "source": [
    "C = np.bincount([1,1,2,3,4,4,6])\n",
    "A = np.repeat(np.arange(len(C)), C)\n",
    "print(A)"
   ]
  },
  {
   "cell_type": "markdown",
   "metadata": {
    "id": "0YxPeaNd27Dj"
   },
   "source": [
    "#### 75. How to compute averages using a sliding window over an array? (★★★) \n",
    "(**hint**: np.cumsum)"
   ]
  },
  {
   "cell_type": "code",
   "execution_count": 172,
   "metadata": {
    "id": "zxAyykDL27Dj"
   },
   "outputs": [
    {
     "name": "stdout",
     "output_type": "stream",
     "text": [
      "[ 1.  2.  3.  4.  5.  6.  7.  8.  9. 10. 11. 12. 13. 14. 15. 16. 17. 18.]\n"
     ]
    }
   ],
   "source": [
    "def moving_average(a, n=3) :\n",
    "    ret = np.cumsum(a, dtype=float)\n",
    "    ret[n:] = ret[n:] - ret[:-n]\n",
    "    return ret[n - 1:] / n\n",
    "Z = np.arange(20)\n",
    "print(moving_average(Z, n=3))"
   ]
  },
  {
   "cell_type": "markdown",
   "metadata": {
    "id": "aBxmsGN427Dk"
   },
   "source": [
    "#### 76. Consider a one-dimensional array Z, build a two-dimensional array whose first row is (Z\\[0\\],Z\\[1\\],Z\\[2\\]) and each subsequent row is  shifted by 1 (last row should be (Z\\[-3\\],Z\\[-2\\],Z\\[-1\\]) (★★★) \n",
    "(**hint**: from numpy.lib import stride_tricks)"
   ]
  },
  {
   "cell_type": "code",
   "execution_count": 173,
   "metadata": {
    "id": "suBEmMCO27Dk"
   },
   "outputs": [
    {
     "name": "stdout",
     "output_type": "stream",
     "text": [
      "[[0 1 2]\n",
      " [1 2 3]\n",
      " [2 3 4]\n",
      " [3 4 5]\n",
      " [4 5 6]\n",
      " [5 6 7]\n",
      " [6 7 8]\n",
      " [7 8 9]]\n"
     ]
    }
   ],
   "source": [
    "from numpy.lib import stride_tricks\n",
    "\n",
    "def rolling(a, window):\n",
    "    shape = (a.size - window + 1, window)\n",
    "    strides = (a.itemsize, a.itemsize)\n",
    "    return stride_tricks.as_strided(a, shape=shape, strides=strides)\n",
    "Z = rolling(np.arange(10), 3)\n",
    "print(Z)"
   ]
  },
  {
   "cell_type": "markdown",
   "metadata": {
    "id": "bkVgyfAB27Dk"
   },
   "source": [
    "#### 77. How to negate a boolean, or to change the sign of a float inplace? (★★★) \n",
    "(**hint**: np.logical_not, np.negative)"
   ]
  },
  {
   "cell_type": "code",
   "execution_count": 174,
   "metadata": {
    "id": "FoZNKp_Q27Dk"
   },
   "outputs": [
    {
     "data": {
      "text/plain": [
       "array([ 0.41337796,  0.17033989, -0.2098173 , -0.33018877, -0.78655661,\n",
       "       -0.2810103 ,  0.50691986, -0.69480657,  0.36058474,  0.50536424,\n",
       "       -0.83349484, -0.86772186,  0.21472857,  0.56800783,  0.10631782,\n",
       "        0.06290394,  0.95264696, -0.44571756,  0.46143504,  0.86449646,\n",
       "       -0.41572081, -0.16060844, -0.68638993,  0.98540497,  0.81464005,\n",
       "       -0.11557998, -0.89764814,  0.9301984 ,  0.66875492, -0.65526047,\n",
       "       -0.25518566,  0.62128824, -0.24465037, -0.91778871,  0.43728946,\n",
       "       -0.18367023, -0.76541601, -0.67087851,  0.0145175 , -0.937012  ,\n",
       "        0.6559393 ,  0.694857  ,  0.78767659,  0.75376579,  0.94494431,\n",
       "       -0.13458687,  0.33306245, -0.80449246, -0.32399236,  0.15194759,\n",
       "       -0.31376666, -0.07916551, -0.07663722, -0.29351274, -0.29414091,\n",
       "       -0.45273405, -0.01640882,  0.52784766, -0.27413721, -0.81874317,\n",
       "       -0.03197611,  0.15471764, -0.57641914,  0.61356197, -0.98308456,\n",
       "       -0.00853692,  0.49130179, -0.96165712, -0.75993807, -0.82353538,\n",
       "       -0.85174661,  0.94087948, -0.0364422 ,  0.24943985, -0.66436398,\n",
       "        0.7273521 ,  0.36977102,  0.83040577, -0.17704744, -0.18835006,\n",
       "       -0.72444146,  0.07583887,  0.33678744,  0.8514348 ,  0.21191124,\n",
       "        0.50628818,  0.91370016,  0.30693056, -0.93535136, -0.42239099,\n",
       "        0.49390161, -0.51856882, -0.85922046, -0.12102011,  0.68112524,\n",
       "       -0.22128885, -0.82857473,  0.99082277,  0.62876602,  0.54377665])"
      ]
     },
     "execution_count": 174,
     "metadata": {},
     "output_type": "execute_result"
    }
   ],
   "source": [
    "Z = np.random.randint(0,2,100)\n",
    "np.logical_not(Z, out=Z)\n",
    "\n",
    "Z = np.random.uniform(-1.0,1.0,100)\n",
    "np.negative(Z, out=Z)"
   ]
  },
  {
   "cell_type": "markdown",
   "metadata": {
    "id": "iB6Xt9hi27Dk"
   },
   "source": [
    "#### 78. Consider 2 sets of points P0,P1 describing lines (2d) and a point p, how to compute distance from p to each line i  (P0\\[i\\],P1\\[i\\])? (★★★)"
   ]
  },
  {
   "cell_type": "code",
   "execution_count": 175,
   "metadata": {
    "id": "MRIC8IFa27Dk"
   },
   "outputs": [
    {
     "name": "stdout",
     "output_type": "stream",
     "text": [
      "[ 0.86088852  3.06650339  8.11833537  6.96840793  0.21453174  2.09333538\n",
      "  1.4796529  10.80506539  9.80045451  8.59166414]\n"
     ]
    }
   ],
   "source": [
    "def distance(P0, P1, p):\n",
    "    T = P1 - P0\n",
    "    L = (T**2).sum(axis=1)\n",
    "    U = -((P0[:,0]-p[...,0])*T[:,0] + (P0[:,1]-p[...,1])*T[:,1]) / L\n",
    "    U = U.reshape(len(U),1)\n",
    "    D = P0 + U*T - p\n",
    "    return np.sqrt((D**2).sum(axis=1))\n",
    "\n",
    "P0 = np.random.uniform(-10,10,(10,2))\n",
    "P1 = np.random.uniform(-10,10,(10,2))\n",
    "p  = np.random.uniform(-10,10,( 1,2))\n",
    "print(distance(P0, P1, p))"
   ]
  },
  {
   "cell_type": "markdown",
   "metadata": {
    "id": "iv3y6WFb27Dk"
   },
   "source": [
    "#### 79. Consider 2 sets of points P0,P1 describing lines (2d) and a set of points P, how to compute distance from each point j (P\\[j\\]) to each line i (P0\\[i\\],P1\\[i\\])? (★★★)"
   ]
  },
  {
   "cell_type": "code",
   "execution_count": 176,
   "metadata": {
    "id": "tn3OFlg427Dk"
   },
   "outputs": [
    {
     "name": "stdout",
     "output_type": "stream",
     "text": [
      "[[10.40520742 11.52711584  0.34284533  6.1473237   5.12731395  1.58301902\n",
      "  12.98627567  9.42589038  3.05009224  4.00719067]\n",
      " [13.18392993  8.79988508  3.58327977  3.21857769  3.69777312  2.87004026\n",
      "  12.39262672  8.71212153  0.30215476  4.57511651]\n",
      " [14.59678178  6.80994455  5.75503016  1.68116408  2.35819273  4.13068286\n",
      "  11.53049583  7.77934484  2.24570839  4.42813481]\n",
      " [ 8.95700668 13.43628071  1.76980405  7.71275326  6.36780065  0.42204414\n",
      "  13.74871604 10.2586728   4.99052723  4.06354326]\n",
      " [ 0.13831522  9.19803514  0.93822492 16.24549039  2.32438506  9.4394626\n",
      "   3.46481129  0.15909252 10.74547852  7.30457545]\n",
      " [14.83635556  5.60955152  6.87305791  1.35140272  1.25455424  5.21167632\n",
      "  10.58282743  6.80600699  2.91728634  3.77988718]\n",
      " [ 7.29099145 14.38955097  3.12021224  9.41414422  6.53233877  0.33563869\n",
      "  13.47135493 10.04251363  6.73016237  3.23051583]\n",
      " [ 8.45212903  5.0767453   5.33497376  7.5361887   2.36630449  9.08702814\n",
      "   5.63242962  2.02373324  2.09012756  2.43571071]\n",
      " [ 3.16923341  3.43541559  5.10519806 12.5579738   6.58178728 13.500221\n",
      "   0.4211079   3.06751115  5.75795838  8.44615083]\n",
      " [10.51506695 10.62264186  1.16311329  5.96777419  4.26165936  2.43449077\n",
      "  12.22291497  8.64514242  2.6018252   3.45421857]]\n"
     ]
    }
   ],
   "source": [
    "P0 = np.random.uniform(-10, 10, (10,2))\n",
    "P1 = np.random.uniform(-10,10,(10,2))\n",
    "p = np.random.uniform(-10, 10, (10,2))\n",
    "print(np.array([distance(P0,P1,p_i) for p_i in p]))"
   ]
  },
  {
   "cell_type": "markdown",
   "metadata": {
    "id": "lcagYHIq27Dk"
   },
   "source": [
    "#### 80. Consider an arbitrary array, write a function that extract a subpart with a fixed shape and centered on a given element (pad with a `fill` value when necessary) (★★★) \n",
    "(**hint**: minimum, maximum)"
   ]
  },
  {
   "cell_type": "code",
   "execution_count": 177,
   "metadata": {
    "id": "6ZlrME6127Dk"
   },
   "outputs": [
    {
     "name": "stdout",
     "output_type": "stream",
     "text": [
      "[[2 8 0 3 7 5 9 9 6 9]\n",
      " [3 5 2 8 7 4 4 0 1 5]\n",
      " [1 2 6 5 6 2 8 5 3 2]\n",
      " [6 0 0 3 5 6 4 1 1 6]\n",
      " [5 5 6 3 3 8 9 4 1 8]\n",
      " [8 3 0 0 9 3 6 8 5 1]\n",
      " [0 6 2 2 1 5 7 8 4 2]\n",
      " [1 6 7 7 7 1 6 1 0 5]\n",
      " [8 2 6 9 0 8 4 4 8 7]\n",
      " [2 2 4 1 4 3 2 2 8 7]]\n",
      "[[0 0 0 0 0]\n",
      " [0 2 8 0 3]\n",
      " [0 3 5 2 8]\n",
      " [0 1 2 6 5]\n",
      " [0 6 0 0 3]]\n"
     ]
    },
    {
     "name": "stderr",
     "output_type": "stream",
     "text": [
      "C:\\Users\\Praveen\\Anaconda3\\lib\\site-packages\\ipykernel_launcher.py:23: FutureWarning: Using a non-tuple sequence for multidimensional indexing is deprecated; use `arr[tuple(seq)]` instead of `arr[seq]`. In the future this will be interpreted as an array index, `arr[np.array(seq)]`, which will result either in an error or a different result.\n"
     ]
    }
   ],
   "source": [
    "Z = np.random.randint(0,10,(10,10))\n",
    "shape = (5,5)\n",
    "fill  = 0\n",
    "position = (1,1)\n",
    "\n",
    "R = np.ones(shape, dtype=Z.dtype)*fill\n",
    "P  = np.array(list(position)).astype(int)\n",
    "Rs = np.array(list(R.shape)).astype(int)\n",
    "Zs = np.array(list(Z.shape)).astype(int)\n",
    "\n",
    "R_start = np.zeros((len(shape),)).astype(int)\n",
    "R_stop  = np.array(list(shape)).astype(int)\n",
    "Z_start = (P-Rs//2)\n",
    "Z_stop  = (P+Rs//2)+Rs%2\n",
    "\n",
    "R_start = (R_start - np.minimum(Z_start,0)).tolist()\n",
    "Z_start = (np.maximum(Z_start,0)).tolist()\n",
    "R_stop = np.maximum(R_start, (R_stop - np.maximum(Z_stop-Zs,0))).tolist()\n",
    "Z_stop = (np.minimum(Z_stop,Zs)).tolist()\n",
    "\n",
    "r = [slice(start,stop) for start,stop in zip(R_start,R_stop)]\n",
    "z = [slice(start,stop) for start,stop in zip(Z_start,Z_stop)]\n",
    "R[r] = Z[z]\n",
    "print(Z)\n",
    "print(R)"
   ]
  },
  {
   "cell_type": "markdown",
   "metadata": {
    "id": "gmwGSoZC27Dk"
   },
   "source": [
    "#### 81. Consider an array Z = \\[1,2,3,4,5,6,7,8,9,10,11,12,13,14\\], how to generate an array R = \\[\\[1,2,3,4\\], \\[2,3,4,5\\], \\[3,4,5,6\\], ..., \\[11,12,13,14\\]\\]? (★★★) \n",
    "(**hint**: stride\\_tricks.as\\_strided)"
   ]
  },
  {
   "cell_type": "code",
   "execution_count": 178,
   "metadata": {
    "id": "pU9mWdYx27Dk"
   },
   "outputs": [
    {
     "name": "stdout",
     "output_type": "stream",
     "text": [
      "[[ 1  2  3  4]\n",
      " [ 2  3  4  5]\n",
      " [ 3  4  5  6]\n",
      " [ 4  5  6  7]\n",
      " [ 5  6  7  8]\n",
      " [ 6  7  8  9]\n",
      " [ 7  8  9 10]\n",
      " [ 8  9 10 11]\n",
      " [ 9 10 11 12]\n",
      " [10 11 12 13]\n",
      " [11 12 13 14]]\n"
     ]
    }
   ],
   "source": [
    "Z = np.arange(1,15,dtype=np.uint32)\n",
    "R = stride_tricks.as_strided(Z,(11,4),(4,4))\n",
    "print(R)"
   ]
  },
  {
   "cell_type": "markdown",
   "metadata": {
    "id": "DeU32ahP27Dl"
   },
   "source": [
    "#### 82. Compute a matrix rank (★★★) \n",
    "(**hint**: np.linalg.svd) (suggestion: np.linalg.svd)"
   ]
  },
  {
   "cell_type": "code",
   "execution_count": 179,
   "metadata": {
    "id": "h89V3kq927Dl"
   },
   "outputs": [
    {
     "name": "stdout",
     "output_type": "stream",
     "text": [
      "10\n"
     ]
    }
   ],
   "source": [
    "Z = np.random.uniform(0,1,(10,10))\n",
    "U, S, V = np.linalg.svd(Z) # Singular Value Decomposition\n",
    "rank = np.sum(S > 1e-10)\n",
    "print(rank)"
   ]
  },
  {
   "cell_type": "markdown",
   "metadata": {
    "id": "Rndt11ap27Dl"
   },
   "source": [
    "#### 83. How to find the most frequent value in an array? \n",
    "(**hint**: np.bincount, argmax)"
   ]
  },
  {
   "cell_type": "code",
   "execution_count": 180,
   "metadata": {
    "id": "yDzoAvfV27Dl"
   },
   "outputs": [
    {
     "name": "stdout",
     "output_type": "stream",
     "text": [
      "9\n"
     ]
    }
   ],
   "source": [
    "Z = np.random.randint(0,10,50)\n",
    "print(np.bincount(Z).argmax())"
   ]
  },
  {
   "cell_type": "markdown",
   "metadata": {
    "id": "OAAPg8fD27Dl"
   },
   "source": [
    "#### 84. Extract all the contiguous 3x3 blocks from a random 10x10 matrix (★★★) \n",
    "(**hint**: stride\\_tricks.as\\_strided)"
   ]
  },
  {
   "cell_type": "code",
   "execution_count": 181,
   "metadata": {
    "id": "5DfMKcLi27Dl"
   },
   "outputs": [
    {
     "name": "stdout",
     "output_type": "stream",
     "text": [
      "[[[[3 3 4]\n",
      "   [4 3 2]\n",
      "   [4 1 4]]\n",
      "\n",
      "  [[3 4 0]\n",
      "   [3 2 1]\n",
      "   [1 4 2]]\n",
      "\n",
      "  [[4 0 4]\n",
      "   [2 1 2]\n",
      "   [4 2 1]]\n",
      "\n",
      "  [[0 4 0]\n",
      "   [1 2 3]\n",
      "   [2 1 2]]\n",
      "\n",
      "  [[4 0 0]\n",
      "   [2 3 0]\n",
      "   [1 2 0]]\n",
      "\n",
      "  [[0 0 4]\n",
      "   [3 0 0]\n",
      "   [2 0 2]]\n",
      "\n",
      "  [[0 4 1]\n",
      "   [0 0 0]\n",
      "   [0 2 0]]\n",
      "\n",
      "  [[4 1 0]\n",
      "   [0 0 2]\n",
      "   [2 0 2]]]\n",
      "\n",
      "\n",
      " [[[4 3 2]\n",
      "   [4 1 4]\n",
      "   [2 2 1]]\n",
      "\n",
      "  [[3 2 1]\n",
      "   [1 4 2]\n",
      "   [2 1 1]]\n",
      "\n",
      "  [[2 1 2]\n",
      "   [4 2 1]\n",
      "   [1 1 2]]\n",
      "\n",
      "  [[1 2 3]\n",
      "   [2 1 2]\n",
      "   [1 2 0]]\n",
      "\n",
      "  [[2 3 0]\n",
      "   [1 2 0]\n",
      "   [2 0 4]]\n",
      "\n",
      "  [[3 0 0]\n",
      "   [2 0 2]\n",
      "   [0 4 1]]\n",
      "\n",
      "  [[0 0 0]\n",
      "   [0 2 0]\n",
      "   [4 1 2]]\n",
      "\n",
      "  [[0 0 2]\n",
      "   [2 0 2]\n",
      "   [1 2 4]]]\n",
      "\n",
      "\n",
      " [[[4 1 4]\n",
      "   [2 2 1]\n",
      "   [1 0 4]]\n",
      "\n",
      "  [[1 4 2]\n",
      "   [2 1 1]\n",
      "   [0 4 2]]\n",
      "\n",
      "  [[4 2 1]\n",
      "   [1 1 2]\n",
      "   [4 2 3]]\n",
      "\n",
      "  [[2 1 2]\n",
      "   [1 2 0]\n",
      "   [2 3 0]]\n",
      "\n",
      "  [[1 2 0]\n",
      "   [2 0 4]\n",
      "   [3 0 4]]\n",
      "\n",
      "  [[2 0 2]\n",
      "   [0 4 1]\n",
      "   [0 4 4]]\n",
      "\n",
      "  [[0 2 0]\n",
      "   [4 1 2]\n",
      "   [4 4 4]]\n",
      "\n",
      "  [[2 0 2]\n",
      "   [1 2 4]\n",
      "   [4 4 2]]]\n",
      "\n",
      "\n",
      " [[[2 2 1]\n",
      "   [1 0 4]\n",
      "   [2 0 3]]\n",
      "\n",
      "  [[2 1 1]\n",
      "   [0 4 2]\n",
      "   [0 3 2]]\n",
      "\n",
      "  [[1 1 2]\n",
      "   [4 2 3]\n",
      "   [3 2 1]]\n",
      "\n",
      "  [[1 2 0]\n",
      "   [2 3 0]\n",
      "   [2 1 3]]\n",
      "\n",
      "  [[2 0 4]\n",
      "   [3 0 4]\n",
      "   [1 3 2]]\n",
      "\n",
      "  [[0 4 1]\n",
      "   [0 4 4]\n",
      "   [3 2 1]]\n",
      "\n",
      "  [[4 1 2]\n",
      "   [4 4 4]\n",
      "   [2 1 4]]\n",
      "\n",
      "  [[1 2 4]\n",
      "   [4 4 2]\n",
      "   [1 4 3]]]\n",
      "\n",
      "\n",
      " [[[1 0 4]\n",
      "   [2 0 3]\n",
      "   [0 1 1]]\n",
      "\n",
      "  [[0 4 2]\n",
      "   [0 3 2]\n",
      "   [1 1 4]]\n",
      "\n",
      "  [[4 2 3]\n",
      "   [3 2 1]\n",
      "   [1 4 1]]\n",
      "\n",
      "  [[2 3 0]\n",
      "   [2 1 3]\n",
      "   [4 1 3]]\n",
      "\n",
      "  [[3 0 4]\n",
      "   [1 3 2]\n",
      "   [1 3 0]]\n",
      "\n",
      "  [[0 4 4]\n",
      "   [3 2 1]\n",
      "   [3 0 2]]\n",
      "\n",
      "  [[4 4 4]\n",
      "   [2 1 4]\n",
      "   [0 2 2]]\n",
      "\n",
      "  [[4 4 2]\n",
      "   [1 4 3]\n",
      "   [2 2 3]]]\n",
      "\n",
      "\n",
      " [[[2 0 3]\n",
      "   [0 1 1]\n",
      "   [0 0 0]]\n",
      "\n",
      "  [[0 3 2]\n",
      "   [1 1 4]\n",
      "   [0 0 0]]\n",
      "\n",
      "  [[3 2 1]\n",
      "   [1 4 1]\n",
      "   [0 0 3]]\n",
      "\n",
      "  [[2 1 3]\n",
      "   [4 1 3]\n",
      "   [0 3 3]]\n",
      "\n",
      "  [[1 3 2]\n",
      "   [1 3 0]\n",
      "   [3 3 1]]\n",
      "\n",
      "  [[3 2 1]\n",
      "   [3 0 2]\n",
      "   [3 1 0]]\n",
      "\n",
      "  [[2 1 4]\n",
      "   [0 2 2]\n",
      "   [1 0 2]]\n",
      "\n",
      "  [[1 4 3]\n",
      "   [2 2 3]\n",
      "   [0 2 3]]]\n",
      "\n",
      "\n",
      " [[[0 1 1]\n",
      "   [0 0 0]\n",
      "   [1 0 3]]\n",
      "\n",
      "  [[1 1 4]\n",
      "   [0 0 0]\n",
      "   [0 3 2]]\n",
      "\n",
      "  [[1 4 1]\n",
      "   [0 0 3]\n",
      "   [3 2 3]]\n",
      "\n",
      "  [[4 1 3]\n",
      "   [0 3 3]\n",
      "   [2 3 2]]\n",
      "\n",
      "  [[1 3 0]\n",
      "   [3 3 1]\n",
      "   [3 2 2]]\n",
      "\n",
      "  [[3 0 2]\n",
      "   [3 1 0]\n",
      "   [2 2 0]]\n",
      "\n",
      "  [[0 2 2]\n",
      "   [1 0 2]\n",
      "   [2 0 2]]\n",
      "\n",
      "  [[2 2 3]\n",
      "   [0 2 3]\n",
      "   [0 2 1]]]\n",
      "\n",
      "\n",
      " [[[0 0 0]\n",
      "   [1 0 3]\n",
      "   [4 1 0]]\n",
      "\n",
      "  [[0 0 0]\n",
      "   [0 3 2]\n",
      "   [1 0 3]]\n",
      "\n",
      "  [[0 0 3]\n",
      "   [3 2 3]\n",
      "   [0 3 0]]\n",
      "\n",
      "  [[0 3 3]\n",
      "   [2 3 2]\n",
      "   [3 0 4]]\n",
      "\n",
      "  [[3 3 1]\n",
      "   [3 2 2]\n",
      "   [0 4 4]]\n",
      "\n",
      "  [[3 1 0]\n",
      "   [2 2 0]\n",
      "   [4 4 2]]\n",
      "\n",
      "  [[1 0 2]\n",
      "   [2 0 2]\n",
      "   [4 2 0]]\n",
      "\n",
      "  [[0 2 3]\n",
      "   [0 2 1]\n",
      "   [2 0 4]]]]\n"
     ]
    }
   ],
   "source": [
    "Z = np.random.randint(0,5,(10,10))\n",
    "n = 3\n",
    "i = 1 + (Z.shape[0]-3)\n",
    "j = 1 + (Z.shape[1]-3)\n",
    "C = stride_tricks.as_strided(Z, shape=(i, j, n, n), strides=Z.strides + Z.strides)\n",
    "print(C)"
   ]
  },
  {
   "cell_type": "markdown",
   "metadata": {
    "id": "KXzN42Ml27Dl"
   },
   "source": [
    "#### 85. Create a 2D array subclass such that Z\\[i,j\\] == Z\\[j,i\\] (★★★) \n",
    "(**hint**: class method)"
   ]
  },
  {
   "cell_type": "code",
   "execution_count": 182,
   "metadata": {
    "id": "4PUrPBao27Dl"
   },
   "outputs": [
    {
     "name": "stdout",
     "output_type": "stream",
     "text": [
      "[[ 0  9  5  1  4]\n",
      " [ 9  4  4 11 15]\n",
      " [ 5  4  1 42  2]\n",
      " [ 1 11 42  5  6]\n",
      " [ 4 15  2  6  3]]\n"
     ]
    }
   ],
   "source": [
    "class Symetric(np.ndarray):\n",
    "    def __setitem__(self, index, value):\n",
    "        i,j = index\n",
    "        super(Symetric, self).__setitem__((i,j), value)\n",
    "        super(Symetric, self).__setitem__((j,i), value)\n",
    "\n",
    "def symetric(Z):\n",
    "    return np.asarray(Z + Z.T - np.diag(Z.diagonal())).view(Symetric)\n",
    "\n",
    "S = symetric(np.random.randint(0,10,(5,5)))\n",
    "S[2,3] = 42\n",
    "print(S)"
   ]
  },
  {
   "cell_type": "markdown",
   "metadata": {
    "id": "UaCsHzQc27Dl"
   },
   "source": [
    "#### 86. Consider a set of p matrices wich shape (n,n) and a set of p vectors with shape (n,1). How to compute the sum of of the p matrix products at once? (result has shape (n,1)) (★★★) \n",
    "(**hint**: np.tensordot)"
   ]
  },
  {
   "cell_type": "code",
   "execution_count": 183,
   "metadata": {
    "id": "AcO28Mwm27Dm"
   },
   "outputs": [
    {
     "name": "stdout",
     "output_type": "stream",
     "text": [
      "[[200.]\n",
      " [200.]\n",
      " [200.]\n",
      " [200.]\n",
      " [200.]\n",
      " [200.]\n",
      " [200.]\n",
      " [200.]\n",
      " [200.]\n",
      " [200.]\n",
      " [200.]\n",
      " [200.]\n",
      " [200.]\n",
      " [200.]\n",
      " [200.]\n",
      " [200.]\n",
      " [200.]\n",
      " [200.]\n",
      " [200.]\n",
      " [200.]]\n"
     ]
    }
   ],
   "source": [
    "p, n = 10, 20\n",
    "M = np.ones((p,n,n))\n",
    "V = np.ones((p,n,1))\n",
    "S = np.tensordot(M, V, axes=[[0, 2], [0, 1]])\n",
    "print(S)"
   ]
  },
  {
   "cell_type": "markdown",
   "metadata": {
    "id": "eWAHgXUw27Dm"
   },
   "source": [
    "#### 87. Consider a 16x16 array, how to get the block-sum (block size is 4x4)? (★★★) \n",
    "(**hint**: np.add.reduceat)"
   ]
  },
  {
   "cell_type": "code",
   "execution_count": 185,
   "metadata": {
    "id": "HxSPmfxO27Dm"
   },
   "outputs": [
    {
     "name": "stdout",
     "output_type": "stream",
     "text": [
      "[[16. 16. 16. 16.]\n",
      " [16. 16. 16. 16.]\n",
      " [16. 16. 16. 16.]\n",
      " [16. 16. 16. 16.]]\n"
     ]
    }
   ],
   "source": [
    "Z = np.ones((16,16))\n",
    "k = 4\n",
    "S = np.add.reduceat(np.add.reduceat(Z, np.arange(0, Z.shape[0], k), axis=0),\n",
    "                                       np.arange(0, Z.shape[1], k), axis=1)\n",
    "print(S)"
   ]
  },
  {
   "cell_type": "markdown",
   "metadata": {
    "id": "kv-moYPK27Dm"
   },
   "source": [
    "#### 88. How to implement the Game of Life using numpy arrays? (★★★)"
   ]
  },
  {
   "cell_type": "code",
   "execution_count": 186,
   "metadata": {
    "id": "-ArswrGa27Dm"
   },
   "outputs": [
    {
     "name": "stdout",
     "output_type": "stream",
     "text": [
      "[[0 0 0 0 0 0 0 0 0 0 0 0 0 0 0 0 0 0 0 0 0 0 0 0 0 0 0 0 0 0 0 0 0 0 0 0\n",
      "  0 0 0 0 0 0 0 0 0 0 0 0 0 0]\n",
      " [0 0 0 0 0 0 0 0 0 0 0 0 0 0 0 0 0 0 0 0 0 0 0 0 0 0 0 0 0 0 0 0 0 0 0 0\n",
      "  0 0 0 0 0 0 0 0 0 0 0 0 0 0]\n",
      " [0 0 0 0 0 0 0 0 0 0 0 0 0 0 0 0 0 0 0 0 0 0 0 0 0 0 0 0 0 0 0 0 0 0 0 0\n",
      "  0 0 0 0 0 0 0 0 0 0 0 0 0 0]\n",
      " [0 0 1 1 0 0 0 0 0 0 0 0 0 0 0 0 0 0 0 0 0 0 0 0 0 0 0 0 0 0 0 0 0 0 0 0\n",
      "  0 0 0 0 0 0 0 0 0 0 0 0 0 0]\n",
      " [0 0 1 1 0 0 0 0 0 0 0 0 0 0 0 0 0 0 0 0 0 0 0 0 1 0 0 0 0 0 0 0 0 0 0 0\n",
      "  0 0 0 0 0 0 0 0 0 0 0 1 0 0]\n",
      " [0 0 0 0 0 0 0 0 0 0 0 0 0 0 0 1 1 1 1 0 0 0 0 1 0 1 0 0 0 0 0 0 0 0 0 0\n",
      "  0 0 0 0 0 0 0 0 0 0 0 1 0 0]\n",
      " [0 0 0 0 0 0 0 0 1 1 0 0 0 0 0 1 0 1 1 0 0 0 1 0 0 0 1 0 0 0 0 0 1 1 1 0\n",
      "  0 0 0 0 0 0 0 0 0 0 0 1 0 0]\n",
      " [0 0 0 0 0 0 0 1 0 1 0 0 0 0 0 0 0 1 1 0 0 0 1 0 0 1 0 0 0 0 0 0 0 0 0 0\n",
      "  0 0 0 0 0 0 0 0 0 0 0 0 0 0]\n",
      " [0 0 0 0 0 0 1 0 1 0 0 0 0 0 0 1 1 0 0 0 0 0 1 1 0 1 0 0 0 0 0 0 0 0 0 0\n",
      "  0 0 0 0 0 0 0 0 0 0 0 0 0 0]\n",
      " [0 0 0 0 0 0 0 1 0 0 0 0 0 0 0 1 0 0 0 0 0 0 1 0 0 1 0 0 0 0 0 0 0 0 0 0\n",
      "  0 0 0 0 0 0 0 0 0 0 0 0 0 0]\n",
      " [0 0 0 0 0 0 0 0 0 0 0 0 0 0 0 1 0 0 0 0 0 0 1 1 1 1 0 0 0 0 0 0 0 0 0 0\n",
      "  0 0 0 1 0 0 0 0 0 0 0 0 0 0]\n",
      " [0 0 0 0 0 0 0 0 0 0 0 0 0 0 0 0 0 0 0 0 0 1 1 1 0 0 1 0 0 0 0 0 0 0 0 0\n",
      "  0 0 1 0 1 0 0 0 0 0 0 0 0 0]\n",
      " [0 0 0 0 0 0 0 0 0 0 0 0 0 0 0 0 0 0 0 0 0 1 1 0 1 1 1 0 0 0 0 0 0 0 0 0\n",
      "  0 0 1 0 1 0 0 0 0 0 0 0 0 0]\n",
      " [0 0 0 0 0 0 0 0 0 0 0 0 0 0 0 0 0 0 0 0 0 0 0 0 1 1 0 0 0 0 0 0 0 0 0 0\n",
      "  0 0 0 1 0 0 0 0 0 0 0 0 0 0]\n",
      " [0 0 0 0 0 0 0 0 0 0 0 0 0 0 0 0 0 0 0 0 0 1 0 1 0 0 0 0 0 0 0 0 0 0 0 0\n",
      "  0 0 0 0 0 0 0 0 0 0 0 0 0 0]\n",
      " [0 0 0 0 0 0 0 0 0 0 0 0 0 0 0 0 0 0 0 0 0 0 1 1 0 0 0 0 0 0 0 0 0 0 1 1\n",
      "  0 0 0 0 0 0 0 1 1 0 0 0 0 0]\n",
      " [0 0 0 0 0 0 0 0 0 0 0 0 0 0 0 0 0 0 0 0 0 0 0 0 0 0 0 1 1 0 0 0 0 1 0 0\n",
      "  1 0 0 0 0 0 1 0 0 1 0 0 0 0]\n",
      " [0 0 0 0 0 0 0 0 0 0 0 0 0 0 0 0 0 0 0 0 0 0 0 0 0 0 1 0 0 1 0 0 0 0 1 1\n",
      "  0 0 0 0 0 0 0 1 1 0 0 0 0 0]\n",
      " [0 0 0 0 0 0 0 0 0 0 0 0 0 0 0 0 0 0 0 0 0 0 1 0 0 0 0 1 1 0 0 0 0 0 0 0\n",
      "  0 0 0 0 0 0 0 0 0 0 0 0 0 0]\n",
      " [0 0 0 0 0 0 0 0 0 0 0 0 0 0 0 0 0 0 0 0 0 1 0 0 0 0 0 0 0 0 0 0 0 0 0 0\n",
      "  0 0 0 1 0 0 0 0 0 0 0 0 0 0]\n",
      " [0 0 0 0 0 0 0 0 0 0 0 0 0 0 0 0 0 0 0 0 0 0 1 0 1 0 0 0 0 0 0 0 0 0 0 0\n",
      "  0 0 1 0 1 0 0 0 0 0 0 0 0 0]\n",
      " [0 0 0 0 0 0 0 0 0 0 0 0 0 0 0 0 0 0 0 0 0 0 0 0 1 1 0 0 0 0 0 0 0 0 0 0\n",
      "  0 0 1 0 1 0 0 0 0 0 0 0 0 0]\n",
      " [0 0 0 0 0 0 0 0 0 0 0 0 0 0 0 0 0 0 0 0 0 0 0 1 1 0 0 0 0 0 0 0 0 0 0 0\n",
      "  0 0 0 1 0 0 0 0 0 0 0 0 0 0]\n",
      " [0 0 0 0 0 0 0 0 0 0 0 0 0 0 0 0 1 1 1 0 0 0 0 0 0 0 0 0 0 0 0 0 0 0 0 0\n",
      "  0 0 0 0 0 0 0 0 0 0 0 0 0 0]\n",
      " [0 0 0 0 0 0 0 0 0 0 0 0 0 0 0 0 0 0 0 0 0 1 0 0 0 0 0 0 0 0 0 0 0 0 0 0\n",
      "  0 0 0 0 0 0 0 0 0 0 0 0 0 0]\n",
      " [0 0 0 0 0 0 0 0 0 0 0 0 0 0 0 0 1 1 0 1 0 0 1 1 0 0 0 0 0 0 0 0 0 0 0 0\n",
      "  0 0 0 0 0 0 0 0 0 0 0 0 0 0]\n",
      " [0 0 0 0 0 0 0 0 0 0 0 0 0 0 0 0 0 1 1 0 0 1 0 0 0 0 0 0 0 0 0 0 0 0 0 0\n",
      "  0 0 0 0 0 0 0 0 0 0 0 0 0 0]\n",
      " [0 0 0 0 0 0 0 0 0 0 0 0 0 0 0 0 0 0 1 1 0 0 0 0 0 0 0 0 0 0 0 0 0 0 0 0\n",
      "  0 0 0 0 0 0 1 1 0 0 0 0 0 0]\n",
      " [0 0 0 0 0 0 0 0 0 0 0 1 1 0 0 0 0 0 0 0 0 0 0 0 0 0 0 0 0 0 0 0 0 0 0 0\n",
      "  0 0 0 0 0 0 1 1 0 0 0 0 0 0]\n",
      " [0 0 0 0 0 0 0 0 0 0 0 1 1 0 0 0 0 0 0 0 0 0 0 0 0 0 0 0 0 0 0 0 0 0 0 0\n",
      "  0 0 0 0 0 0 0 0 0 0 0 0 0 0]\n",
      " [0 0 0 0 0 0 0 0 0 0 0 0 0 0 0 0 0 0 0 0 0 0 0 0 0 0 0 0 0 0 0 0 0 0 0 0\n",
      "  0 0 0 0 0 0 0 0 0 0 0 0 0 0]\n",
      " [0 0 0 0 0 0 0 0 0 0 0 0 0 0 0 0 0 0 0 0 0 0 0 0 0 0 0 0 0 0 0 0 0 0 0 0\n",
      "  0 0 0 0 0 0 0 0 0 0 0 0 0 0]\n",
      " [0 0 0 0 0 0 0 0 0 0 0 0 0 0 0 0 0 0 0 0 0 0 0 0 0 0 0 0 0 0 0 0 0 0 0 0\n",
      "  0 0 0 0 0 0 0 0 0 0 0 0 0 0]\n",
      " [0 0 0 0 0 0 0 0 0 0 0 0 0 0 0 0 0 0 0 0 0 0 0 0 0 0 0 0 0 0 0 0 0 0 0 0\n",
      "  0 0 0 0 0 0 0 0 0 0 0 0 0 0]\n",
      " [0 0 0 0 0 0 0 0 0 0 0 0 0 0 0 0 0 0 0 0 0 0 0 0 0 0 0 0 0 0 0 0 0 0 0 0\n",
      "  0 0 0 0 0 0 0 0 0 0 0 0 0 0]\n",
      " [0 0 0 0 0 0 0 0 0 0 0 0 0 0 0 0 0 0 0 0 0 0 0 0 0 0 0 0 0 0 0 0 0 0 0 0\n",
      "  0 0 0 1 1 0 0 0 0 0 0 0 0 0]\n",
      " [0 0 0 0 0 0 0 0 0 0 0 0 0 0 0 0 0 0 0 0 0 0 0 0 0 0 0 0 0 0 0 0 0 0 0 0\n",
      "  0 0 0 1 1 0 0 0 0 0 0 0 0 0]\n",
      " [0 0 0 0 0 0 0 0 0 0 0 0 0 0 0 0 0 0 0 0 0 0 0 0 0 0 0 0 0 0 0 0 0 0 0 0\n",
      "  0 0 0 0 0 0 0 0 0 0 0 0 0 0]\n",
      " [0 0 0 0 0 0 0 0 1 1 0 0 0 0 0 0 0 0 0 0 0 0 0 0 0 0 0 0 0 0 0 0 0 0 0 0\n",
      "  0 0 0 0 0 0 0 0 0 0 0 0 0 0]\n",
      " [0 0 0 0 0 0 0 0 1 1 0 0 0 0 0 0 0 0 0 0 0 0 0 0 0 0 0 0 0 0 0 0 0 0 0 0\n",
      "  0 0 0 0 0 0 0 0 0 0 0 0 0 0]\n",
      " [0 0 0 0 0 0 0 0 0 0 0 0 0 0 0 0 0 0 0 0 0 0 0 0 0 0 0 0 0 0 0 0 0 0 0 0\n",
      "  0 0 0 0 0 0 0 1 1 0 0 0 0 0]\n",
      " [0 0 0 0 0 0 0 0 0 0 0 0 0 0 0 0 0 0 0 0 0 0 0 0 0 0 0 0 0 0 0 0 0 0 0 0\n",
      "  0 0 0 0 0 0 0 1 1 0 0 0 0 0]\n",
      " [0 0 0 0 0 0 0 0 0 0 0 0 0 0 0 0 0 0 0 0 0 0 0 0 0 0 0 0 0 0 0 0 0 0 0 0\n",
      "  0 0 0 0 0 0 0 0 0 0 0 1 1 0]\n",
      " [0 0 0 0 0 0 0 0 0 0 0 0 0 0 0 0 0 0 0 0 0 0 0 0 0 0 0 0 0 0 0 0 0 0 0 0\n",
      "  0 0 0 0 0 0 0 0 0 0 0 1 1 0]\n",
      " [0 0 0 0 0 0 0 0 0 0 0 0 0 0 0 0 0 0 0 0 0 0 0 0 0 0 0 0 0 0 0 0 0 0 0 0\n",
      "  0 0 0 0 0 0 0 0 0 0 0 0 0 0]\n",
      " [0 0 0 0 0 0 0 0 0 0 0 0 0 0 0 0 0 0 0 0 0 1 1 0 0 0 0 0 0 0 0 0 0 0 0 0\n",
      "  0 0 0 0 0 0 0 0 0 0 0 0 0 0]\n",
      " [0 0 0 0 0 0 0 0 0 0 0 0 0 0 0 0 0 0 0 0 0 1 1 0 0 0 0 0 0 0 0 0 0 0 0 1\n",
      "  1 0 0 0 0 0 0 0 0 0 0 0 0 0]\n",
      " [0 0 0 0 0 0 0 0 0 0 0 0 0 0 0 0 0 0 0 0 0 0 0 0 0 0 0 0 0 0 0 0 0 0 1 0\n",
      "  0 1 0 0 0 0 0 0 0 0 0 0 0 0]\n",
      " [0 0 0 0 0 0 0 0 0 0 0 0 0 0 0 0 0 0 0 0 0 0 0 0 0 0 0 0 0 0 0 0 0 0 0 1\n",
      "  1 0 0 0 0 0 0 0 0 0 0 0 0 0]\n",
      " [0 0 0 0 0 0 0 0 0 0 0 0 0 0 0 0 0 0 0 0 0 0 0 0 0 0 0 0 0 0 0 0 0 0 0 0\n",
      "  0 0 0 0 0 0 0 0 0 0 0 0 0 0]]\n"
     ]
    }
   ],
   "source": [
    "def iterate(Z):\n",
    "    # Count neighbours\n",
    "    N = (Z[0:-2,0:-2] + Z[0:-2,1:-1] + Z[0:-2,2:] +\n",
    "         Z[1:-1,0:-2]                + Z[1:-1,2:] +\n",
    "         Z[2:  ,0:-2] + Z[2:  ,1:-1] + Z[2:  ,2:])\n",
    "\n",
    "    # Apply rules\n",
    "    birth = (N==3) & (Z[1:-1,1:-1]==0)\n",
    "    survive = ((N==2) | (N==3)) & (Z[1:-1,1:-1]==1)\n",
    "    Z[...] = 0\n",
    "    Z[1:-1,1:-1][birth | survive] = 1\n",
    "    return Z\n",
    "\n",
    "Z = np.random.randint(0,2,(50,50))\n",
    "for i in range(100): Z = iterate(Z)\n",
    "print(Z)"
   ]
  },
  {
   "cell_type": "markdown",
   "metadata": {
    "id": "liVKxE2H27Dm"
   },
   "source": [
    "#### 89. How to get the n largest values of an array (★★★) \n",
    "(**hint**: np.argsort | np.argpartition)"
   ]
  },
  {
   "cell_type": "code",
   "execution_count": 187,
   "metadata": {
    "id": "JuqNsXrY27Dm"
   },
   "outputs": [
    {
     "name": "stdout",
     "output_type": "stream",
     "text": [
      "[9999 9998 9997 9996 9995]\n"
     ]
    }
   ],
   "source": [
    "Z = np.arange(10000)\n",
    "np.random.shuffle(Z)\n",
    "n = 5\n",
    "print (Z[np.argpartition(-Z,n)[:n]])"
   ]
  },
  {
   "cell_type": "markdown",
   "metadata": {
    "id": "l8OM7M8027Dm"
   },
   "source": [
    "#### 90. Given an arbitrary number of vectors, build the cartesian product (every combinations of every item) (★★★) \n",
    "(**hint**: np.indices)"
   ]
  },
  {
   "cell_type": "code",
   "execution_count": 188,
   "metadata": {
    "id": "kCHIrdlT27Dm",
    "scrolled": true
   },
   "outputs": [
    {
     "name": "stdout",
     "output_type": "stream",
     "text": [
      "[[1 4 6]\n",
      " [1 4 7]\n",
      " [1 5 6]\n",
      " [1 5 7]\n",
      " [2 4 6]\n",
      " [2 4 7]\n",
      " [2 5 6]\n",
      " [2 5 7]\n",
      " [3 4 6]\n",
      " [3 4 7]\n",
      " [3 5 6]\n",
      " [3 5 7]]\n"
     ]
    }
   ],
   "source": [
    "def cartesian(arrays):\n",
    "    arrays = [np.asarray(a) for a in arrays]\n",
    "    shape = (len(x) for x in arrays)\n",
    "\n",
    "    ix = np.indices(shape, dtype=int)\n",
    "    ix = ix.reshape(len(arrays), -1).T\n",
    "\n",
    "    for n, arr in enumerate(arrays):\n",
    "        ix[:, n] = arrays[n][ix[:, n]]\n",
    "\n",
    "    return ix\n",
    "\n",
    "print (cartesian(([1, 2, 3], [4, 5], [6, 7])))"
   ]
  },
  {
   "cell_type": "markdown",
   "metadata": {
    "id": "8m1Tpn5X27Dm"
   },
   "source": [
    "#### 91. How to create a record array from a regular array? (★★★) \n",
    "(**hint**: np.core.records.fromarrays)"
   ]
  },
  {
   "cell_type": "code",
   "execution_count": 189,
   "metadata": {
    "id": "K_q3e1NA27Dm"
   },
   "outputs": [
    {
     "name": "stdout",
     "output_type": "stream",
     "text": [
      "[(b'Hello', 2.5, 3) (b'World', 3.6, 2)]\n"
     ]
    }
   ],
   "source": [
    "Z = np.array([(\"Hello\", 2.5, 3),\n",
    "              (\"World\", 3.6, 2)])\n",
    "R = np.core.records.fromarrays(Z.T, \n",
    "                               names='col1, col2, col3',\n",
    "                               formats = 'S8, f8, i8')\n",
    "print(R)"
   ]
  },
  {
   "cell_type": "markdown",
   "metadata": {
    "id": "9eVPnzpr27Dn"
   },
   "source": [
    "#### 92. Consider a large vector Z, compute Z to the power of 3 using 3 different methods (★★★) \n",
    "(**hint**: np.power, \\*, np.einsum)"
   ]
  },
  {
   "cell_type": "code",
   "execution_count": 192,
   "metadata": {
    "id": "EeaQi9qz27Dn"
   },
   "outputs": [],
   "source": [
    "x = np.random.rand(5e7)\n",
    "\n",
    "%timeit np.power(x,3)\n",
    "%timeit x*x*x\n",
    "%timeit np.einsum('i,i,i->i',x,x,x)"
   ]
  },
  {
   "cell_type": "markdown",
   "metadata": {
    "id": "5Q2X1Dtf27Dn"
   },
   "source": [
    "#### 93. Consider two arrays A and B of shape (8,3) and (2,2). How to find rows of A that contain elements of each row of B regardless of the order of the elements in B? (★★★) \n",
    "(**hint**: np.where)"
   ]
  },
  {
   "cell_type": "code",
   "execution_count": 193,
   "metadata": {
    "id": "sJPcOarQ27Dn"
   },
   "outputs": [
    {
     "name": "stdout",
     "output_type": "stream",
     "text": [
      "[1 2 4 5]\n"
     ]
    }
   ],
   "source": [
    "A = np.random.randint(0,5,(8,3))\n",
    "B = np.random.randint(0,5,(2,2))\n",
    "\n",
    "C = (A[..., np.newaxis, np.newaxis] == B)\n",
    "rows = np.where(C.any((3,1)).all(1))[0]\n",
    "print(rows)"
   ]
  },
  {
   "cell_type": "markdown",
   "metadata": {
    "id": "P5VHznoH27Dn"
   },
   "source": [
    "#### 94. Considering a 10x3 matrix, extract rows with unequal values (e.g. \\[2,2,3\\]) (★★★)"
   ]
  },
  {
   "cell_type": "code",
   "execution_count": 194,
   "metadata": {
    "id": "SOuOjWlQ27Dn"
   },
   "outputs": [
    {
     "name": "stdout",
     "output_type": "stream",
     "text": [
      "[[4 4 3]\n",
      " [0 4 1]\n",
      " [4 1 0]\n",
      " [0 4 4]\n",
      " [4 2 4]\n",
      " [4 2 3]\n",
      " [4 3 3]\n",
      " [1 2 3]\n",
      " [1 4 3]\n",
      " [1 1 2]]\n",
      "[[4 4 3]\n",
      " [0 4 1]\n",
      " [4 1 0]\n",
      " [0 4 4]\n",
      " [4 2 4]\n",
      " [4 2 3]\n",
      " [4 3 3]\n",
      " [1 2 3]\n",
      " [1 4 3]\n",
      " [1 1 2]]\n"
     ]
    }
   ],
   "source": [
    "Z = np.random.randint(0,5,(10,3))\n",
    "print(Z)\n",
    "U = Z[~(Z[:,0,None]==Z[:,1:]).all(axis=1)]\n",
    "print(U)"
   ]
  },
  {
   "cell_type": "markdown",
   "metadata": {
    "id": "K-I7KgFs27Dn"
   },
   "source": [
    "#### 95. Convert a vector of ints into a matrix binary representation (★★★) \n",
    "(**hint**: np.unpackbits)"
   ]
  },
  {
   "cell_type": "code",
   "execution_count": 195,
   "metadata": {
    "id": "lYkWE7aS27Dn"
   },
   "outputs": [
    {
     "name": "stdout",
     "output_type": "stream",
     "text": [
      "[[0 0 0 0 0 0 0 0]\n",
      " [0 0 0 0 0 0 0 1]\n",
      " [0 0 0 0 0 0 1 0]\n",
      " [0 0 0 0 0 0 1 1]\n",
      " [0 0 0 0 1 1 1 1]\n",
      " [0 0 0 1 0 0 0 0]\n",
      " [0 0 1 0 0 0 0 0]\n",
      " [0 1 0 0 0 0 0 0]\n",
      " [1 0 0 0 0 0 0 0]]\n"
     ]
    }
   ],
   "source": [
    "I = np.array([0, 1, 2, 3, 15, 16, 32, 64, 128])\n",
    "B = ((I.reshape(-1,1) & (2**np.arange(8))) != 0).astype(int)\n",
    "print(B[:,::-1])"
   ]
  },
  {
   "cell_type": "markdown",
   "metadata": {
    "id": "QybU8bjd27Dn"
   },
   "source": [
    "#### 96. Given a two dimensional array, how to extract unique rows? (★★★) \n",
    "(**hint**: np.ascontiguousarray)"
   ]
  },
  {
   "cell_type": "code",
   "execution_count": 196,
   "metadata": {
    "id": "66PuBx_Y27Dn"
   },
   "outputs": [
    {
     "name": "stdout",
     "output_type": "stream",
     "text": [
      "[[1 0 1]\n",
      " [1 1 0]\n",
      " [1 1 1]]\n"
     ]
    }
   ],
   "source": [
    "Z = np.random.randint(0,2,(6,3))\n",
    "T = np.ascontiguousarray(Z).view(np.dtype((np.void, Z.dtype.itemsize * Z.shape[1])))\n",
    "_, idx = np.unique(T, return_index=True)\n",
    "uZ = Z[idx]\n",
    "print(uZ)"
   ]
  },
  {
   "cell_type": "markdown",
   "metadata": {
    "id": "SjGMsdlj27Dn"
   },
   "source": [
    "#### 97. Considering 2 vectors A & B, write the einsum equivalent of inner, outer, sum, and mul function (★★★) \n",
    "(**hint**: np.einsum)"
   ]
  },
  {
   "cell_type": "code",
   "execution_count": 197,
   "metadata": {
    "id": "S22nodbO27Dn"
   },
   "outputs": [
    {
     "data": {
      "text/plain": [
       "array([[0.08006272, 0.06328439, 0.08567873, 0.0711593 , 0.08865348,\n",
       "        0.09912765, 0.07040826, 0.05963513, 0.0637317 , 0.04519085],\n",
       "       [0.62947929, 0.49756258, 0.67363421, 0.5594777 , 0.69702269,\n",
       "        0.77937406, 0.5535728 , 0.46887095, 0.50107946, 0.35530526],\n",
       "       [0.0133123 , 0.01052251, 0.01424609, 0.0118319 , 0.01474071,\n",
       "        0.01648229, 0.01170702, 0.00991573, 0.01059688, 0.00751403],\n",
       "       [0.1514323 , 0.11969742, 0.16205454, 0.13459219, 0.16768105,\n",
       "        0.18749212, 0.13317166, 0.11279514, 0.12054347, 0.08547492],\n",
       "       [0.08008746, 0.06330395, 0.08570521, 0.07118129, 0.08868088,\n",
       "        0.09915829, 0.07043002, 0.05965357, 0.06375139, 0.04520482],\n",
       "       [0.51628452, 0.40808946, 0.55249938, 0.45887082, 0.57168208,\n",
       "        0.63922479, 0.45402775, 0.38455724, 0.41097392, 0.29141325],\n",
       "       [0.48499789, 0.3833594 , 0.51901814, 0.43106344, 0.53703838,\n",
       "        0.60048803, 0.42651386, 0.36125323, 0.38606907, 0.27375373],\n",
       "       [0.45400796, 0.35886387, 0.48585442, 0.40351976, 0.50272322,\n",
       "        0.56211863, 0.39926089, 0.33817022, 0.3614004 , 0.25626168],\n",
       "       [0.23372102, 0.18474132, 0.25011541, 0.20772995, 0.25879938,\n",
       "        0.28937584, 0.2055375 , 0.17408833, 0.18604711, 0.13192222],\n",
       "       [0.78053951, 0.6169659 , 0.83529058, 0.69373919, 0.86429174,\n",
       "        0.96640551, 0.68641725, 0.58138896, 0.62132675, 0.44057017]])"
      ]
     },
     "execution_count": 197,
     "metadata": {},
     "output_type": "execute_result"
    }
   ],
   "source": [
    "A = np.random.uniform(0,1,10)\n",
    "B = np.random.uniform(0,1,10)\n",
    "\n",
    "np.einsum('i->', A)       # np.sum(A)\n",
    "np.einsum('i,i->i', A, B) # A * B\n",
    "np.einsum('i,i', A, B)    # np.inner(A, B)\n",
    "np.einsum('i,j->ij', A, B)    # np.outer(A, B)"
   ]
  },
  {
   "cell_type": "markdown",
   "metadata": {
    "id": "b9-Ay4my27Dn"
   },
   "source": [
    "#### 98. Considering a path described by two vectors (X,Y), how to sample it using equidistant samples (★★★)? \n",
    "(**hint**: np.cumsum, np.interp)"
   ]
  },
  {
   "cell_type": "code",
   "execution_count": 198,
   "metadata": {
    "id": "C80lzkiB27Dn"
   },
   "outputs": [],
   "source": [
    "phi = np.arange(0, 10*np.pi, 0.1)\n",
    "a = 1\n",
    "x = a*phi*np.cos(phi)\n",
    "y = a*phi*np.sin(phi)\n",
    "\n",
    "dr = (np.diff(x)**2 + np.diff(y)**2)**.5\n",
    "r = np.zeros_like(x)\n",
    "r[1:] = np.cumsum(dr)\n",
    "r_int = np.linspace(0, r.max(), 200)\n",
    "x_int = np.interp(r_int, r, x)\n",
    "y_int = np.interp(r_int, r, y)"
   ]
  },
  {
   "cell_type": "markdown",
   "metadata": {
    "id": "Ru77zRza27Dn"
   },
   "source": [
    "#### 99. Given an integer n and a 2D array X, select from X the rows which can be interpreted as draws from a multinomial distribution with n degrees, i.e., the rows which only contain integers and which sum to n. (★★★) \n",
    "(**hint**: np.logical\\_and.reduce, np.mod)"
   ]
  },
  {
   "cell_type": "code",
   "execution_count": 199,
   "metadata": {
    "id": "NrRM6uEP27Do"
   },
   "outputs": [
    {
     "name": "stdout",
     "output_type": "stream",
     "text": [
      "[[2. 0. 1. 1.]]\n"
     ]
    }
   ],
   "source": [
    "X = np.asarray([[1.0, 0.0, 3.0, 8.0],\n",
    "                [2.0, 0.0, 1.0, 1.0],\n",
    "                [1.5, 2.5, 1.0, 0.0]])\n",
    "n = 4\n",
    "M = np.logical_and.reduce(np.mod(X, 1) == 0, axis=-1)\n",
    "M &= (X.sum(axis=-1) == n)\n",
    "print(X[M])"
   ]
  },
  {
   "cell_type": "markdown",
   "metadata": {
    "id": "Q8HiPqCr27Do"
   },
   "source": [
    "#### 100. Compute bootstrapped 95% confidence intervals for the mean of a 1D array X (i.e., resample the elements of an array with replacement N times, compute the mean of each sample, and then compute percentiles over the means). (★★★) \n",
    "(**hint**: np.percentile)"
   ]
  },
  {
   "cell_type": "code",
   "execution_count": 200,
   "metadata": {
    "id": "MdZBeJI827Do"
   },
   "outputs": [
    {
     "name": "stdout",
     "output_type": "stream",
     "text": [
      "[-0.23651869  0.15553188]\n"
     ]
    }
   ],
   "source": [
    "X = np.random.randn(100) # random 1D array\n",
    "N = 1000 # number of bootstrap samples\n",
    "idx = np.random.randint(0, X.size, (N, X.size))\n",
    "means = X[idx].mean(axis=1)\n",
    "confint = np.percentile(means, [2.5, 97.5])\n",
    "print(confint)"
   ]
  }
 ],
 "metadata": {
  "colab": {
   "provenance": []
  },
  "kernelspec": {
   "display_name": "Python 3",
   "language": "python",
   "name": "python3"
  },
  "language_info": {
   "codemirror_mode": {
    "name": "ipython",
    "version": 3
   },
   "file_extension": ".py",
   "mimetype": "text/x-python",
   "name": "python",
   "nbconvert_exporter": "python",
   "pygments_lexer": "ipython3",
   "version": "3.7.3"
  }
 },
 "nbformat": 4,
 "nbformat_minor": 1
}
